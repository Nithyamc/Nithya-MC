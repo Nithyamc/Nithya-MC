{
 "cells": [
  {
   "cell_type": "markdown",
   "id": "ae59de6d-b7fa-4cbb-8c9f-57fad7edc6fc",
   "metadata": {},
   "source": [
    "# class and objects"
   ]
  },
  {
   "cell_type": "code",
   "execution_count": 1,
   "id": "06405326-b1ba-4c78-88cd-a3f33411f7e0",
   "metadata": {},
   "outputs": [
    {
     "name": "stdout",
     "output_type": "stream",
     "text": [
      "<class 'str'>\n"
     ]
    }
   ],
   "source": [
    "a='hello world'\n",
    "print(type(a))"
   ]
  },
  {
   "cell_type": "code",
   "execution_count": 2,
   "id": "bb1a41fd-2a18-43bc-8df7-3868404903a1",
   "metadata": {},
   "outputs": [
    {
     "data": {
      "text/plain": [
       "'Hello world'"
      ]
     },
     "execution_count": 2,
     "metadata": {},
     "output_type": "execute_result"
    }
   ],
   "source": [
    "a.capitalize()"
   ]
  },
  {
   "cell_type": "code",
   "execution_count": 3,
   "id": "745240d5-84e7-4c62-ba92-f88c3cff0225",
   "metadata": {},
   "outputs": [
    {
     "name": "stdout",
     "output_type": "stream",
     "text": [
      "<class 'list'>\n"
     ]
    }
   ],
   "source": [
    "l=[1,2,3]\n",
    "print(type(l))"
   ]
  },
  {
   "cell_type": "code",
   "execution_count": 9,
   "id": "e964a660-882d-438b-82c3-4db3599a4501",
   "metadata": {},
   "outputs": [
    {
     "data": {
      "text/plain": [
       "7"
      ]
     },
     "execution_count": 9,
     "metadata": {},
     "output_type": "execute_result"
    }
   ],
   "source": [
    "list1=[1,2,3,4,5,6,7]\n",
    "len(list1)"
   ]
  },
  {
   "cell_type": "code",
   "execution_count": 10,
   "id": "ca450fd6-2d17-49f8-b52b-8dc7a09233a3",
   "metadata": {},
   "outputs": [
    {
     "data": {
      "text/plain": [
       "[1, 2, 3, 4, 5, 6, 7, 9]"
      ]
     },
     "execution_count": 10,
     "metadata": {},
     "output_type": "execute_result"
    }
   ],
   "source": [
    "list1.append(9)\n",
    "list1"
   ]
  },
  {
   "cell_type": "code",
   "execution_count": 12,
   "id": "bc0e9be0-e4dc-46cc-a6e5-f356d6402a91",
   "metadata": {},
   "outputs": [
    {
     "data": {
      "text/plain": [
       "[1, 2, 3, 4, 5, 6, 7, 9, 34, 65, 13]"
      ]
     },
     "execution_count": 12,
     "metadata": {},
     "output_type": "execute_result"
    }
   ],
   "source": [
    "list1.extend([34,65,13])\n",
    "list1"
   ]
  },
  {
   "cell_type": "code",
   "execution_count": 13,
   "id": "44122495-d766-4824-ba84-3854d8f70440",
   "metadata": {},
   "outputs": [
    {
     "data": {
      "text/plain": [
       "65"
      ]
     },
     "execution_count": 13,
     "metadata": {},
     "output_type": "execute_result"
    }
   ],
   "source": [
    "max(list1)"
   ]
  },
  {
   "cell_type": "code",
   "execution_count": 14,
   "id": "e7806d32-d935-409b-8673-1082a9b3321e",
   "metadata": {},
   "outputs": [
    {
     "data": {
      "text/plain": [
       "1"
      ]
     },
     "execution_count": 14,
     "metadata": {},
     "output_type": "execute_result"
    }
   ],
   "source": [
    "min(list1)"
   ]
  },
  {
   "cell_type": "code",
   "execution_count": 15,
   "id": "b45c3b9c-587b-45ce-877e-2b9eea221a4e",
   "metadata": {},
   "outputs": [
    {
     "data": {
      "text/plain": [
       "149"
      ]
     },
     "execution_count": 15,
     "metadata": {},
     "output_type": "execute_result"
    }
   ],
   "source": [
    "sum(list1)"
   ]
  },
  {
   "cell_type": "code",
   "execution_count": 17,
   "id": "ed16618d-f77b-4224-999b-be283665ed1a",
   "metadata": {},
   "outputs": [],
   "source": [
    "class mobile_phone:\n",
    "    def __init__(self,a_col,b_size,c_numc):\n",
    "        self.color = a_col\n",
    "        self.size = b_size\n",
    "        self.camera = c_numc\n",
    "\n",
    "    def calling(self,call_rates):\n",
    "        print(f\"i am calling using {self.color} cell phone and the cell rates per second is {call_rates}\")\n",
    "\n",
    "samsung=mobile_phone(\"red\",10,2)"
   ]
  },
  {
   "cell_type": "code",
   "execution_count": 18,
   "id": "94f60a7e-4d3c-426f-8190-0e135927174e",
   "metadata": {},
   "outputs": [
    {
     "data": {
      "text/plain": [
       "'red'"
      ]
     },
     "execution_count": 18,
     "metadata": {},
     "output_type": "execute_result"
    }
   ],
   "source": [
    "samsung.color"
   ]
  },
  {
   "cell_type": "code",
   "execution_count": 19,
   "id": "8a940d75-ce2f-4d99-9e67-c29f47daec6c",
   "metadata": {},
   "outputs": [
    {
     "data": {
      "text/plain": [
       "10"
      ]
     },
     "execution_count": 19,
     "metadata": {},
     "output_type": "execute_result"
    }
   ],
   "source": [
    "samsung.size"
   ]
  },
  {
   "cell_type": "code",
   "execution_count": 20,
   "id": "6d82fefe-da00-4264-84b4-d7478ce2cf8a",
   "metadata": {},
   "outputs": [
    {
     "data": {
      "text/plain": [
       "2"
      ]
     },
     "execution_count": 20,
     "metadata": {},
     "output_type": "execute_result"
    }
   ],
   "source": [
    "samsung.camera"
   ]
  },
  {
   "cell_type": "code",
   "execution_count": 24,
   "id": "32eaf0a8-88fb-4db3-88fd-47537de4ddff",
   "metadata": {},
   "outputs": [
    {
     "name": "stdout",
     "output_type": "stream",
     "text": [
      "i am calling red cell phone and the cell rates per second is 0.5\n"
     ]
    }
   ],
   "source": [
    "samsung.calling(0.5)"
   ]
  },
  {
   "cell_type": "code",
   "execution_count": 25,
   "id": "aa59839f-ca72-40b5-b7ea-cd5671ce483d",
   "metadata": {},
   "outputs": [
    {
     "data": {
      "text/plain": [
       "<bound method mobile_phone.calling of <__main__.mobile_phone object at 0x0000018F9771B650>>"
      ]
     },
     "execution_count": 25,
     "metadata": {},
     "output_type": "execute_result"
    }
   ],
   "source": [
    "samsung.calling"
   ]
  },
  {
   "cell_type": "code",
   "execution_count": 35,
   "id": "a1a60e05-2278-4a81-81fb-f06fc86c7316",
   "metadata": {},
   "outputs": [],
   "source": [
    "class goldenvillas:\n",
    "    def __init__(self,a,b,c,d,e):\n",
    "        self.color=a\n",
    "        self.is_furnish=b\n",
    "        self.is_rent=c\n",
    "        self.rooms=d\n",
    "        self.parking=e\n",
    "        \n",
    "    def describe_villa(self):\n",
    "        print(f'this villa ia having {self.color} color and it furnished and it is rented properly')\n",
    "\n",
    "obj=goldenvillas('white','yes',4000,2,'available')\n",
    "    "
   ]
  },
  {
   "cell_type": "code",
   "execution_count": 36,
   "id": "c854652f-387a-4b4c-9075-2def56ef7d13",
   "metadata": {},
   "outputs": [
    {
     "data": {
      "text/plain": [
       "'white'"
      ]
     },
     "execution_count": 36,
     "metadata": {},
     "output_type": "execute_result"
    }
   ],
   "source": [
    "obj.color"
   ]
  },
  {
   "cell_type": "code",
   "execution_count": 37,
   "id": "13af7ade-9783-4796-9892-4dc19e665acd",
   "metadata": {},
   "outputs": [
    {
     "name": "stdout",
     "output_type": "stream",
     "text": [
      "this villa ia having white color and it furnished and it is rented properly\n"
     ]
    }
   ],
   "source": [
    "obj.describe_villa()"
   ]
  },
  {
   "cell_type": "code",
   "execution_count": 38,
   "id": "579ab150-510b-4a4e-887a-02461df635b4",
   "metadata": {},
   "outputs": [
    {
     "data": {
      "text/plain": [
       "'yes'"
      ]
     },
     "execution_count": 38,
     "metadata": {},
     "output_type": "execute_result"
    }
   ],
   "source": [
    "obj.is_furnish"
   ]
  },
  {
   "cell_type": "code",
   "execution_count": 39,
   "id": "a5140702-2a65-49d5-b2fd-26ffdd323b3d",
   "metadata": {},
   "outputs": [
    {
     "data": {
      "text/plain": [
       "'available'"
      ]
     },
     "execution_count": 39,
     "metadata": {},
     "output_type": "execute_result"
    }
   ],
   "source": [
    "obj.parking"
   ]
  },
  {
   "cell_type": "code",
   "execution_count": 51,
   "id": "1ff63ae2-9359-4dd0-a98a-afbd5d6d1416",
   "metadata": {},
   "outputs": [],
   "source": [
    "class Person:\n",
    "    def __init__(self,a,b):\n",
    "        self.name=a\n",
    "        self.age=b\n",
    "\n",
    "    def introduce(self,a):\n",
    "        print(f'my name is {a} an i am {self.age} years old.')\n",
    "\n",
    "person=Person('alice',23)"
   ]
  },
  {
   "cell_type": "code",
   "execution_count": 52,
   "id": "d656c96b-c336-40af-a2ef-68daa484dd8a",
   "metadata": {},
   "outputs": [
    {
     "data": {
      "text/plain": [
       "'alice'"
      ]
     },
     "execution_count": 52,
     "metadata": {},
     "output_type": "execute_result"
    }
   ],
   "source": [
    "person.name"
   ]
  },
  {
   "cell_type": "code",
   "execution_count": 53,
   "id": "05d3958f-75ce-4abb-895c-7fe9e362780b",
   "metadata": {},
   "outputs": [
    {
     "data": {
      "text/plain": [
       "23"
      ]
     },
     "execution_count": 53,
     "metadata": {},
     "output_type": "execute_result"
    }
   ],
   "source": [
    "person.age"
   ]
  },
  {
   "cell_type": "code",
   "execution_count": 54,
   "id": "230d9ecb-47a5-4aec-97ed-64b3260a6699",
   "metadata": {},
   "outputs": [
    {
     "name": "stdout",
     "output_type": "stream",
     "text": [
      "my name is alice an i am 23 years old.\n"
     ]
    }
   ],
   "source": [
    "person.introduce('alice')"
   ]
  },
  {
   "cell_type": "code",
   "execution_count": null,
   "id": "a32f63a1-2529-4787-9258-f9b59cb6e951",
   "metadata": {},
   "outputs": [],
   "source": []
  }
 ],
 "metadata": {
  "kernelspec": {
   "display_name": "Python [conda env:base] *",
   "language": "python",
   "name": "conda-base-py"
  },
  "language_info": {
   "codemirror_mode": {
    "name": "ipython",
    "version": 3
   },
   "file_extension": ".py",
   "mimetype": "text/x-python",
   "name": "python",
   "nbconvert_exporter": "python",
   "pygments_lexer": "ipython3",
   "version": "3.12.7"
  }
 },
 "nbformat": 4,
 "nbformat_minor": 5
}
