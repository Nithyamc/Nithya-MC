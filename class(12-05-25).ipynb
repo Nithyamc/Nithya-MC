{
 "cells": [
  {
   "cell_type": "code",
   "execution_count": null,
   "id": "879c3792-9212-41b2-b566-fc9bb9168ebe",
   "metadata": {},
   "outputs": [],
   "source": []
  },
  {
   "cell_type": "code",
   "execution_count": null,
   "id": "18b7602b-67d3-4176-b4de-7fcd119105b6",
   "metadata": {},
   "outputs": [],
   "source": []
  },
  {
   "cell_type": "code",
   "execution_count": 88,
   "id": "0fc0512a-05b7-41fd-b276-186b0f611594",
   "metadata": {},
   "outputs": [
    {
     "name": "stdout",
     "output_type": "stream",
     "text": [
      "(1, 'hello', 3.14)\n"
     ]
    }
   ],
   "source": [
    "#  3. heterogeneous\n",
    "\n",
    "my_tup=(1,'hello',3.14)\n",
    "print(my_tup)"
   ]
  },
  {
   "cell_type": "code",
   "execution_count": null,
   "id": "f81b49fe-cbae-4c50-85bc-760c3992093f",
   "metadata": {},
   "outputs": [],
   "source": []
  },
  {
   "cell_type": "code",
   "execution_count": 89,
   "id": "1581c101-0074-49e7-a144-21aa49fc82da",
   "metadata": {},
   "outputs": [
    {
     "name": "stdout",
     "output_type": "stream",
     "text": [
      "30\n",
      "(20, 30, 40)\n"
     ]
    }
   ],
   "source": [
    "# 4. indexing n slicing\n",
    "my_tuple=(10,20,30,40,50)\n",
    "print(my_tuple[2])\n",
    "print(my_tuple[1:4])"
   ]
  },
  {
   "cell_type": "code",
   "execution_count": 90,
   "id": "9838be63-584c-4b51-87f8-c2301133236f",
   "metadata": {},
   "outputs": [
    {
     "data": {
      "text/plain": [
       "30"
      ]
     },
     "execution_count": 90,
     "metadata": {},
     "output_type": "execute_result"
    }
   ],
   "source": [
    "my_tuple[2]"
   ]
  },
  {
   "cell_type": "code",
   "execution_count": 91,
   "id": "a4c57fff-c81e-46ce-8081-702cfcdb0aa9",
   "metadata": {},
   "outputs": [
    {
     "data": {
      "text/plain": [
       "tuple"
      ]
     },
     "execution_count": 91,
     "metadata": {},
     "output_type": "execute_result"
    }
   ],
   "source": [
    "# 5. packing and unpacking\n",
    "# packing\n",
    "my_tup=1,2,3\n",
    "type(my_tup)"
   ]
  },
  {
   "cell_type": "code",
   "execution_count": 92,
   "id": "f46c77b2-6674-4639-ae36-a154f1e4c4b4",
   "metadata": {},
   "outputs": [
    {
     "name": "stdout",
     "output_type": "stream",
     "text": [
      "(1, 2, 3)\n"
     ]
    }
   ],
   "source": [
    "print(my_tup)"
   ]
  },
  {
   "cell_type": "code",
   "execution_count": 93,
   "id": "5c48aa9f-45c2-4fd9-befe-607520ac1c43",
   "metadata": {},
   "outputs": [
    {
     "name": "stdout",
     "output_type": "stream",
     "text": [
      "1 2 3\n"
     ]
    }
   ],
   "source": [
    "#  unpacking\n",
    "a,b,c=my_tup\n",
    "print(a,b,c)"
   ]
  },
  {
   "cell_type": "code",
   "execution_count": 94,
   "id": "91bbb8a4-8146-4fae-87fd-fa040312b41e",
   "metadata": {},
   "outputs": [
    {
     "data": {
      "text/plain": [
       "1"
      ]
     },
     "execution_count": 94,
     "metadata": {},
     "output_type": "execute_result"
    }
   ],
   "source": [
    "a"
   ]
  },
  {
   "cell_type": "code",
   "execution_count": 95,
   "id": "540b3b5b-8eea-4b12-99bf-b6564d1cc6ad",
   "metadata": {},
   "outputs": [
    {
     "data": {
      "text/plain": [
       "2"
      ]
     },
     "execution_count": 95,
     "metadata": {},
     "output_type": "execute_result"
    }
   ],
   "source": [
    "b"
   ]
  },
  {
   "cell_type": "code",
   "execution_count": 96,
   "id": "3a2c4d3d-084c-4de1-a299-ce98ca734f64",
   "metadata": {},
   "outputs": [
    {
     "data": {
      "text/plain": [
       "3"
      ]
     },
     "execution_count": 96,
     "metadata": {},
     "output_type": "execute_result"
    }
   ],
   "source": [
    "c"
   ]
  },
  {
   "cell_type": "code",
   "execution_count": 97,
   "id": "6e9cb668-7b1c-4815-9117-02a9d72785f4",
   "metadata": {},
   "outputs": [
    {
     "name": "stdout",
     "output_type": "stream",
     "text": [
      "('john', 25, 'engineer')\n"
     ]
    }
   ],
   "source": [
    "person=('john',25,'engineer')\n",
    "print(person)"
   ]
  },
  {
   "cell_type": "code",
   "execution_count": 98,
   "id": "76c2c43e-6cc5-44f7-beea-09b1a8d4310c",
   "metadata": {},
   "outputs": [
    {
     "name": "stdout",
     "output_type": "stream",
     "text": [
      "10 20 30\n"
     ]
    }
   ],
   "source": [
    "coordinates=(10,20,30)\n",
    "x=coordinates[0]\n",
    "y=coordinates[1]\n",
    "z=coordinates[2]\n",
    "print(x,y,z)\n"
   ]
  },
  {
   "cell_type": "code",
   "execution_count": 99,
   "id": "96c0999e-110c-40cd-a599-4d866a84532a",
   "metadata": {},
   "outputs": [
    {
     "data": {
      "text/plain": [
       "1"
      ]
     },
     "execution_count": 99,
     "metadata": {},
     "output_type": "execute_result"
    }
   ],
   "source": [
    "l=[[1,2,3,4],[5,6,7,8]]\n",
    "l[0][0]"
   ]
  },
  {
   "cell_type": "code",
   "execution_count": 100,
   "id": "c3db605e-4bcc-403e-a914-4e6aac94bdef",
   "metadata": {},
   "outputs": [
    {
     "data": {
      "text/plain": [
       "3"
      ]
     },
     "execution_count": 100,
     "metadata": {},
     "output_type": "execute_result"
    }
   ],
   "source": [
    "# nested tuples\n",
    "\n",
    "nested_tup=(1,(2,3),(4,(5,6)))\n",
    "nested_tup[1][1]"
   ]
  },
  {
   "cell_type": "code",
   "execution_count": 101,
   "id": "29477c2b-f398-40be-b879-2787b74c9873",
   "metadata": {},
   "outputs": [
    {
     "data": {
      "text/plain": [
       "5"
      ]
     },
     "execution_count": 101,
     "metadata": {},
     "output_type": "execute_result"
    }
   ],
   "source": [
    "nested_tup[2][1][0]"
   ]
  },
  {
   "cell_type": "code",
   "execution_count": 102,
   "id": "3babe7a0-31bc-4c69-ac6f-7baeebe137fe",
   "metadata": {},
   "outputs": [
    {
     "data": {
      "text/plain": [
       "(5, 6)"
      ]
     },
     "execution_count": 102,
     "metadata": {},
     "output_type": "execute_result"
    }
   ],
   "source": [
    "nested_tup[2][1]"
   ]
  },
  {
   "cell_type": "code",
   "execution_count": 103,
   "id": "882bc819-89aa-4695-85de-0e47338711c2",
   "metadata": {},
   "outputs": [
    {
     "name": "stdout",
     "output_type": "stream",
     "text": [
      "(2, 3)\n",
      "(1, 2, 3, 4)\n",
      "(3, 4, 5, 6)\n"
     ]
    }
   ],
   "source": [
    "#  slicing a tuple\n",
    "my_tup=(1,2,3,4,5,6)\n",
    "slice1=my_tup[1:3]\n",
    "slice2=my_tup[:4]\n",
    "slice3=my_tup[2:]\n",
    "print(slice1)\n",
    "print(slice2)\n",
    "print(slice3)"
   ]
  },
  {
   "cell_type": "code",
   "execution_count": 104,
   "id": "43cf6f18-d88c-40ae-aadd-df5046578139",
   "metadata": {},
   "outputs": [],
   "source": [
    "#  accessing elements in nested tuples\n"
   ]
  },
  {
   "cell_type": "code",
   "execution_count": 105,
   "id": "9c2a8249-07cb-4961-be61-93e314366d03",
   "metadata": {},
   "outputs": [],
   "source": [
    "# question time"
   ]
  },
  {
   "cell_type": "code",
   "execution_count": 106,
   "id": "b13dcddf-efc4-4b23-a451-382c21745f51",
   "metadata": {},
   "outputs": [
    {
     "name": "stdout",
     "output_type": "stream",
     "text": [
      "(10, 20, 30)\n"
     ]
    }
   ],
   "source": [
    "numbers=(10,20,30,40,50,)\n",
    "new=numbers[0:3]\n",
    "print(new)"
   ]
  },
  {
   "cell_type": "code",
   "execution_count": 107,
   "id": "42e7e71b-4f5a-4270-a027-bdcb1e598f1b",
   "metadata": {},
   "outputs": [
    {
     "name": "stdout",
     "output_type": "stream",
     "text": [
      "cherry\n"
     ]
    }
   ],
   "source": [
    "fruits=('apple','banana','cherry','date','elderberry')\n",
    "cherry=fruits[2]\n",
    "print(cherry)"
   ]
  },
  {
   "cell_type": "code",
   "execution_count": 108,
   "id": "f2b38344-ff8c-492e-967a-ef092c9d8fc8",
   "metadata": {},
   "outputs": [
    {
     "data": {
      "text/plain": [
       "'purple'"
      ]
     },
     "execution_count": 108,
     "metadata": {},
     "output_type": "execute_result"
    }
   ],
   "source": [
    "colors=('red','green','blue','yellow','purple')\n",
    "colors[-1]"
   ]
  },
  {
   "cell_type": "code",
   "execution_count": 109,
   "id": "c27c6633-7cf7-44ff-8d1e-a0dea9102561",
   "metadata": {},
   "outputs": [
    {
     "name": "stdout",
     "output_type": "stream",
     "text": [
      "blue\n",
      "blue\n"
     ]
    }
   ],
   "source": [
    "print(colors[-3])\n",
    "print(colors[2])"
   ]
  },
  {
   "cell_type": "raw",
   "id": "4dc8926b-2fba-49d6-af8e-60fca15fd6ee",
   "metadata": {},
   "source": [
    "nested_tup=(1,(2,3),(4,(5,6),7),8)\n",
    "nested_tup[2][1][0]"
   ]
  },
  {
   "cell_type": "code",
   "execution_count": 110,
   "id": "e8a3ccaf-f6ea-4d10-82ec-f60cf0b9c6b6",
   "metadata": {},
   "outputs": [
    {
     "data": {
      "text/plain": [
       "tuple"
      ]
     },
     "execution_count": 110,
     "metadata": {},
     "output_type": "execute_result"
    }
   ],
   "source": [
    "fruits=('apple','banana','cherry')\n",
    "type(fruits)"
   ]
  },
  {
   "cell_type": "code",
   "execution_count": 111,
   "id": "e6334ef2-6a25-4368-8247-fd8afd91e149",
   "metadata": {},
   "outputs": [
    {
     "data": {
      "text/plain": [
       "['apple', 'banana', 'cherry', 'mango']"
      ]
     },
     "execution_count": 111,
     "metadata": {},
     "output_type": "execute_result"
    }
   ],
   "source": [
    "a=list(fruits)\n",
    "a.append('mango')\n",
    "a"
   ]
  },
  {
   "cell_type": "code",
   "execution_count": 112,
   "id": "7bce82a8-33fc-48f0-8163-1b4345f2cf5a",
   "metadata": {},
   "outputs": [
    {
     "data": {
      "text/plain": [
       "('apple', 'banana', 'cherry', 'mango')"
      ]
     },
     "execution_count": 112,
     "metadata": {},
     "output_type": "execute_result"
    }
   ],
   "source": [
    "b=tuple(a)\n",
    "b"
   ]
  },
  {
   "cell_type": "code",
   "execution_count": 113,
   "id": "07888042-a6e1-4cea-8ac4-5ca782177f87",
   "metadata": {},
   "outputs": [
    {
     "data": {
      "text/plain": [
       "('apple', 'banana', 'cherry')"
      ]
     },
     "execution_count": 113,
     "metadata": {},
     "output_type": "execute_result"
    }
   ],
   "source": [
    "fruits"
   ]
  },
  {
   "cell_type": "code",
   "execution_count": 114,
   "id": "4b6ad070-f4f5-4486-a3eb-5e2017b5d2e0",
   "metadata": {},
   "outputs": [
    {
     "data": {
      "text/plain": [
       "tuple"
      ]
     },
     "execution_count": 114,
     "metadata": {},
     "output_type": "execute_result"
    }
   ],
   "source": [
    "type(b)"
   ]
  },
  {
   "cell_type": "code",
   "execution_count": 115,
   "id": "4edc7664-d253-4403-8df9-e53dc73e43ee",
   "metadata": {},
   "outputs": [
    {
     "name": "stdout",
     "output_type": "stream",
     "text": [
      "('apple', 'blueberry', 'cherry')\n"
     ]
    }
   ],
   "source": [
    "#  concatenate slices of tuples\n",
    "fruits=('apple','banana','cherry')\n",
    "new=fruits[:1]+('blueberry',)+fruits[2:]\n",
    "print(new)"
   ]
  },
  {
   "cell_type": "code",
   "execution_count": 116,
   "id": "873c4a33-ed8c-4285-83ed-a1d05cedc87a",
   "metadata": {},
   "outputs": [
    {
     "name": "stdout",
     "output_type": "stream",
     "text": [
      "('apple', 'banana', 'cherry', 'date')\n"
     ]
    }
   ],
   "source": [
    "# using concatenation to add elements\n",
    "fruits=('apple','banana','cherry')\n",
    "f1=fruits+('date',)\n",
    "print(f1)"
   ]
  },
  {
   "cell_type": "code",
   "execution_count": 117,
   "id": "252ab16b-9120-449c-9027-2049a1e467da",
   "metadata": {},
   "outputs": [],
   "source": [
    "# deletong a tuple\n",
    "del fruits"
   ]
  },
  {
   "cell_type": "code",
   "execution_count": 118,
   "id": "a9ebe9e8-0905-49e0-8282-e1a974b80f6c",
   "metadata": {},
   "outputs": [
    {
     "data": {
      "text/plain": [
       "(1, 2, 3, 1, 2, 3, 1, 2, 3)"
      ]
     },
     "execution_count": 118,
     "metadata": {},
     "output_type": "execute_result"
    }
   ],
   "source": [
    "#  tuple arithmetic operations\n",
    "#  multiplication\n",
    "t1=(1,2,3)\n",
    "t1*3"
   ]
  },
  {
   "cell_type": "code",
   "execution_count": 119,
   "id": "34a1213c-3f23-420e-8c1e-95fa3ee8b9c7",
   "metadata": {},
   "outputs": [],
   "source": [
    "# membership operator\n",
    "# in operator\n",
    "#  not in operator"
   ]
  },
  {
   "cell_type": "code",
   "execution_count": 120,
   "id": "f1ef0bfb-a511-4d5f-bbef-c2ee90cad000",
   "metadata": {},
   "outputs": [],
   "source": [
    "# count\n",
    "# for loop\n",
    "# index\n",
    "# sorted"
   ]
  },
  {
   "cell_type": "code",
   "execution_count": 121,
   "id": "31e8a435-fa17-481c-84bc-766fb1279350",
   "metadata": {},
   "outputs": [
    {
     "data": {
      "text/plain": [
       "2"
      ]
     },
     "execution_count": 121,
     "metadata": {},
     "output_type": "execute_result"
    }
   ],
   "source": [
    "# index\n",
    "my_tup=('a','b','c','d')\n",
    "my_tup.index('c')"
   ]
  },
  {
   "cell_type": "code",
   "execution_count": 122,
   "id": "f97be674-9d56-4177-a3bb-a9dbc81d861a",
   "metadata": {},
   "outputs": [
    {
     "data": {
      "text/plain": [
       "4"
      ]
     },
     "execution_count": 122,
     "metadata": {},
     "output_type": "execute_result"
    }
   ],
   "source": [
    "# len\n",
    "my_tup=(1,2,3,4)\n",
    "len(my_tup)"
   ]
  },
  {
   "cell_type": "code",
   "execution_count": 123,
   "id": "7bedaf2a-ec5f-40b3-88fd-e5bb982161e4",
   "metadata": {},
   "outputs": [
    {
     "data": {
      "text/plain": [
       "78"
      ]
     },
     "execution_count": 123,
     "metadata": {},
     "output_type": "execute_result"
    }
   ],
   "source": [
    "# max\n",
    "my_tuple=(15,78,34,14)\n",
    "max(my_tuple)"
   ]
  },
  {
   "cell_type": "code",
   "execution_count": 124,
   "id": "aaebf1e1-7f27-4dc9-80dc-c987d81a83b3",
   "metadata": {},
   "outputs": [
    {
     "data": {
      "text/plain": [
       "14"
      ]
     },
     "execution_count": 124,
     "metadata": {},
     "output_type": "execute_result"
    }
   ],
   "source": [
    "min(my_tuple)"
   ]
  },
  {
   "cell_type": "code",
   "execution_count": 1,
   "id": "646abe87-414d-48c3-bce2-7cc60b56ef21",
   "metadata": {},
   "outputs": [
    {
     "name": "stdout",
     "output_type": "stream",
     "text": [
      "[14, 15, 34, 78]\n"
     ]
    }
   ],
   "source": [
    "my_tuple=(15,78,34,14)\n",
    "sorted_tuple=sorted(my_tuple)\n",
    "print(sorted_tuple)"
   ]
  },
  {
   "cell_type": "code",
   "execution_count": 126,
   "id": "bdf10f99-a577-49ee-bf7b-8481e0375129",
   "metadata": {},
   "outputs": [
    {
     "name": "stdout",
     "output_type": "stream",
     "text": [
      "highest score is 92\n",
      "lowest score is 76\n"
     ]
    }
   ],
   "source": [
    "scores=(88,76,92,85,79)\n",
    "highest=max(scores)\n",
    "lowest=min(scores)\n",
    "print(f'highest score is {highest}')\n",
    "print(f'lowest score is {lowest}')"
   ]
  },
  {
   "cell_type": "code",
   "execution_count": 2,
   "id": "bcfd59ba-c94c-4c36-9c91-dc30ea1a825b",
   "metadata": {},
   "outputs": [
    {
     "data": {
      "text/plain": [
       "True"
      ]
     },
     "execution_count": 2,
     "metadata": {},
     "output_type": "execute_result"
    }
   ],
   "source": [
    "cities=('new york','los angeles','paris','london','tokyo')\n",
    "'paris' in cities"
   ]
  },
  {
   "cell_type": "code",
   "execution_count": null,
   "id": "3a9b319a-c33a-4f7f-9759-51fdf7390dd6",
   "metadata": {},
   "outputs": [],
   "source": [
    "box=('length','width','height')\n",
    "volume="
   ]
  }
 ],
 "metadata": {
  "kernelspec": {
   "display_name": "Python [conda env:base] *",
   "language": "python",
   "name": "conda-base-py"
  },
  "language_info": {
   "codemirror_mode": {
    "name": "ipython",
    "version": 3
   },
   "file_extension": ".py",
   "mimetype": "text/x-python",
   "name": "python",
   "nbconvert_exporter": "python",
   "pygments_lexer": "ipython3",
   "version": "3.12.7"
  }
 },
 "nbformat": 4,
 "nbformat_minor": 5
}
