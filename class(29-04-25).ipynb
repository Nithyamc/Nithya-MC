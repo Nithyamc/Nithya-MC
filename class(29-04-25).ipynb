{
 "cells": [
  {
   "cell_type": "markdown",
   "id": "b6018a37-27fe-4120-9c2e-deb50fc4f6b1",
   "metadata": {},
   "source": [
    "boolean opearator"
   ]
  },
  {
   "cell_type": "code",
   "execution_count": 1,
   "id": "d17548bb-3ede-4a67-ade5-3d13e0a41a3c",
   "metadata": {},
   "outputs": [
    {
     "data": {
      "text/plain": [
       "True"
      ]
     },
     "execution_count": 1,
     "metadata": {},
     "output_type": "execute_result"
    }
   ],
   "source": [
    "a=4\n",
    "b=6\n",
    "a<=b"
   ]
  },
  {
   "cell_type": "code",
   "execution_count": 4,
   "id": "de7f2f0f-da78-4045-9f38-6a00660fa36c",
   "metadata": {},
   "outputs": [
    {
     "name": "stdout",
     "output_type": "stream",
     "text": [
      "has the student passed? True\n"
     ]
    }
   ],
   "source": [
    "#question time\n",
    "score=75\n",
    "has_passed = (score>=60) #result is true bcoz 75 is greater than 60\n",
    "print(\"has the student passed?\",has_passed)"
   ]
  },
  {
   "cell_type": "code",
   "execution_count": 6,
   "id": "b8e5cb76-aeb8-4308-9434-ec6688ebb7fe",
   "metadata": {},
   "outputs": [
    {
     "name": "stdout",
     "output_type": "stream",
     "text": [
      " is item1 cheaper than item2?  True\n"
     ]
    }
   ],
   "source": [
    "item1=40\n",
    "item2=50\n",
    "check=(item1<item2)\n",
    "print(\" is item1 cheaper than item2? \",check)"
   ]
  },
  {
   "cell_type": "markdown",
   "id": "4cc6dc82-ca7a-45a0-a5f9-b33647a573b7",
   "metadata": {},
   "source": [
    "logical operators"
   ]
  },
  {
   "cell_type": "code",
   "execution_count": 7,
   "id": "558e967e-edcb-4209-b61f-47f9519fb13e",
   "metadata": {},
   "outputs": [],
   "source": [
    "# is a symbol or keyword used to combine multiple boolean expressions n return a single value(true or false)\n",
    "# not and or"
   ]
  },
  {
   "cell_type": "code",
   "execution_count": null,
   "id": "54245c2c-1537-4ef1-97ec-0dca305c6749",
   "metadata": {},
   "outputs": [],
   "source": [
    "True 1\n",
    "False 0"
   ]
  },
  {
   "cell_type": "code",
   "execution_count": 10,
   "id": "7864049e-a3f6-4ff5-a229-e2ec59634319",
   "metadata": {},
   "outputs": [
    {
     "data": {
      "text/plain": [
       "False"
      ]
     },
     "execution_count": 10,
     "metadata": {},
     "output_type": "execute_result"
    }
   ],
   "source": [
    "3>2 and 3<2\n",
    "True and False"
   ]
  },
  {
   "cell_type": "code",
   "execution_count": 12,
   "id": "5f5a8d8a-0b9d-4a7a-a779-3d4fff4ea6be",
   "metadata": {},
   "outputs": [
    {
     "data": {
      "text/plain": [
       "False"
      ]
     },
     "execution_count": 12,
     "metadata": {},
     "output_type": "execute_result"
    }
   ],
   "source": [
    "3>2 and 4>5\n",
    "True and False"
   ]
  },
  {
   "cell_type": "code",
   "execution_count": null,
   "id": "b4d4d800-b508-4b91-86f7-037d24c43f94",
   "metadata": {},
   "outputs": [],
   "source": [
    "1*1=1\n",
    "1*0=0\n",
    "0*1=0\n",
    "0*0=0"
   ]
  },
  {
   "cell_type": "markdown",
   "id": "7bcdcb9a-6f38-4eac-8689-7ebc1c5f1a06",
   "metadata": {},
   "source": [
    "bitwise operator"
   ]
  },
  {
   "cell_type": "markdown",
   "id": "e573799a-f17c-45a4-8060-310a9185e3ac",
   "metadata": {},
   "source": [
    "membership opearator"
   ]
  },
  {
   "cell_type": "code",
   "execution_count": 16,
   "id": "6120572e-c069-4bca-8828-ad53c2a96e9c",
   "metadata": {},
   "outputs": [
    {
     "name": "stdout",
     "output_type": "stream",
     "text": [
      "True\n",
      "False\n"
     ]
    }
   ],
   "source": [
    "# 'in' operator\n",
    "list1=[1,2,3,4,5]\n",
    "print(3 in list1)\n",
    "print(6 in list1)"
   ]
  },
  {
   "cell_type": "code",
   "execution_count": 19,
   "id": "2b721ba6-998c-468f-9a9e-561200e9e354",
   "metadata": {},
   "outputs": [
    {
     "name": "stdout",
     "output_type": "stream",
     "text": [
      "True\n",
      "False\n"
     ]
    }
   ],
   "source": [
    "string=\"hello world!\"\n",
    "print('world' in string)\n",
    "print('3' in string)"
   ]
  },
  {
   "cell_type": "code",
   "execution_count": 20,
   "id": "c23bb9a5-785c-42e3-b892-8e3fdee2b073",
   "metadata": {},
   "outputs": [
    {
     "name": "stdout",
     "output_type": "stream",
     "text": [
      "False\n",
      "True\n"
     ]
    }
   ],
   "source": [
    "#'not' in operator\n",
    "list2=[1,2,3,4,5]\n",
    "print(3 not in list2)\n",
    "print(6 not in list2)\n"
   ]
  },
  {
   "cell_type": "code",
   "execution_count": 24,
   "id": "d3f9aa5f-7453-4b24-a070-1b29371bafcd",
   "metadata": {},
   "outputs": [
    {
     "name": "stdout",
     "output_type": "stream",
     "text": [
      "False\n",
      "True\n",
      "True\n"
     ]
    }
   ],
   "source": [
    "string=\"hello world!\"\n",
    "print('world' not in string)\n",
    "print('n' not in string)\n",
    "print('lort' not in string)"
   ]
  },
  {
   "cell_type": "markdown",
   "id": "fd0b846b-1262-46e4-8e60-f63259b8faf3",
   "metadata": {},
   "source": [
    "if statement"
   ]
  },
  {
   "cell_type": "code",
   "execution_count": 27,
   "id": "20bdbc89-3709-4dde-b5c4-fd944ed60368",
   "metadata": {},
   "outputs": [
    {
     "data": {
      "text/plain": [
       "True"
      ]
     },
     "execution_count": 27,
     "metadata": {},
     "output_type": "execute_result"
    }
   ],
   "source": [
    "age=18\n",
    "age>=18"
   ]
  },
  {
   "cell_type": "code",
   "execution_count": 28,
   "id": "ed1fccee-6247-4819-93e7-69e0d964f1b0",
   "metadata": {},
   "outputs": [
    {
     "name": "stdout",
     "output_type": "stream",
     "text": [
      "you are eligible to vote\n",
      "this will print any how\n"
     ]
    }
   ],
   "source": [
    "age=19\n",
    "if age>=18:\n",
    "    print(\"you are eligible to vote\")\n",
    "print(\"this will print any how\")    "
   ]
  },
  {
   "cell_type": "code",
   "execution_count": 30,
   "id": "bfd24798-303a-4368-86ca-eb041a2a6b82",
   "metadata": {},
   "outputs": [],
   "source": [
    "# if statement\n",
    "if 5<2:      # ntg got printed\n",
    "    print('greater')"
   ]
  },
  {
   "cell_type": "code",
   "execution_count": 31,
   "id": "0b63227b-3f56-4edb-ad85-5126d72d48da",
   "metadata": {},
   "outputs": [
    {
     "name": "stdout",
     "output_type": "stream",
     "text": [
      "greater\n"
     ]
    }
   ],
   "source": [
    "#if statement in single line\n",
    "if 5>2: print('greater')"
   ]
  },
  {
   "cell_type": "code",
   "execution_count": 32,
   "id": "e70be7b8-1759-4546-bfb8-facfbca5063a",
   "metadata": {},
   "outputs": [
    {
     "name": "stdout",
     "output_type": "stream",
     "text": [
      "greater\n",
      "this will print any how\n"
     ]
    }
   ],
   "source": [
    "a\n",
    "if 5>2:\n",
    "    print(\"greater\")\n",
    "print(\"this will print any how\")"
   ]
  },
  {
   "cell_type": "code",
   "execution_count": 33,
   "id": "404b1e9c-f2b3-482d-829e-592706261a0c",
   "metadata": {},
   "outputs": [
    {
     "name": "stdout",
     "output_type": "stream",
     "text": [
      "if statement with logical operator\n",
      "statement 2\n"
     ]
    }
   ],
   "source": [
    "if 5>2 or 7<3: # True or False\n",
    "    print(\"if statement with logical operator\")\n",
    "    print(\"statement 2\")\n"
   ]
  },
  {
   "cell_type": "code",
   "execution_count": 34,
   "id": "39c5cd5e-9eb1-40f0-89fc-16ac3f238979",
   "metadata": {},
   "outputs": [],
   "source": [
    "if 5>2 and 7<3: # True or False\n",
    "    print(\"if statement with logical operator\")\n",
    "    print(\"statement 2\") #ntg will print"
   ]
  },
  {
   "cell_type": "code",
   "execution_count": 35,
   "id": "1bae6d8c-b17c-48b0-8585-52f0cd128aff",
   "metadata": {},
   "outputs": [
    {
     "name": "stdout",
     "output_type": "stream",
     "text": [
      "if statement with logical operator\n",
      "statement 2\n"
     ]
    }
   ],
   "source": [
    "if 5>2 and 7>3: # True or False\n",
    "    print(\"if statement with logical operator\")\n",
    "    print(\"statement 2\")"
   ]
  },
  {
   "cell_type": "code",
   "execution_count": 37,
   "id": "e1b2250a-f129-40fd-a301-c27aa6a7820a",
   "metadata": {},
   "outputs": [
    {
     "name": "stdout",
     "output_type": "stream",
     "text": [
      "if statement with logical operator\n"
     ]
    }
   ],
   "source": [
    "if not 5<2:\n",
    "    print(\"if statement with logical operator\")\n",
    "    "
   ]
  },
  {
   "cell_type": "code",
   "execution_count": 38,
   "id": "9451f18f-4e20-4c54-af76-b2c5612d376c",
   "metadata": {},
   "outputs": [],
   "source": [
    "if not 5>2:\n",
    "    print(\"if statement with logical operator\")"
   ]
  },
  {
   "cell_type": "markdown",
   "id": "75cd5139-a53a-42a5-9ac3-ef444b00192f",
   "metadata": {},
   "source": [
    "if-else statement"
   ]
  },
  {
   "cell_type": "code",
   "execution_count": 39,
   "id": "435d8ee2-2506-47ae-8431-beb935346230",
   "metadata": {},
   "outputs": [
    {
     "name": "stdout",
     "output_type": "stream",
     "text": [
      "its cold day\n",
      "this will print always\n"
     ]
    }
   ],
   "source": [
    "temp=30\n",
    "if temp<25:\n",
    "    print('it is a hot day')\n",
    "else:\n",
    "    print('its cold day')\n",
    "print('this will print always')"
   ]
  },
  {
   "cell_type": "code",
   "execution_count": 41,
   "id": "38f64ae3-8335-41e0-a98c-b4ce05b67d89",
   "metadata": {},
   "outputs": [
    {
     "name": "stdin",
     "output_type": "stream",
     "text": [
      "enter a number 6\n"
     ]
    },
    {
     "name": "stdout",
     "output_type": "stream",
     "text": [
      "the number is even\n"
     ]
    }
   ],
   "source": [
    "num=int(input(\"enter a number\"))\n",
    "if num%2==0:\n",
    "    print('the number is even')\n",
    "else:\n",
    "    print('the number is odd')\n",
    "    "
   ]
  },
  {
   "cell_type": "code",
   "execution_count": 43,
   "id": "6185bba1-a85a-47c1-8885-593a99c78b02",
   "metadata": {},
   "outputs": [
    {
     "name": "stdout",
     "output_type": "stream",
     "text": [
      "grade B\n"
     ]
    }
   ],
   "source": [
    "marks=85\n",
    "if marks>=90:\n",
    "    print('grade A')\n",
    "elif marks>=80:\n",
    "    print('grade B')\n",
    "elif marks>=70:\n",
    "    print('grade C')\n",
    "else:\n",
    "    print('grade D')"
   ]
  },
  {
   "cell_type": "code",
   "execution_count": 45,
   "id": "68767bb0-6217-425d-bcea-a3b8ca93f75d",
   "metadata": {},
   "outputs": [
    {
     "name": "stdout",
     "output_type": "stream",
     "text": [
      "grade C\n"
     ]
    }
   ],
   "source": [
    "#multiple if statement\n",
    "marks=75\n",
    "if marks>=90:\n",
    "    print('grade A')\n",
    "if marks>=80:\n",
    "    print('grade B')\n",
    "if marks>=70:\n",
    "    print('grade C')\n",
    "else:\n",
    "    print('grade D')"
   ]
  },
  {
   "cell_type": "code",
   "execution_count": 49,
   "id": "3966ec5f-2ab5-489d-aa27-58694e4db791",
   "metadata": {},
   "outputs": [
    {
     "name": "stdin",
     "output_type": "stream",
     "text": [
      "enter a number 5\n"
     ]
    }
   ],
   "source": [
    "num=int(input(\"enter a number\"))"
   ]
  },
  {
   "cell_type": "code",
   "execution_count": 51,
   "id": "25a36dd0-0e25-4e8c-aa28-af1b48c649d4",
   "metadata": {},
   "outputs": [
    {
     "name": "stdout",
     "output_type": "stream",
     "text": [
      "the number is positive\n",
      "the number is odd\n",
      "this will be printed anyways\n"
     ]
    }
   ],
   "source": [
    "#nested if\n",
    "if num>0:\n",
    "    print(\"the number is positive\")\n",
    "    if num%2==0:\n",
    "        print('the number is even')\n",
    "    else:\n",
    "        print('the number is odd')\n",
    "else:\n",
    "    print('the number is negative')\n",
    "print('this will be printed anyways')    "
   ]
  },
  {
   "cell_type": "code",
   "execution_count": 57,
   "id": "8778e122-326b-4229-9e2b-705eea20b40b",
   "metadata": {},
   "outputs": [
    {
     "name": "stdin",
     "output_type": "stream",
     "text": [
      "enter the temperature= 32\n"
     ]
    },
    {
     "name": "stdout",
     "output_type": "stream",
     "text": [
      "its hot\n"
     ]
    }
   ],
   "source": [
    "current_temp=int(input('enter the temperature='))\n",
    "if current_temp<0:\n",
    "    print('its freezing')\n",
    "elif current_temp>0 and current_temp<10:\n",
    "    print('its cold')\n",
    "elif current_temp>10 and current_temp<25:\n",
    "    print('its warm')\n",
    "elif current_temp>25:\n",
    "    print('its hot')\n",
    "    "
   ]
  },
  {
   "cell_type": "code",
   "execution_count": null,
   "id": "12d2e352-4c5b-4111-9247-2b3e76b41b0e",
   "metadata": {},
   "outputs": [],
   "source": []
  }
 ],
 "metadata": {
  "kernelspec": {
   "display_name": "Python [conda env:base] *",
   "language": "python",
   "name": "conda-base-py"
  },
  "language_info": {
   "codemirror_mode": {
    "name": "ipython",
    "version": 3
   },
   "file_extension": ".py",
   "mimetype": "text/x-python",
   "name": "python",
   "nbconvert_exporter": "python",
   "pygments_lexer": "ipython3",
   "version": "3.12.7"
  }
 },
 "nbformat": 4,
 "nbformat_minor": 5
}
