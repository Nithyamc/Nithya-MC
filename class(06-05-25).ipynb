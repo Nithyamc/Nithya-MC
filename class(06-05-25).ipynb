{
 "cells": [
  {
   "cell_type": "markdown",
   "id": "a4656ccb-3c5a-468e-9c0a-e13be2ac83a1",
   "metadata": {},
   "source": [
    "# loops opearations on strings\n",
    "for loop \n",
    "while loop"
   ]
  },
  {
   "cell_type": "code",
   "execution_count": 1,
   "id": "12755ed6-8c47-431e-bbd9-6d11c96761b7",
   "metadata": {},
   "outputs": [
    {
     "name": "stdout",
     "output_type": "stream",
     "text": [
      "p\n",
      "y\n",
      "t\n",
      "h\n",
      "o\n",
      "n\n"
     ]
    }
   ],
   "source": [
    "# 1. for loop\n",
    "\n",
    "text='python'\n",
    "for char in text:\n",
    "    print(char)\n"
   ]
  },
  {
   "cell_type": "code",
   "execution_count": null,
   "id": "69ec1c14-705e-4d72-b417-1e5373ff5120",
   "metadata": {},
   "outputs": [],
   "source": [
    "text='hello'\n",
    "uppercase=''\n",
    "for char in text:\n",
    "    uppercase+=char.upper()\n",
    "    "
   ]
  },
  {
   "cell_type": "code",
   "execution_count": 3,
   "id": "005fadc3-b672-4b20-8e6d-5ea01d23d168",
   "metadata": {},
   "outputs": [
    {
     "data": {
      "text/plain": [
       "True"
      ]
     },
     "execution_count": 3,
     "metadata": {},
     "output_type": "execute_result"
    }
   ],
   "source": [
    "# membership operators on strings\n",
    "# in opearator (checking for )\n",
    "# syntax\n",
    "# substring in string\n",
    "text='hello world'\n",
    "'o' in text"
   ]
  },
  {
   "cell_type": "code",
   "execution_count": 4,
   "id": "39c953f2-8537-47a0-bb18-f989f762bb73",
   "metadata": {},
   "outputs": [
    {
     "data": {
      "text/plain": [
       "False"
      ]
     },
     "execution_count": 4,
     "metadata": {},
     "output_type": "execute_result"
    }
   ],
   "source": [
    "# not in operator(checks if substring does not exist in string)\n",
    "' ' not in text"
   ]
  },
  {
   "cell_type": "code",
   "execution_count": 5,
   "id": "e8546994-e1f7-4dbd-b565-0bcd77ff72e0",
   "metadata": {},
   "outputs": [
    {
     "data": {
      "text/plain": [
       "False"
      ]
     },
     "execution_count": 5,
     "metadata": {},
     "output_type": "execute_result"
    }
   ],
   "source": [
    "'e' not in text"
   ]
  },
  {
   "cell_type": "code",
   "execution_count": 6,
   "id": "d4d5a441-539f-44d3-8c2d-82e9bd43ff05",
   "metadata": {},
   "outputs": [
    {
     "data": {
      "text/plain": [
       "True"
      ]
     },
     "execution_count": 6,
     "metadata": {},
     "output_type": "execute_result"
    }
   ],
   "source": [
    "'x' not in text"
   ]
  },
  {
   "cell_type": "code",
   "execution_count": 16,
   "id": "ce292988-ffdb-4236-a0f0-2fab626b0467",
   "metadata": {},
   "outputs": [
    {
     "data": {
      "text/plain": [
       "True"
      ]
     },
     "execution_count": 16,
     "metadata": {},
     "output_type": "execute_result"
    }
   ],
   "source": [
    "text1=\"\"\" Python Collections (Arrays)\n",
    "There are four collection data types in the Python programming language:\n",
    "List is a collection which is ordered and changeable. Allows duplicate members.\n",
    "Tuple is a collection which is ordered and unchangeable. Allows duplicate members.\n",
    "Set is a collection which is unordered, unchangeable*, and unindexed. No duplicate members.\n",
    "Dictionary is a collection which is ordered** and changeable. No duplicate members\"\"\"\n",
    "'ordered' in text1\n"
   ]
  },
  {
   "cell_type": "code",
   "execution_count": 8,
   "id": "ddbf74ba-e8b7-4205-b919-3efafe4cfb09",
   "metadata": {},
   "outputs": [
    {
     "data": {
      "text/plain": [
       "False"
      ]
     },
     "execution_count": 8,
     "metadata": {},
     "output_type": "execute_result"
    }
   ],
   "source": [
    "'ordered' in text"
   ]
  },
  {
   "cell_type": "code",
   "execution_count": 17,
   "id": "570bcc19-5f31-420c-ba9f-2d2ae35d5c9d",
   "metadata": {},
   "outputs": [
    {
     "data": {
      "text/plain": [
       "True"
      ]
     },
     "execution_count": 17,
     "metadata": {},
     "output_type": "execute_result"
    }
   ],
   "source": [
    "\"duplicate\" in text1"
   ]
  },
  {
   "cell_type": "code",
   "execution_count": 18,
   "id": "b0820dd7-dac1-40c8-9efe-d021d9251d98",
   "metadata": {},
   "outputs": [
    {
     "data": {
      "text/plain": [
       "True"
      ]
     },
     "execution_count": 18,
     "metadata": {},
     "output_type": "execute_result"
    }
   ],
   "source": [
    "'ordered' in text1"
   ]
  },
  {
   "cell_type": "code",
   "execution_count": null,
   "id": "39514799-4063-4b35-8e4b-83362f1e6bcb",
   "metadata": {},
   "outputs": [],
   "source": [
    "uppercase\n",
    "lowercase\n",
    "title\n",
    "strip\n",
    "replace\n",
    "find\n",
    "count\n",
    "startswith\n",
    "endswith\n",
    "isdigit\n",
    "isalpha\n",
    "isupper\n",
    "rfind\n",
    "ascii\n",
    "len\n",
    "sort\n",
    "reverse"
   ]
  },
  {
   "cell_type": "code",
   "execution_count": 11,
   "id": "65f8911d-fda5-4e47-b0ee-bf9c6d7d65e1",
   "metadata": {},
   "outputs": [
    {
     "data": {
      "text/plain": [
       "False"
      ]
     },
     "execution_count": 11,
     "metadata": {},
     "output_type": "execute_result"
    }
   ],
   "source": [
    "text='hello'\n",
    "text1=text.isupper()\n",
    "text1"
   ]
  },
  {
   "cell_type": "code",
   "execution_count": 13,
   "id": "e228969f-152c-4bf9-80e4-d4d12fab5553",
   "metadata": {},
   "outputs": [
    {
     "data": {
      "text/plain": [
       "7"
      ]
     },
     "execution_count": 13,
     "metadata": {},
     "output_type": "execute_result"
    }
   ],
   "source": [
    "text='hello, hello, world'\n",
    "index=text.rfind('hello')\n",
    "index"
   ]
  },
  {
   "cell_type": "code",
   "execution_count": null,
   "id": "311a8a9a-9bb3-48f4-bdd8-2289ba1bc19d",
   "metadata": {},
   "outputs": [],
   "source": []
  }
 ],
 "metadata": {
  "kernelspec": {
   "display_name": "Python [conda env:base] *",
   "language": "python",
   "name": "conda-base-py"
  },
  "language_info": {
   "codemirror_mode": {
    "name": "ipython",
    "version": 3
   },
   "file_extension": ".py",
   "mimetype": "text/x-python",
   "name": "python",
   "nbconvert_exporter": "python",
   "pygments_lexer": "ipython3",
   "version": "3.12.7"
  }
 },
 "nbformat": 4,
 "nbformat_minor": 5
}
