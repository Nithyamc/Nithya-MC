{
 "cells": [
  {
   "cell_type": "markdown",
   "id": "316a312a-0fe5-4901-930c-c594122461b2",
   "metadata": {},
   "source": [
    "dictionary data type"
   ]
  },
  {
   "cell_type": "code",
   "execution_count": 9,
   "id": "2558e288-c559-4dbb-b537-134f40c3ac4d",
   "metadata": {},
   "outputs": [],
   "source": [
    "#dictionary"
   ]
  },
  {
   "cell_type": "code",
   "execution_count": 1,
   "id": "ef0b0b6a-5166-4224-aa0c-53fe3174ce41",
   "metadata": {},
   "outputs": [],
   "source": [
    "student={\"name\": \"navya\",\"age\":20,\"course\": \"bca\"}"
   ]
  },
  {
   "cell_type": "code",
   "execution_count": 2,
   "id": "d72e8280-7855-4dab-aca6-972e8d9de136",
   "metadata": {},
   "outputs": [
    {
     "name": "stdout",
     "output_type": "stream",
     "text": [
      "{'name': 'navya', 'age': 20, 'course': 'bca'}\n"
     ]
    }
   ],
   "source": [
    "print(student)"
   ]
  },
  {
   "cell_type": "code",
   "execution_count": 3,
   "id": "a2b8c309-952c-450c-9753-f6a1ce92c021",
   "metadata": {},
   "outputs": [
    {
     "data": {
      "text/plain": [
       "dict"
      ]
     },
     "execution_count": 3,
     "metadata": {},
     "output_type": "execute_result"
    }
   ],
   "source": [
    "type(student)"
   ]
  },
  {
   "cell_type": "code",
   "execution_count": 4,
   "id": "c2563759-bfe1-4fdb-953e-461907b9e6fa",
   "metadata": {},
   "outputs": [
    {
     "name": "stdout",
     "output_type": "stream",
     "text": [
      "{'names': ['navya', 'padma'], 'age': [20, 22]}\n"
     ]
    }
   ],
   "source": [
    "info={\"names\":[\"navya\",\"padma\"],\"age\":[20,22]}\n",
    "print(info)"
   ]
  },
  {
   "cell_type": "code",
   "execution_count": 5,
   "id": "a2458015-a46b-41c6-b5d4-7218c0a74fef",
   "metadata": {},
   "outputs": [
    {
     "name": "stdout",
     "output_type": "stream",
     "text": [
      "[20, 22]\n"
     ]
    }
   ],
   "source": [
    "print(info['age'])"
   ]
  },
  {
   "cell_type": "code",
   "execution_count": 7,
   "id": "ec5b2ec1-e1d5-4c95-9854-ccd346858c9e",
   "metadata": {},
   "outputs": [
    {
     "name": "stdout",
     "output_type": "stream",
     "text": [
      "padma\n"
     ]
    }
   ],
   "source": [
    "print(info[\"names\"][1])"
   ]
  },
  {
   "cell_type": "code",
   "execution_count": 8,
   "id": "81c1bb92-ddd7-4058-b954-f114e107f815",
   "metadata": {},
   "outputs": [],
   "source": [
    "car_info={\"model\":535577,\"brand\": \"swiz\"}"
   ]
  },
  {
   "cell_type": "markdown",
   "id": "1376f608-f5de-49e6-8c14-63101fd2b2f6",
   "metadata": {},
   "source": [
    "variables"
   ]
  },
  {
   "cell_type": "code",
   "execution_count": 12,
   "id": "a96d69d4-4f1d-45ed-b2e2-8f33ff86b15e",
   "metadata": {},
   "outputs": [
    {
     "name": "stdout",
     "output_type": "stream",
     "text": [
      "23\n"
     ]
    }
   ],
   "source": [
    "ab=23\n",
    "print(ab)"
   ]
  },
  {
   "cell_type": "code",
   "execution_count": 13,
   "id": "88de6622-f63d-419a-9e33-7af43a169e11",
   "metadata": {},
   "outputs": [
    {
     "ename": "SyntaxError",
     "evalue": "invalid decimal literal (1472011565.py, line 1)",
     "output_type": "error",
     "traceback": [
      "\u001b[1;36m  Cell \u001b[1;32mIn[13], line 1\u001b[1;36m\u001b[0m\n\u001b[1;33m    1rf=87\u001b[0m\n\u001b[1;37m    ^\u001b[0m\n\u001b[1;31mSyntaxError\u001b[0m\u001b[1;31m:\u001b[0m invalid decimal literal\n"
     ]
    }
   ],
   "source": [
    "1rf=87"
   ]
  },
  {
   "cell_type": "code",
   "execution_count": 14,
   "id": "6ff29ae8-da5c-4c2c-bf9c-32de3b1a8865",
   "metadata": {},
   "outputs": [],
   "source": [
    "_ab=89"
   ]
  },
  {
   "cell_type": "code",
   "execution_count": 15,
   "id": "c0f6adde-2400-442b-8131-e8180e043ee6",
   "metadata": {},
   "outputs": [
    {
     "ename": "SyntaxError",
     "evalue": "cannot assign to literal here. Maybe you meant '==' instead of '='? (3605406608.py, line 1)",
     "output_type": "error",
     "traceback": [
      "\u001b[1;36m  Cell \u001b[1;32mIn[15], line 1\u001b[1;36m\u001b[0m\n\u001b[1;33m    34=\"rd\"\u001b[0m\n\u001b[1;37m    ^\u001b[0m\n\u001b[1;31mSyntaxError\u001b[0m\u001b[1;31m:\u001b[0m cannot assign to literal here. Maybe you meant '==' instead of '='?\n"
     ]
    }
   ],
   "source": [
    "34=\"rd\""
   ]
  },
  {
   "cell_type": "code",
   "execution_count": 16,
   "id": "227d138c-efb4-4b0f-8dd3-dfd713b48532",
   "metadata": {},
   "outputs": [],
   "source": [
    "AB=67"
   ]
  },
  {
   "cell_type": "code",
   "execution_count": 17,
   "id": "247ba121-7e8b-49f5-a661-75cb63b994a5",
   "metadata": {},
   "outputs": [
    {
     "name": "stdout",
     "output_type": "stream",
     "text": [
      "67\n"
     ]
    }
   ],
   "source": [
    "print(AB)"
   ]
  },
  {
   "cell_type": "code",
   "execution_count": 18,
   "id": "2aadb331-f179-4ca3-8a43-ff7271729e89",
   "metadata": {},
   "outputs": [
    {
     "name": "stdout",
     "output_type": "stream",
     "text": [
      "23\n"
     ]
    }
   ],
   "source": [
    "print(ab)"
   ]
  },
  {
   "cell_type": "code",
   "execution_count": null,
   "id": "da8119fd-8114-4dd2-85ac-8392b5dc5c01",
   "metadata": {},
   "outputs": [],
   "source": [
    "# always start with letter or _ dont use digits or other special characters and white spaces"
   ]
  },
  {
   "cell_type": "code",
   "execution_count": 19,
   "id": "09f452d5-8021-4f89-a07a-76f80a8e88ed",
   "metadata": {},
   "outputs": [],
   "source": [
    "myVariable=332"
   ]
  },
  {
   "cell_type": "code",
   "execution_count": 20,
   "id": "dbe663c9-ab4c-417f-8341-1b276ab5c946",
   "metadata": {},
   "outputs": [
    {
     "data": {
      "text/plain": [
       "332"
      ]
     },
     "execution_count": 20,
     "metadata": {},
     "output_type": "execute_result"
    }
   ],
   "source": [
    "myVariable"
   ]
  },
  {
   "cell_type": "code",
   "execution_count": 21,
   "id": "3286b58f-bced-4d00-a200-abf2ff6d23ac",
   "metadata": {},
   "outputs": [],
   "source": [
    "MyVariable=647"
   ]
  },
  {
   "cell_type": "code",
   "execution_count": 22,
   "id": "dcc6fe8b-a9e2-453a-b4ae-9da34cba4779",
   "metadata": {},
   "outputs": [
    {
     "data": {
      "text/plain": [
       "332"
      ]
     },
     "execution_count": 22,
     "metadata": {},
     "output_type": "execute_result"
    }
   ],
   "source": [
    "myVariable"
   ]
  },
  {
   "cell_type": "code",
   "execution_count": 23,
   "id": "922893bd-c987-484b-89ad-a1c3067cbc8e",
   "metadata": {},
   "outputs": [
    {
     "data": {
      "text/plain": [
       "647"
      ]
     },
     "execution_count": 23,
     "metadata": {},
     "output_type": "execute_result"
    }
   ],
   "source": [
    "MyVariable"
   ]
  },
  {
   "cell_type": "code",
   "execution_count": 24,
   "id": "200919a6-5193-4436-a4b9-f43d264275a1",
   "metadata": {},
   "outputs": [
    {
     "ename": "SyntaxError",
     "evalue": "cannot assign to expression here. Maybe you meant '==' instead of '='? (2977679311.py, line 1)",
     "output_type": "error",
     "traceback": [
      "\u001b[1;36m  Cell \u001b[1;32mIn[24], line 1\u001b[1;36m\u001b[0m\n\u001b[1;33m    user-age=65\u001b[0m\n\u001b[1;37m    ^\u001b[0m\n\u001b[1;31mSyntaxError\u001b[0m\u001b[1;31m:\u001b[0m cannot assign to expression here. Maybe you meant '==' instead of '='?\n"
     ]
    }
   ],
   "source": [
    "user-age=65"
   ]
  },
  {
   "cell_type": "code",
   "execution_count": 25,
   "id": "12749797-b72b-4258-b8a0-c8cebd452334",
   "metadata": {},
   "outputs": [],
   "source": [
    "user_age=45"
   ]
  },
  {
   "cell_type": "code",
   "execution_count": 26,
   "id": "27be12d0-127c-4e67-9132-35a77973d66f",
   "metadata": {},
   "outputs": [
    {
     "data": {
      "text/plain": [
       "45"
      ]
     },
     "execution_count": 26,
     "metadata": {},
     "output_type": "execute_result"
    }
   ],
   "source": [
    "user_age"
   ]
  },
  {
   "cell_type": "code",
   "execution_count": 27,
   "id": "435337ee-529b-4fa6-ab39-5dc2b9e02bfd",
   "metadata": {},
   "outputs": [],
   "source": [
    "for_4=89"
   ]
  },
  {
   "cell_type": "code",
   "execution_count": 28,
   "id": "3448e56a-0920-483d-8882-5c61b0a9e812",
   "metadata": {},
   "outputs": [
    {
     "ename": "SyntaxError",
     "evalue": "invalid syntax (2995724140.py, line 1)",
     "output_type": "error",
     "traceback": [
      "\u001b[1;36m  Cell \u001b[1;32mIn[28], line 1\u001b[1;36m\u001b[0m\n\u001b[1;33m    for=56\u001b[0m\n\u001b[1;37m       ^\u001b[0m\n\u001b[1;31mSyntaxError\u001b[0m\u001b[1;31m:\u001b[0m invalid syntax\n"
     ]
    }
   ],
   "source": [
    "for=56\n",
    "#reserved keywords are not allowed as variables"
   ]
  },
  {
   "cell_type": "code",
   "execution_count": null,
   "id": "17b48e81-84a6-46ba-a477-a7c34b289765",
   "metadata": {},
   "outputs": [],
   "source": [
    "# variable name shld b descriptive n meaningful, providing some indication of the poupose or content variable"
   ]
  },
  {
   "cell_type": "code",
   "execution_count": 29,
   "id": "b5d56095-ec83-4cc7-9940-e613a89f0db8",
   "metadata": {},
   "outputs": [],
   "source": [
    "saturday_sales=763"
   ]
  },
  {
   "cell_type": "code",
   "execution_count": 30,
   "id": "2926a328-7db9-49aa-a568-9663676ec186",
   "metadata": {},
   "outputs": [],
   "source": [
    "roll_number=544"
   ]
  },
  {
   "cell_type": "code",
   "execution_count": 37,
   "id": "5af1fee3-2b2e-464c-a5cc-eeb1ca2542cc",
   "metadata": {},
   "outputs": [],
   "source": [
    "sales=54"
   ]
  },
  {
   "cell_type": "code",
   "execution_count": null,
   "id": "3b7ff99d-c0d6-4c8f-a3d4-129fcde922ce",
   "metadata": {},
   "outputs": [],
   "source": [
    "profit="
   ]
  },
  {
   "cell_type": "code",
   "execution_count": 32,
   "id": "b4eeb9ac-0eb2-48eb-88db-0a194dac63aa",
   "metadata": {},
   "outputs": [],
   "source": [
    "#dont use built in functions or modue names as variable name to prevent conflicts n comfusion"
   ]
  },
  {
   "cell_type": "code",
   "execution_count": 33,
   "id": "4c2b2b22-d2ab-4bed-b9db-66fa6fea3677",
   "metadata": {},
   "outputs": [],
   "source": [
    "list=55"
   ]
  },
  {
   "cell_type": "code",
   "execution_count": 34,
   "id": "b4df89be-2f96-4d05-ba42-f92dae98d73d",
   "metadata": {},
   "outputs": [],
   "source": [
    "tuple=65"
   ]
  },
  {
   "cell_type": "code",
   "execution_count": 35,
   "id": "18f4042f-59ef-481e-81e3-bc0d0809d0a0",
   "metadata": {},
   "outputs": [
    {
     "data": {
      "text/plain": [
       "55"
      ]
     },
     "execution_count": 35,
     "metadata": {},
     "output_type": "execute_result"
    }
   ],
   "source": [
    "list"
   ]
  },
  {
   "cell_type": "code",
   "execution_count": 36,
   "id": "fceda2ab-eccf-4dae-8a3a-6dcab8056e8d",
   "metadata": {},
   "outputs": [
    {
     "data": {
      "text/plain": [
       "65"
      ]
     },
     "execution_count": 36,
     "metadata": {},
     "output_type": "execute_result"
    }
   ],
   "source": [
    "tuple"
   ]
  },
  {
   "cell_type": "code",
   "execution_count": 38,
   "id": "ca975f51-4ece-4332-bf26-5b1a08f0f046",
   "metadata": {},
   "outputs": [],
   "source": [
    "#dont use spaces b/w varible name instead use underscore"
   ]
  },
  {
   "cell_type": "code",
   "execution_count": 39,
   "id": "148000a5-d66d-40fd-8161-02dda51ee0f7",
   "metadata": {},
   "outputs": [
    {
     "ename": "SyntaxError",
     "evalue": "invalid syntax (226413979.py, line 1)",
     "output_type": "error",
     "traceback": [
      "\u001b[1;36m  Cell \u001b[1;32mIn[39], line 1\u001b[1;36m\u001b[0m\n\u001b[1;33m    name age\u001b[0m\n\u001b[1;37m         ^\u001b[0m\n\u001b[1;31mSyntaxError\u001b[0m\u001b[1;31m:\u001b[0m invalid syntax\n"
     ]
    }
   ],
   "source": [
    "name age"
   ]
  },
  {
   "cell_type": "code",
   "execution_count": 40,
   "id": "c0cc7161-a244-4660-84e3-37c0aafc2e27",
   "metadata": {},
   "outputs": [],
   "source": [
    "name_age=65"
   ]
  },
  {
   "cell_type": "code",
   "execution_count": 41,
   "id": "30ebb931-5422-46a9-b447-795fd6b5c675",
   "metadata": {},
   "outputs": [],
   "source": [
    "#try to use always lowercase letters for var names "
   ]
  },
  {
   "cell_type": "code",
   "execution_count": 43,
   "id": "10867a13-0f42-4900-a044-3f4c748f09f1",
   "metadata": {},
   "outputs": [],
   "source": [
    "#consistent naming style of var name"
   ]
  },
  {
   "cell_type": "markdown",
   "id": "90a94291-f298-4d57-a6ba-063101b259f8",
   "metadata": {},
   "source": [
    "comments"
   ]
  },
  {
   "cell_type": "code",
   "execution_count": null,
   "id": "cc8086a5-233d-4600-b805-a51144afec4e",
   "metadata": {},
   "outputs": [],
   "source": [
    "# comments will be ignored by the interpreter , its for human understandable n readability"
   ]
  },
  {
   "cell_type": "code",
   "execution_count": 44,
   "id": "c1db2f6c-a30f-4b8b-af3b-c94a50d5327e",
   "metadata": {},
   "outputs": [],
   "source": [
    "# this is string data type\n",
    "str1=\"abc\""
   ]
  },
  {
   "cell_type": "code",
   "execution_count": 45,
   "id": "a29edfc2-8625-4b8b-b142-1eb434618cbc",
   "metadata": {},
   "outputs": [
    {
     "data": {
      "text/plain": [
       "[3, 7, 7]"
      ]
     },
     "execution_count": 45,
     "metadata": {},
     "output_type": "execute_result"
    }
   ],
   "source": [
    "#this is list\n",
    "list1=[3,7,7]\n",
    "list1"
   ]
  },
  {
   "cell_type": "code",
   "execution_count": 46,
   "id": "3ac4861d-639c-43d3-8e34-10775a4c890c",
   "metadata": {},
   "outputs": [
    {
     "data": {
      "text/plain": [
       "'this is \\nmultiline comment syntax\\nand i am practicing python coding \\n'"
      ]
     },
     "execution_count": 46,
     "metadata": {},
     "output_type": "execute_result"
    }
   ],
   "source": [
    "\"\"\"this is \n",
    "multiline comment syntax\n",
    "and i am practicing python coding \n",
    "\"\"\""
   ]
  },
  {
   "cell_type": "code",
   "execution_count": 49,
   "id": "07726be5-1c98-49ab-b19d-69403a5f787b",
   "metadata": {},
   "outputs": [
    {
     "name": "stdout",
     "output_type": "stream",
     "text": [
      "hello world\n"
     ]
    }
   ],
   "source": [
    "# this is comment line\n",
    "print(\"hello world\")#printing hello world"
   ]
  },
  {
   "cell_type": "markdown",
   "id": "b7c0769f-8ecf-4e8e-a023-ef14f6ecd954",
   "metadata": {},
   "source": [
    "##keywords"
   ]
  },
  {
   "cell_type": "code",
   "execution_count": null,
   "id": "cc64e246-a3de-4bbb-a2f5-553f7919c9c2",
   "metadata": {},
   "outputs": [],
   "source": [
    "a keyword is a reserved word in python that has a predefined meaning and cannot b used as an identifier(such as variable names)"
   ]
  },
  {
   "cell_type": "markdown",
   "id": "3363e153-2c5f-4b1d-b243-3d5bb2e8a187",
   "metadata": {},
   "source": [
    "keywords and indentifiers"
   ]
  },
  {
   "cell_type": "code",
   "execution_count": 50,
   "id": "8440c3d7-e7ca-42d4-9971-7cff411f9c2b",
   "metadata": {},
   "outputs": [
    {
     "ename": "SyntaxError",
     "evalue": "invalid syntax (3097183176.py, line 1)",
     "output_type": "error",
     "traceback": [
      "\u001b[1;36m  Cell \u001b[1;32mIn[50], line 1\u001b[1;36m\u001b[0m\n\u001b[1;33m    if for in False True else\u001b[0m\n\u001b[1;37m       ^\u001b[0m\n\u001b[1;31mSyntaxError\u001b[0m\u001b[1;31m:\u001b[0m invalid syntax\n"
     ]
    }
   ],
   "source": [
    "if for in False True else"
   ]
  },
  {
   "cell_type": "code",
   "execution_count": 51,
   "id": "bcc1af3a-a0d9-4b57-ac5e-ee1c00b89b9a",
   "metadata": {},
   "outputs": [],
   "source": [
    "var=67"
   ]
  },
  {
   "cell_type": "code",
   "execution_count": 52,
   "id": "c6d536c5-6c35-4b25-88c9-331e8c7810fb",
   "metadata": {},
   "outputs": [
    {
     "ename": "SyntaxError",
     "evalue": "invalid syntax (1468122953.py, line 1)",
     "output_type": "error",
     "traceback": [
      "\u001b[1;36m  Cell \u001b[1;32mIn[52], line 1\u001b[1;36m\u001b[0m\n\u001b[1;33m    if=9\u001b[0m\n\u001b[1;37m      ^\u001b[0m\n\u001b[1;31mSyntaxError\u001b[0m\u001b[1;31m:\u001b[0m invalid syntax\n"
     ]
    }
   ],
   "source": [
    "if=9"
   ]
  },
  {
   "cell_type": "markdown",
   "id": "15fc021f-dadf-46b1-82d4-48be578d5d4b",
   "metadata": {},
   "source": [
    "identifiers"
   ]
  },
  {
   "cell_type": "code",
   "execution_count": 53,
   "id": "7c7c6702-bcae-410f-9c43-9bcfea42d17b",
   "metadata": {},
   "outputs": [],
   "source": [
    "\"\"\"is a name used to identify a vaeiable , function,class,module or other objects in python\n",
    "identifiers must start with letter or _ followed by letters , numbers or underscores\n",
    "they cant be keyword\"\""
   ]
  },
  {
   "cell_type": "code",
   "execution_count": null,
   "id": "40452f09-d786-4f1d-830b-6219871c1bd6",
   "metadata": {},
   "outputs": [],
   "source": [
    "def func()"
   ]
  },
  {
   "cell_type": "markdown",
   "id": "2b2177bf-9e77-47b0-a74e-70e8061ecd9c",
   "metadata": {},
   "source": [
    "user input"
   ]
  },
  {
   "cell_type": "code",
   "execution_count": 55,
   "id": "d179bafa-c6f2-4b2b-b359-142472a8313d",
   "metadata": {},
   "outputs": [],
   "source": [
    "# it allows to take input from the user"
   ]
  },
  {
   "cell_type": "code",
   "execution_count": 56,
   "id": "64261fca-f5ce-408d-b4b1-6b7386bd7f10",
   "metadata": {},
   "outputs": [
    {
     "name": "stdin",
     "output_type": "stream",
     "text": [
      "enter your name: navya\n"
     ]
    }
   ],
   "source": [
    "name=input(\"enter your name:\")"
   ]
  },
  {
   "cell_type": "code",
   "execution_count": 57,
   "id": "e90da2fe-aaf7-42e5-b59e-c942e2f4ed9e",
   "metadata": {},
   "outputs": [
    {
     "name": "stdout",
     "output_type": "stream",
     "text": [
      "navya\n"
     ]
    }
   ],
   "source": [
    "print(name)"
   ]
  },
  {
   "cell_type": "code",
   "execution_count": 58,
   "id": "e7375e7b-3753-4881-b682-166e84e24942",
   "metadata": {},
   "outputs": [
    {
     "data": {
      "text/plain": [
       "str"
      ]
     },
     "execution_count": 58,
     "metadata": {},
     "output_type": "execute_result"
    }
   ],
   "source": [
    "type(name)"
   ]
  },
  {
   "cell_type": "code",
   "execution_count": 59,
   "id": "cf1cb1e8-8052-4354-8b8d-6462b9079fdf",
   "metadata": {},
   "outputs": [
    {
     "name": "stdin",
     "output_type": "stream",
     "text": [
      " 44\n"
     ]
    }
   ],
   "source": [
    "age=input()"
   ]
  },
  {
   "cell_type": "code",
   "execution_count": 60,
   "id": "4849abce-c72f-4792-ace9-09845889725d",
   "metadata": {},
   "outputs": [
    {
     "data": {
      "text/plain": [
       "'44'"
      ]
     },
     "execution_count": 60,
     "metadata": {},
     "output_type": "execute_result"
    }
   ],
   "source": [
    "age"
   ]
  },
  {
   "cell_type": "code",
   "execution_count": 61,
   "id": "7836ea05-3970-40ce-bfda-b6b3fad929e8",
   "metadata": {},
   "outputs": [
    {
     "data": {
      "text/plain": [
       "str"
      ]
     },
     "execution_count": 61,
     "metadata": {},
     "output_type": "execute_result"
    }
   ],
   "source": [
    "type(age)"
   ]
  },
  {
   "cell_type": "code",
   "execution_count": 62,
   "id": "ef24d0e2-bbc8-4a37-a951-e346c15656f0",
   "metadata": {},
   "outputs": [
    {
     "name": "stdin",
     "output_type": "stream",
     "text": [
      " 33\n"
     ]
    }
   ],
   "source": [
    "age=int(input())"
   ]
  },
  {
   "cell_type": "code",
   "execution_count": 63,
   "id": "724449e8-8c38-4d0f-b575-414152a77605",
   "metadata": {},
   "outputs": [
    {
     "data": {
      "text/plain": [
       "int"
      ]
     },
     "execution_count": 63,
     "metadata": {},
     "output_type": "execute_result"
    }
   ],
   "source": [
    "age\n",
    "type(age)"
   ]
  },
  {
   "cell_type": "code",
   "execution_count": 64,
   "id": "3e85a005-9136-41ac-b4ad-80c00f33d85b",
   "metadata": {},
   "outputs": [
    {
     "name": "stdin",
     "output_type": "stream",
     "text": [
      "enter movie name= varsham\n",
      " prabhas\n",
      " trisha\n",
      "enter the year 2004\n"
     ]
    }
   ],
   "source": [
    "movie_name=input(\"enter movie name=\")\n",
    "movie_hero=input()\n",
    "movie_heroine=input()\n",
    "release_year=int(input(\"enter the year\"))"
   ]
  },
  {
   "cell_type": "code",
   "execution_count": 65,
   "id": "a1b26b31-0fa0-4d7f-b37b-709424b5a78c",
   "metadata": {},
   "outputs": [
    {
     "name": "stdout",
     "output_type": "stream",
     "text": [
      "varsham <class 'str'>\n",
      "2004 <class 'int'>\n"
     ]
    }
   ],
   "source": [
    "print(movie_name,type(movie_name))\n",
    "print(release_year,type(release_year))"
   ]
  },
  {
   "cell_type": "code",
   "execution_count": 66,
   "id": "a79c5ca7-452a-4ebb-a45d-e7e17b17a700",
   "metadata": {},
   "outputs": [
    {
     "data": {
      "text/plain": [
       "'trisha'"
      ]
     },
     "execution_count": 66,
     "metadata": {},
     "output_type": "execute_result"
    }
   ],
   "source": [
    "movie_heroine"
   ]
  },
  {
   "cell_type": "code",
   "execution_count": 67,
   "id": "149f0033-ca9a-48c0-9dc7-6a27d978eee3",
   "metadata": {},
   "outputs": [
    {
     "data": {
      "text/plain": [
       "'prabhas'"
      ]
     },
     "execution_count": 67,
     "metadata": {},
     "output_type": "execute_result"
    }
   ],
   "source": [
    "movie_hero"
   ]
  },
  {
   "cell_type": "code",
   "execution_count": 68,
   "id": "fa5472c7-1236-45df-8ab8-1366e5d76bed",
   "metadata": {},
   "outputs": [
    {
     "name": "stdin",
     "output_type": "stream",
     "text": [
      "enter email id: navya24456@gmail.com\n",
      "enter the password navya123reddy554\n"
     ]
    }
   ],
   "source": [
    "email=input(\"enter email id:\")\n",
    "password=input(\"enter the password\")"
   ]
  },
  {
   "cell_type": "code",
   "execution_count": 69,
   "id": "094b8448-1a88-4098-a7ad-be942f8cd3b1",
   "metadata": {},
   "outputs": [
    {
     "data": {
      "text/plain": [
       "'navya24456@gmail.com'"
      ]
     },
     "execution_count": 69,
     "metadata": {},
     "output_type": "execute_result"
    }
   ],
   "source": [
    "email"
   ]
  },
  {
   "cell_type": "code",
   "execution_count": 70,
   "id": "3ca4cdb8-262f-4230-b7d6-1271fcea27f4",
   "metadata": {},
   "outputs": [
    {
     "data": {
      "text/plain": [
       "'navya123reddy554'"
      ]
     },
     "execution_count": 70,
     "metadata": {},
     "output_type": "execute_result"
    }
   ],
   "source": [
    "password"
   ]
  },
  {
   "cell_type": "code",
   "execution_count": 71,
   "id": "d7f29e2b-1922-414a-8abc-7d2cfd4eeff0",
   "metadata": {},
   "outputs": [
    {
     "name": "stdin",
     "output_type": "stream",
     "text": [
      "enter the first number= 5\n",
      "enter second number= 3\n"
     ]
    },
    {
     "name": "stdout",
     "output_type": "stream",
     "text": [
      "8\n"
     ]
    }
   ],
   "source": [
    "a=int(input(\"enter the first number=\"))\n",
    "b=int(input(\"enter second number=\"))\n",
    "print(a+b)"
   ]
  },
  {
   "cell_type": "code",
   "execution_count": 72,
   "id": "02936054-9988-412b-84c7-09f00c0a552b",
   "metadata": {},
   "outputs": [
    {
     "name": "stdin",
     "output_type": "stream",
     "text": [
      "enter the first number= 54\n",
      "enter second number= 34\n"
     ]
    },
    {
     "name": "stdout",
     "output_type": "stream",
     "text": [
      "5434\n"
     ]
    }
   ],
   "source": [
    "a=input(\"enter the first number=\")\n",
    "b=input(\"enter second number=\")\n",
    "print(a+b)"
   ]
  },
  {
   "cell_type": "code",
   "execution_count": 75,
   "id": "26a980e9-9549-4048-8b79-f6472444b5be",
   "metadata": {},
   "outputs": [
    {
     "name": "stdin",
     "output_type": "stream",
     "text": [
      "enter floating point number 56.8\n"
     ]
    }
   ],
   "source": [
    "floating=float(input(\"enter floating point number\" ))"
   ]
  },
  {
   "cell_type": "code",
   "execution_count": 76,
   "id": "4c4b1313-c099-451d-92ad-b61b5f5d0375",
   "metadata": {},
   "outputs": [
    {
     "name": "stdin",
     "output_type": "stream",
     "text": [
      "enter the first number= 10\n",
      "enter second number= 8\n"
     ]
    },
    {
     "name": "stdout",
     "output_type": "stream",
     "text": [
      "addition= 18\n",
      "substaction= 2\n",
      "multiplication= 80\n",
      "division= 1.25\n",
      "modulus= 2\n"
     ]
    }
   ],
   "source": [
    "a=int(input(\"enter the first number=\"))\n",
    "b=int(input(\"enter second number=\"))\n",
    "print(\"addition=\",a+b)\n",
    "print(\"substaction=\",a-b)\n",
    "print(\"multiplication=\",a*b)\n",
    "print(\"division=\",a/b)\n",
    "print(\"modulus=\",a%b)"
   ]
  },
  {
   "cell_type": "code",
   "execution_count": null,
   "id": "48e88ac0-8539-48c1-aa9a-b15b8b916c89",
   "metadata": {},
   "outputs": [],
   "source": []
  }
 ],
 "metadata": {
  "kernelspec": {
   "display_name": "Python [conda env:base] *",
   "language": "python",
   "name": "conda-base-py"
  },
  "language_info": {
   "codemirror_mode": {
    "name": "ipython",
    "version": 3
   },
   "file_extension": ".py",
   "mimetype": "text/x-python",
   "name": "python",
   "nbconvert_exporter": "python",
   "pygments_lexer": "ipython3",
   "version": "3.12.7"
  }
 },
 "nbformat": 4,
 "nbformat_minor": 5
}
