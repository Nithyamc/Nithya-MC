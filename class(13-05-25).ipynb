{
 "cells": [
  {
   "cell_type": "markdown",
   "id": "618dbdfd-e52f-42fa-ac01-1bca3291899d",
   "metadata": {},
   "source": [
    "# sets"
   ]
  },
  {
   "cell_type": "code",
   "execution_count": 1,
   "id": "8633a05f-f839-46ac-942c-937b4cc33cc9",
   "metadata": {},
   "outputs": [
    {
     "data": {
      "text/plain": [
       "{1, 2, 3, 4, 5}"
      ]
     },
     "execution_count": 1,
     "metadata": {},
     "output_type": "execute_result"
    }
   ],
   "source": [
    "set1={1,2,3,4,5}\n",
    "set1"
   ]
  },
  {
   "cell_type": "code",
   "execution_count": 2,
   "id": "256a2adf-e8d0-46b0-bfa4-fb7c3820069f",
   "metadata": {},
   "outputs": [
    {
     "data": {
      "text/plain": [
       "{1, 2, 3, 4, 5, 6, 7}"
      ]
     },
     "execution_count": 2,
     "metadata": {},
     "output_type": "execute_result"
    }
   ],
   "source": [
    "set1={1,2,3,4,5,2,3,3,5,6,7}\n",
    "set1"
   ]
  },
  {
   "cell_type": "code",
   "execution_count": 4,
   "id": "240096a4-7932-4de3-adc2-d63237fc9c94",
   "metadata": {},
   "outputs": [
    {
     "data": {
      "text/plain": [
       "{1, 2, 3, 4, 5, 8}"
      ]
     },
     "execution_count": 4,
     "metadata": {},
     "output_type": "execute_result"
    }
   ],
   "source": [
    "# 3. mutable\n",
    "set1={1,2,3,4,5}\n",
    "set1.add(8)\n",
    "set1"
   ]
  },
  {
   "cell_type": "code",
   "execution_count": 6,
   "id": "b3d66783-cfec-4d06-973a-b170bacf1e02",
   "metadata": {},
   "outputs": [
    {
     "data": {
      "text/plain": [
       "{1, 2, 4, 5}"
      ]
     },
     "execution_count": 6,
     "metadata": {},
     "output_type": "execute_result"
    }
   ],
   "source": [
    "set1={1,2,3,4,5}\n",
    "set1.remove(3)\n",
    "set1"
   ]
  },
  {
   "cell_type": "code",
   "execution_count": 2,
   "id": "0b6ee243-5aea-4077-95a9-f3a35a90fdde",
   "metadata": {},
   "outputs": [
    {
     "ename": "TypeError",
     "evalue": "'set' object is not subscriptable",
     "output_type": "error",
     "traceback": [
      "\u001b[1;31m---------------------------------------------------------------------------\u001b[0m",
      "\u001b[1;31mTypeError\u001b[0m                                 Traceback (most recent call last)",
      "Cell \u001b[1;32mIn[2], line 3\u001b[0m\n\u001b[0;32m      1\u001b[0m \u001b[38;5;66;03m# 4. no indexing\u001b[39;00m\n\u001b[0;32m      2\u001b[0m set1\u001b[38;5;241m=\u001b[39m{\u001b[38;5;241m1\u001b[39m,\u001b[38;5;241m2\u001b[39m,\u001b[38;5;241m3\u001b[39m,\u001b[38;5;241m4\u001b[39m,\u001b[38;5;241m5\u001b[39m}\n\u001b[1;32m----> 3\u001b[0m set1[\u001b[38;5;241m0\u001b[39m]\n",
      "\u001b[1;31mTypeError\u001b[0m: 'set' object is not subscriptable"
     ]
    }
   ],
   "source": [
    "# 4. no indexing\n",
    "set1={1,2,3,4,5}\n",
    "set1[0]\n"
   ]
  },
  {
   "cell_type": "code",
   "execution_count": 8,
   "id": "cded4787-fbd4-4b6c-b0cd-f1b4c22a5d57",
   "metadata": {},
   "outputs": [
    {
     "name": "stdout",
     "output_type": "stream",
     "text": [
      "1\n",
      "2\n",
      "3\n"
     ]
    }
   ],
   "source": [
    "my_set={1,2,3}\n",
    "for item in my_set:\n",
    "    print(item)"
   ]
  },
  {
   "cell_type": "code",
   "execution_count": 1,
   "id": "9ff9c593-c810-4ca9-844d-f450a11f42d9",
   "metadata": {},
   "outputs": [
    {
     "data": {
      "text/plain": [
       "{(1, 2, 4), 2, 3.5, 'hello'}"
      ]
     },
     "execution_count": 1,
     "metadata": {},
     "output_type": "execute_result"
    }
   ],
   "source": [
    "# set itself is mutable but cant hold mutable data types(no list)\n",
    "set1={2,3.5,\"hello\",(1,2,4)}\n",
    "set1"
   ]
  },
  {
   "cell_type": "raw",
   "id": "24d1d8ca-eee1-4d7f-8d36-d47573b250e5",
   "metadata": {},
   "source": [
    "    set methods\n",
    "add()  (for single value)\n",
    "update() (for multiple values)\n",
    "remove()\n",
    "discard()\n",
    "pop()\n",
    "clear()\n",
    "union()\n",
    "intersection()\n",
    "difference()\n",
    "symmetric difference\n",
    "issubset()"
   ]
  },
  {
   "cell_type": "code",
   "execution_count": 5,
   "id": "9ba5bcf6-097b-4ba5-ae67-e38d7ab58bec",
   "metadata": {},
   "outputs": [
    {
     "data": {
      "text/plain": [
       "{1, 2, 3, 4, 5, 865}"
      ]
     },
     "execution_count": 5,
     "metadata": {},
     "output_type": "execute_result"
    }
   ],
   "source": [
    "#  add\n",
    "set1={1,2,3,4,5}\n",
    "set1.add(865)\n",
    "set1"
   ]
  },
  {
   "cell_type": "code",
   "execution_count": 7,
   "id": "f3650d3b-dc46-4a2a-b706-5f5f14c4b491",
   "metadata": {},
   "outputs": [
    {
     "data": {
      "text/plain": [
       "{1, 2, 3, 4, 5, 7, 8}"
      ]
     },
     "execution_count": 7,
     "metadata": {},
     "output_type": "execute_result"
    }
   ],
   "source": [
    "# update\n",
    "set1={1,2,3,4,5}\n",
    "set1.update([8,5,7]) # list \n",
    "set1"
   ]
  },
  {
   "cell_type": "code",
   "execution_count": 8,
   "id": "94339443-39fc-4ca9-9e23-4126dab12e1d",
   "metadata": {},
   "outputs": [
    {
     "data": {
      "text/plain": [
       "{1, 2, 3, 4, 5, 7, 8}"
      ]
     },
     "execution_count": 8,
     "metadata": {},
     "output_type": "execute_result"
    }
   ],
   "source": [
    "set1.update((8,5,7))  # tuple\n",
    "set1"
   ]
  },
  {
   "cell_type": "code",
   "execution_count": 9,
   "id": "66cc9b58-4876-41d5-bc2f-14768c92d971",
   "metadata": {},
   "outputs": [
    {
     "data": {
      "text/plain": [
       "{1, 2, 3, 4}"
      ]
     },
     "execution_count": 9,
     "metadata": {},
     "output_type": "execute_result"
    }
   ],
   "source": [
    "# remove\n",
    "set1={1,2,3,4,5}\n",
    "set1.remove(5)\n",
    "set1"
   ]
  },
  {
   "cell_type": "code",
   "execution_count": 10,
   "id": "bbb7a0cd-5425-45eb-9e34-435ccc9061de",
   "metadata": {},
   "outputs": [
    {
     "data": {
      "text/plain": [
       "{1, 2, 3, 4, 5}"
      ]
     },
     "execution_count": 10,
     "metadata": {},
     "output_type": "execute_result"
    }
   ],
   "source": [
    "# discard\n",
    "set1={1,2,3,4,5}\n",
    "set1.discard(8)\n",
    "set1"
   ]
  },
  {
   "cell_type": "code",
   "execution_count": 13,
   "id": "57efcab5-ae45-400a-b3ad-e3815fd8e85c",
   "metadata": {},
   "outputs": [
    {
     "data": {
      "text/plain": [
       "{1, 3, 4, 5}"
      ]
     },
     "execution_count": 13,
     "metadata": {},
     "output_type": "execute_result"
    }
   ],
   "source": [
    "set1={1,2,3,4,5}\n",
    "set1.discard(2)\n",
    "set1"
   ]
  },
  {
   "cell_type": "code",
   "execution_count": 14,
   "id": "bab8a415-e83a-4a1c-815f-fc169ad69f79",
   "metadata": {},
   "outputs": [
    {
     "data": {
      "text/plain": [
       "{2, 3, 4, 5}"
      ]
     },
     "execution_count": 14,
     "metadata": {},
     "output_type": "execute_result"
    }
   ],
   "source": [
    "# pop()\n",
    "set1={1,2,3,4,5}\n",
    "set1.pop()\n",
    "set1"
   ]
  },
  {
   "cell_type": "code",
   "execution_count": 16,
   "id": "8fd1e9a6-dd08-434c-b660-6e491b5e3e80",
   "metadata": {},
   "outputs": [
    {
     "data": {
      "text/plain": [
       "{2, 3, 4, 5}"
      ]
     },
     "execution_count": 16,
     "metadata": {},
     "output_type": "execute_result"
    }
   ],
   "source": [
    "set1={1,2,3,4,5}\n",
    "set1.pop()\n",
    "set1"
   ]
  },
  {
   "cell_type": "code",
   "execution_count": 17,
   "id": "f12f37c4-24a4-4169-9716-9f94ddd21c23",
   "metadata": {},
   "outputs": [
    {
     "data": {
      "text/plain": [
       "1"
      ]
     },
     "execution_count": 17,
     "metadata": {},
     "output_type": "execute_result"
    }
   ],
   "source": [
    "set1={1,2,3,4,5}\n",
    "a=set1.pop()\n",
    "a"
   ]
  },
  {
   "cell_type": "code",
   "execution_count": 19,
   "id": "454401e7-d160-4cc6-8a39-c652db63e4ae",
   "metadata": {},
   "outputs": [
    {
     "name": "stdout",
     "output_type": "stream",
     "text": [
      "{3, 4, 5}\n",
      "{4, 5}\n"
     ]
    }
   ],
   "source": [
    "set1={2,3,4,5}\n",
    "set1.pop()\n",
    "print(set1)\n",
    "set1.pop()\n",
    "\n",
    "print(set1)"
   ]
  },
  {
   "cell_type": "code",
   "execution_count": 20,
   "id": "e5fb5250-6b85-4c00-ae3b-264248bd4bf3",
   "metadata": {},
   "outputs": [
    {
     "data": {
      "text/plain": [
       "set()"
      ]
     },
     "execution_count": 20,
     "metadata": {},
     "output_type": "execute_result"
    }
   ],
   "source": [
    "#  clear()\n",
    "set1={1,2,3,4,5}\n",
    "set1.clear()\n",
    "set1"
   ]
  },
  {
   "cell_type": "code",
   "execution_count": 23,
   "id": "b3749063-4a78-4736-ae19-d5b8051a1372",
   "metadata": {},
   "outputs": [
    {
     "data": {
      "text/plain": [
       "{1, 2, 3, 4, 5, 7, 8, 9}"
      ]
     },
     "execution_count": 23,
     "metadata": {},
     "output_type": "execute_result"
    }
   ],
   "source": [
    "# union()(and)\n",
    "set1={1,2,3,4,5}\n",
    "set2={5,7,8,9}\n",
    "set1.union(set2)\n"
   ]
  },
  {
   "cell_type": "code",
   "execution_count": 24,
   "id": "0c308ae0-8789-4af2-a589-72ca1263fb62",
   "metadata": {},
   "outputs": [
    {
     "data": {
      "text/plain": [
       "{2, 3, 5}"
      ]
     },
     "execution_count": 24,
     "metadata": {},
     "output_type": "execute_result"
    }
   ],
   "source": [
    "# intersection()(or)\n",
    "set1={1,2,3,4,5}\n",
    "set2={5,7,8,9,3,2}\n",
    "set1.intersection(set2)"
   ]
  },
  {
   "cell_type": "code",
   "execution_count": 26,
   "id": "d4a783df-e20f-4b19-bfea-435f9d582884",
   "metadata": {},
   "outputs": [
    {
     "data": {
      "text/plain": [
       "{1, 2, 4}"
      ]
     },
     "execution_count": 26,
     "metadata": {},
     "output_type": "execute_result"
    }
   ],
   "source": [
    "# difference()-(only set1 not set2)\n",
    "set1={1,2,3,4,5}\n",
    "set2={5,7,8,9,3}\n",
    "set1.difference(set2)"
   ]
  },
  {
   "cell_type": "code",
   "execution_count": 28,
   "id": "99c1d247-8efd-4342-afcf-1a1c4b4c5c86",
   "metadata": {},
   "outputs": [
    {
     "data": {
      "text/plain": [
       "{1, 4, 7, 8, 9}"
      ]
     },
     "execution_count": 28,
     "metadata": {},
     "output_type": "execute_result"
    }
   ],
   "source": [
    "#  symmetric difference\n",
    "set1={1,2,3,4,5}\n",
    "set2={5,7,8,9,2,3}\n",
    "set1.symmetric_difference(set2)"
   ]
  },
  {
   "cell_type": "code",
   "execution_count": 31,
   "id": "f5bdced7-299b-41e3-b4d5-f10cdb69d260",
   "metadata": {},
   "outputs": [
    {
     "data": {
      "text/plain": [
       "True"
      ]
     },
     "execution_count": 31,
     "metadata": {},
     "output_type": "execute_result"
    }
   ],
   "source": [
    "# issubset()\n",
    "set1={1,2,3}\n",
    "set2={5,7,8,9,3,2,1}\n",
    "set1.issubset(set2)"
   ]
  },
  {
   "cell_type": "code",
   "execution_count": 32,
   "id": "64ea4601-d4e6-430f-a32c-3fc6b881ff70",
   "metadata": {},
   "outputs": [
    {
     "data": {
      "text/plain": [
       "False"
      ]
     },
     "execution_count": 32,
     "metadata": {},
     "output_type": "execute_result"
    }
   ],
   "source": [
    "set1={1,2,3}\n",
    "set2={5,7,8,9,3}\n",
    "set1.issubset(set2)"
   ]
  },
  {
   "cell_type": "code",
   "execution_count": 34,
   "id": "0ec17771-3f72-4cd8-9a2d-7c20a733d3e3",
   "metadata": {},
   "outputs": [
    {
     "data": {
      "text/plain": [
       "True"
      ]
     },
     "execution_count": 34,
     "metadata": {},
     "output_type": "execute_result"
    }
   ],
   "source": [
    "# issuperset()\n",
    "set1={1,2,3}\n",
    "set2={2,1}\n",
    "set1.issuperset(set2)"
   ]
  },
  {
   "cell_type": "code",
   "execution_count": 35,
   "id": "dc70adcd-889f-45a6-82b4-14f44fee8cb9",
   "metadata": {},
   "outputs": [
    {
     "data": {
      "text/plain": [
       "True"
      ]
     },
     "execution_count": 35,
     "metadata": {},
     "output_type": "execute_result"
    }
   ],
   "source": [
    "set1={1,2,3}\n",
    "set2={4,5,6}\n",
    "set1.isdisjoint(set2)# true if sets hv no common elements"
   ]
  },
  {
   "cell_type": "code",
   "execution_count": 36,
   "id": "099cf27a-152b-4e60-bdc5-2c64e318f42f",
   "metadata": {},
   "outputs": [
    {
     "data": {
      "text/plain": [
       "{1, 2, 3}"
      ]
     },
     "execution_count": 36,
     "metadata": {},
     "output_type": "execute_result"
    }
   ],
   "source": [
    "# copy()  shallow copy of the set\n",
    "set1={1,2,3}\n",
    "set2=set1.copy()\n",
    "set2"
   ]
  },
  {
   "cell_type": "code",
   "execution_count": 37,
   "id": "d5a4755c-b7d6-4c75-9f2f-84448bdbdfa1",
   "metadata": {},
   "outputs": [
    {
     "data": {
      "text/plain": [
       "frozenset({1, 2, 3})"
      ]
     },
     "execution_count": 37,
     "metadata": {},
     "output_type": "execute_result"
    }
   ],
   "source": [
    "# frozenset()\n",
    "set1={1,2,3}\n",
    "a=frozenset(set1)\n",
    "a"
   ]
  },
  {
   "cell_type": "code",
   "execution_count": 38,
   "id": "92738fba-fd1f-4031-85c8-5fbc83aec13b",
   "metadata": {},
   "outputs": [
    {
     "data": {
      "text/plain": [
       "{1, 2, 3, 7}"
      ]
     },
     "execution_count": 38,
     "metadata": {},
     "output_type": "execute_result"
    }
   ],
   "source": [
    "set1.add(7)\n",
    "set1"
   ]
  },
  {
   "cell_type": "code",
   "execution_count": 39,
   "id": "bb63bc80-ec0c-4790-a9ae-d99ea859018c",
   "metadata": {},
   "outputs": [
    {
     "ename": "AttributeError",
     "evalue": "'frozenset' object has no attribute 'add'",
     "output_type": "error",
     "traceback": [
      "\u001b[1;31m---------------------------------------------------------------------------\u001b[0m",
      "\u001b[1;31mAttributeError\u001b[0m                            Traceback (most recent call last)",
      "Cell \u001b[1;32mIn[39], line 1\u001b[0m\n\u001b[1;32m----> 1\u001b[0m a\u001b[38;5;241m.\u001b[39madd(\u001b[38;5;241m4\u001b[39m)\n",
      "\u001b[1;31mAttributeError\u001b[0m: 'frozenset' object has no attribute 'add'"
     ]
    }
   ],
   "source": [
    "a.add(4)"
   ]
  },
  {
   "cell_type": "code",
   "execution_count": 41,
   "id": "a7c1303d-97ae-4eec-a90d-91f8cf6f3cb8",
   "metadata": {},
   "outputs": [
    {
     "data": {
      "text/plain": [
       "4"
      ]
     },
     "execution_count": 41,
     "metadata": {},
     "output_type": "execute_result"
    }
   ],
   "source": [
    "# length()\n",
    "set1={6,4,8,3}\n",
    "len(set1)"
   ]
  },
  {
   "cell_type": "code",
   "execution_count": 42,
   "id": "f19be7e2-6d97-4a89-a72f-12451dbe7902",
   "metadata": {},
   "outputs": [
    {
     "data": {
      "text/plain": [
       "8"
      ]
     },
     "execution_count": 42,
     "metadata": {},
     "output_type": "execute_result"
    }
   ],
   "source": [
    "# max()\n",
    "max(set1)"
   ]
  },
  {
   "cell_type": "code",
   "execution_count": 43,
   "id": "edbc46e3-bda5-4c4e-975a-64f728996349",
   "metadata": {},
   "outputs": [
    {
     "data": {
      "text/plain": [
       "3"
      ]
     },
     "execution_count": 43,
     "metadata": {},
     "output_type": "execute_result"
    }
   ],
   "source": [
    "# min()\n",
    "min(set1)"
   ]
  },
  {
   "cell_type": "code",
   "execution_count": 44,
   "id": "eab0767c-623c-42e0-b971-78754f4f87ee",
   "metadata": {},
   "outputs": [
    {
     "data": {
      "text/plain": [
       "21"
      ]
     },
     "execution_count": 44,
     "metadata": {},
     "output_type": "execute_result"
    }
   ],
   "source": [
    "# sum()\n",
    "sum(set1)"
   ]
  },
  {
   "cell_type": "code",
   "execution_count": 45,
   "id": "713105cc-2f74-4f47-9999-70431f4e3be3",
   "metadata": {},
   "outputs": [
    {
     "data": {
      "text/plain": [
       "[3, 4, 6, 8]"
      ]
     },
     "execution_count": 45,
     "metadata": {},
     "output_type": "execute_result"
    }
   ],
   "source": [
    "sorted(set1)"
   ]
  },
  {
   "cell_type": "code",
   "execution_count": 48,
   "id": "6223b680-13df-4de0-bc65-472a1e1c676a",
   "metadata": {},
   "outputs": [
    {
     "data": {
      "text/plain": [
       "True"
      ]
     },
     "execution_count": 48,
     "metadata": {},
     "output_type": "execute_result"
    }
   ],
   "source": [
    "set1={1,2,3,4}\n",
    "any(set1)"
   ]
  },
  {
   "cell_type": "code",
   "execution_count": 50,
   "id": "394fb2e3-7460-4360-9a4e-773db46c681e",
   "metadata": {},
   "outputs": [
    {
     "data": {
      "text/plain": [
       "True"
      ]
     },
     "execution_count": 50,
     "metadata": {},
     "output_type": "execute_result"
    }
   ],
   "source": [
    "set1={2,3,4,0}\n",
    "any(set1)"
   ]
  },
  {
   "cell_type": "code",
   "execution_count": 51,
   "id": "bab83b29-37e8-4eb6-9f5f-5da4b1420e9a",
   "metadata": {},
   "outputs": [
    {
     "data": {
      "text/plain": [
       "False"
      ]
     },
     "execution_count": 51,
     "metadata": {},
     "output_type": "execute_result"
    }
   ],
   "source": [
    "\n",
    "set1={2,3,4,0}\n",
    "all(set1)"
   ]
  },
  {
   "cell_type": "code",
   "execution_count": 54,
   "id": "5e8edbbb-6c2c-45a0-b97f-c3964375fc39",
   "metadata": {},
   "outputs": [
    {
     "data": {
      "text/plain": [
       "{2, 3, 4, 7}"
      ]
     },
     "execution_count": 54,
     "metadata": {},
     "output_type": "execute_result"
    }
   ],
   "source": [
    "list1=[2,3,4,7]\n",
    "set2=set(set1)\n",
    "set2"
   ]
  },
  {
   "cell_type": "code",
   "execution_count": 55,
   "id": "f43d7775-8436-4254-abcc-274ffc6309a7",
   "metadata": {},
   "outputs": [
    {
     "name": "stdout",
     "output_type": "stream",
     "text": [
      "{1, 4, 9, 16, 25}\n"
     ]
    }
   ],
   "source": [
    "numbers=[1,2,3,4,5]\n",
    "squares={x**2 for x in numbers}\n",
    "print(squares)"
   ]
  },
  {
   "cell_type": "code",
   "execution_count": 56,
   "id": "fef4e4a5-49bd-4564-9752-5af0808f32b9",
   "metadata": {},
   "outputs": [
    {
     "name": "stdout",
     "output_type": "stream",
     "text": [
      "{16, 4}\n"
     ]
    }
   ],
   "source": [
    "numbers=[1,2,3,4,5]\n",
    "squares={x**2 for x in numbers if x%2==0}\n",
    "print(squares)"
   ]
  },
  {
   "cell_type": "code",
   "execution_count": null,
   "id": "116ec956-5039-49b4-97dc-1a920c09f304",
   "metadata": {},
   "outputs": [],
   "source": []
  }
 ],
 "metadata": {
  "kernelspec": {
   "display_name": "Python [conda env:base] *",
   "language": "python",
   "name": "conda-base-py"
  },
  "language_info": {
   "codemirror_mode": {
    "name": "ipython",
    "version": 3
   },
   "file_extension": ".py",
   "mimetype": "text/x-python",
   "name": "python",
   "nbconvert_exporter": "python",
   "pygments_lexer": "ipython3",
   "version": "3.12.7"
  }
 },
 "nbformat": 4,
 "nbformat_minor": 5
}
