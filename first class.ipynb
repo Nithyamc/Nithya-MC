{
 "cells": [
  {
   "cell_type": "code",
   "execution_count": 31,
   "id": "160bfe83-d8a4-4958-9004-542ed3b828fc",
   "metadata": {},
   "outputs": [
    {
     "name": "stdout",
     "output_type": "stream",
     "text": [
      "hello world!\n"
     ]
    }
   ],
   "source": [
    "print(\"hello world!\")"
   ]
  },
  {
   "cell_type": "markdown",
   "id": "85e36078-447c-45a0-ad04-969f7ece860f",
   "metadata": {},
   "source": [
    "welcome to the classes"
   ]
  },
  {
   "cell_type": "code",
   "execution_count": 32,
   "id": "4386d59d-bed1-412b-8b06-effd8d00ad94",
   "metadata": {},
   "outputs": [],
   "source": [
    "a=12"
   ]
  },
  {
   "cell_type": "code",
   "execution_count": 33,
   "id": "5a65bb2b-dcb2-431c-9d98-460ce3a12169",
   "metadata": {},
   "outputs": [],
   "source": [
    "B=56"
   ]
  },
  {
   "cell_type": "code",
   "execution_count": 34,
   "id": "94a1d659-0698-4f80-bd75-1d32fbce4464",
   "metadata": {},
   "outputs": [
    {
     "name": "stdout",
     "output_type": "stream",
     "text": [
      "12\n"
     ]
    }
   ],
   "source": [
    "print(a)"
   ]
  },
  {
   "cell_type": "code",
   "execution_count": 35,
   "id": "eb78f833-5dcd-42ac-87a5-8b50bdb4eacc",
   "metadata": {},
   "outputs": [
    {
     "name": "stdout",
     "output_type": "stream",
     "text": [
      "hello****world\n"
     ]
    }
   ],
   "source": [
    "print(\"hello\",end=\"****\")\n",
    "print(\"world\")"
   ]
  },
  {
   "cell_type": "code",
   "execution_count": 52,
   "id": "b419aa41-80a7-4038-a616-eb80b0a10446",
   "metadata": {},
   "outputs": [
    {
     "name": "stdout",
     "output_type": "stream",
     "text": [
      "hello world\n"
     ]
    }
   ],
   "source": [
    "print(\"hello\",end=\" \")\n",
    "print(\"world\")"
   ]
  },
  {
   "cell_type": "code",
   "execution_count": 36,
   "id": "c6548889-fe71-450c-a5d3-9d78f3a3ab4a",
   "metadata": {},
   "outputs": [
    {
     "data": {
      "text/plain": [
       "int"
      ]
     },
     "execution_count": 36,
     "metadata": {},
     "output_type": "execute_result"
    }
   ],
   "source": [
    "type(a)"
   ]
  },
  {
   "cell_type": "code",
   "execution_count": 37,
   "id": "fb1d47a6-76fe-4248-8663-c1d8b9f47f06",
   "metadata": {},
   "outputs": [],
   "source": [
    "lis=[1,2,3]\n",
    "num=[\"gd\",\"gd\"]\n",
    "boo=[True,False]"
   ]
  },
  {
   "cell_type": "code",
   "execution_count": 38,
   "id": "8d92e585-46ee-4749-a17a-97eaae9f693c",
   "metadata": {},
   "outputs": [
    {
     "data": {
      "text/plain": [
       "list"
      ]
     },
     "execution_count": 38,
     "metadata": {},
     "output_type": "execute_result"
    }
   ],
   "source": [
    "type(lis)"
   ]
  },
  {
   "cell_type": "code",
   "execution_count": 40,
   "id": "14ea8c07-96cd-4307-80b4-7dd24923cdf2",
   "metadata": {},
   "outputs": [],
   "source": [
    "tup=(3,5,7)"
   ]
  },
  {
   "cell_type": "code",
   "execution_count": 41,
   "id": "9d988167-5438-4bd4-bd6d-4f4a0ef6e3b7",
   "metadata": {},
   "outputs": [
    {
     "data": {
      "text/plain": [
       "tuple"
      ]
     },
     "execution_count": 41,
     "metadata": {},
     "output_type": "execute_result"
    }
   ],
   "source": [
    "type(tup)"
   ]
  },
  {
   "cell_type": "code",
   "execution_count": 45,
   "id": "07f4f908-4781-44ff-a3d5-91b87c9cd813",
   "metadata": {},
   "outputs": [],
   "source": [
    "string=\"gdes\""
   ]
  },
  {
   "cell_type": "code",
   "execution_count": 46,
   "id": "3351d66e-07d9-49eb-bb07-530ed5af50ae",
   "metadata": {},
   "outputs": [
    {
     "data": {
      "text/plain": [
       "str"
      ]
     },
     "execution_count": 46,
     "metadata": {},
     "output_type": "execute_result"
    }
   ],
   "source": [
    "type(string)"
   ]
  },
  {
   "cell_type": "code",
   "execution_count": 49,
   "id": "cf6107cb-53b3-46ba-8ef6-f96fe3cbe46b",
   "metadata": {},
   "outputs": [],
   "source": [
    "fruits={\"apple\",4,\"drf\",89.5,4}"
   ]
  },
  {
   "cell_type": "code",
   "execution_count": 50,
   "id": "10a2d522-22f2-4d54-ad70-b1226a840cd4",
   "metadata": {},
   "outputs": [
    {
     "data": {
      "text/plain": [
       "set"
      ]
     },
     "execution_count": 50,
     "metadata": {},
     "output_type": "execute_result"
    }
   ],
   "source": [
    "type(fruits)"
   ]
  },
  {
   "cell_type": "code",
   "execution_count": 51,
   "id": "ac950e81-18a9-4be3-afe8-de27af550c85",
   "metadata": {},
   "outputs": [
    {
     "name": "stdout",
     "output_type": "stream",
     "text": [
      "{'apple', 89.5, 4, 'drf'}\n"
     ]
    }
   ],
   "source": [
    "print(fruits)"
   ]
  },
  {
   "cell_type": "code",
   "execution_count": null,
   "id": "3b8eb537-6b59-4949-8b8a-5e0c91f6daae",
   "metadata": {},
   "outputs": [],
   "source": []
  }
 ],
 "metadata": {
  "kernelspec": {
   "display_name": "Python [conda env:base] *",
   "language": "python",
   "name": "conda-base-py"
  },
  "language_info": {
   "codemirror_mode": {
    "name": "ipython",
    "version": 3
   },
   "file_extension": ".py",
   "mimetype": "text/x-python",
   "name": "python",
   "nbconvert_exporter": "python",
   "pygments_lexer": "ipython3",
   "version": "3.12.7"
  }
 },
 "nbformat": 4,
 "nbformat_minor": 5
}
