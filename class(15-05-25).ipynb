{
 "cells": [
  {
   "cell_type": "markdown",
   "id": "47e03ac0-6bf9-48e0-b5a4-57e6d2659df8",
   "metadata": {},
   "source": [
    "# functions"
   ]
  },
  {
   "cell_type": "code",
   "execution_count": null,
   "id": "ea15990c-6c48-4043-8bff-d6a157ede66a",
   "metadata": {},
   "outputs": [],
   "source": [
    "a user defined function is a block of code that performs a specific task and is created by the user"
   ]
  },
  {
   "cell_type": "code",
   "execution_count": null,
   "id": "1963cd5b-6aec-42b5-80db-d84e7573bfdd",
   "metadata": {},
   "outputs": [],
   "source": [
    "syntax, as \n",
    "\n",
    "def function_name():\n",
    "\n",
    "    # function body\n",
    "    # code to execute\n"
   ]
  },
  {
   "cell_type": "code",
   "execution_count": 1,
   "id": "836891ce-22a6-4751-bce0-5baa2757bc67",
   "metadata": {},
   "outputs": [
    {
     "name": "stdout",
     "output_type": "stream",
     "text": [
      "15\n"
     ]
    }
   ],
   "source": [
    "# example\n",
    "\n",
    "def add_two():\n",
    "    a=10\n",
    "    b=5\n",
    "    c=a+b\n",
    "    print(c)\n",
    "\n",
    "add_two()"
   ]
  },
  {
   "cell_type": "code",
   "execution_count": 2,
   "id": "e9ee77b7-9f09-4374-95e9-3aad3f6bf2f8",
   "metadata": {},
   "outputs": [
    {
     "name": "stdin",
     "output_type": "stream",
     "text": [
      "enter your name: navya\n"
     ]
    },
    {
     "name": "stdout",
     "output_type": "stream",
     "text": [
      "hello navya welcome to the party\n"
     ]
    }
   ],
   "source": [
    "def greet():\n",
    "    name=input('enter your name:')\n",
    "    print(f'hello {name} welcome to the party')\n",
    "\n",
    "greet()"
   ]
  },
  {
   "cell_type": "markdown",
   "id": "c55dfce9-4f1d-48f0-b8b0-ac1bb1d28d34",
   "metadata": {},
   "source": [
    "function calling"
   ]
  },
  {
   "cell_type": "code",
   "execution_count": 3,
   "id": "9e181a1b-8d01-41d7-a7eb-19eedab1fb28",
   "metadata": {},
   "outputs": [
    {
     "name": "stdout",
     "output_type": "stream",
     "text": [
      "5\n"
     ]
    }
   ],
   "source": [
    "def sub():\n",
    "    x=20\n",
    "    y=15\n",
    "    c=x-y\n",
    "    print(c)\n",
    "\n",
    "sub()"
   ]
  },
  {
   "cell_type": "code",
   "execution_count": 6,
   "id": "ca8099c9-d99f-4925-8fe7-71563ded78c9",
   "metadata": {},
   "outputs": [
    {
     "name": "stdin",
     "output_type": "stream",
     "text": [
      "enter 1st number: 10\n",
      "enter 2st number: 8\n",
      "enter the operation (+,-,*,/):  *\n"
     ]
    },
    {
     "name": "stdout",
     "output_type": "stream",
     "text": [
      "80\n"
     ]
    }
   ],
   "source": [
    "def calculator():\n",
    "    num1=int(input('enter 1st number:'))\n",
    "    num2=int(input('enter 2st number:'))\n",
    "    add=num1+num2\n",
    "    sub=num1-num2\n",
    "    product=num1*num2\n",
    "    division=num1/num2\n",
    "    user=input('enter the operation (+,-,*,/): ')\n",
    "    if user=='+':\n",
    "        print(add)\n",
    "    elif user=='-':\n",
    "        print(sub)\n",
    "    elif user=='/':\n",
    "        print(division)\n",
    "    elif user=='*':\n",
    "        print(product)\n",
    "    else:\n",
    "        print('enter valid operation')\n",
    "\n",
    "calculator()"
   ]
  },
  {
   "cell_type": "code",
   "execution_count": 7,
   "id": "ff41c6b2-18a2-4e8e-94c2-e2b93c00bb8b",
   "metadata": {},
   "outputs": [
    {
     "name": "stdin",
     "output_type": "stream",
     "text": [
      "enter multiplication table 6\n"
     ]
    },
    {
     "name": "stdout",
     "output_type": "stream",
     "text": [
      "6 x 1 = 6 \n",
      "6 x 2 = 12 \n",
      "6 x 3 = 18 \n",
      "6 x 4 = 24 \n",
      "6 x 5 = 30 \n",
      "6 x 6 = 36 \n",
      "6 x 7 = 42 \n",
      "6 x 8 = 48 \n",
      "6 x 9 = 54 \n",
      "6 x 10 = 60 \n"
     ]
    }
   ],
   "source": [
    "def mul_table():\n",
    "    num=int(input('enter multiplication table: '))\n",
    "    for i in range(1,11):\n",
    "        print(f'{num} x {i} = {num*i} ')\n",
    "\n",
    "mul_table()"
   ]
  },
  {
   "cell_type": "code",
   "execution_count": 9,
   "id": "77a65197-6e2f-4d08-a52e-2de6b70f7f54",
   "metadata": {},
   "outputs": [
    {
     "name": "stdout",
     "output_type": "stream",
     "text": [
      "7 x 1 = 7 \n",
      "7 x 2 = 14 \n",
      "7 x 3 = 21 \n",
      "7 x 4 = 28 \n",
      "7 x 5 = 35 \n",
      "7 x 6 = 42 \n",
      "7 x 7 = 49 \n",
      "7 x 8 = 56 \n",
      "7 x 9 = 63 \n",
      "7 x 10 = 70 \n"
     ]
    }
   ],
   "source": [
    "def mul_table(num):\n",
    "    # num=int(input('enter multiplication table: '))\n",
    "    for i in range(1,11):\n",
    "        print(f'{num} x {i} = {num*i} ')\n",
    "\n",
    "mul_table(7)"
   ]
  },
  {
   "cell_type": "code",
   "execution_count": null,
   "id": "06ac9d1d-7e84-4f4a-9128-225d4b940c63",
   "metadata": {},
   "outputs": [],
   "source": [
    "parameters\n",
    "arguments\n",
    "\n",
    "syntax\n",
    "\n",
    "def func_name(par1,par2): // parameters - are the placeholders\n",
    "    # function body\n",
    "\n",
    "\n",
    "func_name(arg1,arg2)    // argumants - actual values passed to the function when it is called\n",
    "\n"
   ]
  },
  {
   "cell_type": "code",
   "execution_count": 10,
   "id": "2f33fe3c-6018-4dee-826b-e46505075ccb",
   "metadata": {},
   "outputs": [
    {
     "name": "stdout",
     "output_type": "stream",
     "text": [
      "hello, alice!\n"
     ]
    }
   ],
   "source": [
    "def greet(name):   // name is  a parameter\n",
    "    print(f'hello, {name}!')\n",
    "\n",
    "greet('alice')      // alice is an argument"
   ]
  },
  {
   "cell_type": "code",
   "execution_count": null,
   "id": "690260c7-15d7-4f83-9a76-be927899e2a5",
   "metadata": {},
   "outputs": [],
   "source": [
    "formal parameters\n",
    "actual parameters"
   ]
  },
  {
   "cell_type": "code",
   "execution_count": 12,
   "id": "2eda329c-5a73-44bb-a1d8-956d2af30e73",
   "metadata": {},
   "outputs": [
    {
     "name": "stdout",
     "output_type": "stream",
     "text": [
      "hello, alice!\n"
     ]
    }
   ],
   "source": [
    "def greet(name):   # name is  a formal parameters\n",
    "    print(f'hello, {name}!')\n",
    "\n",
    "greet('alice')     # alice is an  actual parameters"
   ]
  },
  {
   "cell_type": "code",
   "execution_count": null,
   "id": "5589867f-39c0-4598-a76b-d36b80dfb35d",
   "metadata": {},
   "outputs": [],
   "source": [
    "return statements in python\n",
    "key points\n",
    "exiting function\n",
    "returning a value\n",
    "multiple retrurns\n",
    "return without a value"
   ]
  },
  {
   "cell_type": "code",
   "execution_count": 13,
   "id": "76bdc659-5353-4cc9-9c8a-8f921eebd5ee",
   "metadata": {},
   "outputs": [
    {
     "data": {
      "text/plain": [
       "110"
      ]
     },
     "execution_count": 13,
     "metadata": {},
     "output_type": "execute_result"
    }
   ],
   "source": [
    "def func():\n",
    "    a=67\n",
    "    b=43\n",
    "    return a+b\n",
    "\n",
    "func()"
   ]
  },
  {
   "cell_type": "code",
   "execution_count": 14,
   "id": "01cd8774-6433-490f-a926-6731c3363e2a",
   "metadata": {},
   "outputs": [
    {
     "data": {
      "text/plain": [
       "110"
      ]
     },
     "execution_count": 14,
     "metadata": {},
     "output_type": "execute_result"
    }
   ],
   "source": [
    "#  basic use of return\n",
    "\n",
    "def func():\n",
    "    a=67\n",
    "    b=43\n",
    "    c=a+b\n",
    "    return c\n",
    "\n",
    "func()"
   ]
  },
  {
   "cell_type": "code",
   "execution_count": null,
   "id": "c583b704-b91e-4076-a418-2545b5bd1a06",
   "metadata": {},
   "outputs": [],
   "source": [
    "methods that return something\n",
    "\n",
    "data type              method             description\n",
    "list\n",
    "dictionary\n",
    "set"
   ]
  },
  {
   "cell_type": "code",
   "execution_count": 17,
   "id": "1713080c-358c-4875-88b5-acbdae76073b",
   "metadata": {},
   "outputs": [
    {
     "data": {
      "text/plain": [
       "'even'"
      ]
     },
     "execution_count": 17,
     "metadata": {},
     "output_type": "execute_result"
    }
   ],
   "source": [
    "# returning multiple values\n",
    "# early exit with return\n",
    "def check_even(num):\n",
    "    if num%2==0:\n",
    "        return \"even\"\n",
    "\n",
    "    return \"odd\"\n",
    "\n",
    "check_even(6)"
   ]
  },
  {
   "cell_type": "code",
   "execution_count": 18,
   "id": "84024d16-f4f2-4f19-96d3-f6a56dbf571e",
   "metadata": {},
   "outputs": [
    {
     "name": "stdout",
     "output_type": "stream",
     "text": [
      "[1, 2, 3, 4]\n"
     ]
    }
   ],
   "source": [
    "# collections\n",
    "def create_list():\n",
    "    return [1,2,3,4]\n",
    "\n",
    "my_list=create_list()\n",
    "print(my_list)"
   ]
  },
  {
   "cell_type": "code",
   "execution_count": 19,
   "id": "15974c95-88d1-4ecb-83dc-5fd6ae347256",
   "metadata": {},
   "outputs": [
    {
     "name": "stdout",
     "output_type": "stream",
     "text": [
      "[1, 2, 3, 4]\n"
     ]
    }
   ],
   "source": [
    "def create_list(list):\n",
    "    return list\n",
    "\n",
    "my_list=create_list([1,2,3,4])\n",
    "print(my_list)"
   ]
  },
  {
   "cell_type": "code",
   "execution_count": null,
   "id": "2ac8221c-c84e-4be0-bc11-80199c22290f",
   "metadata": {},
   "outputs": [],
   "source": [
    "types of arguments\n",
    "default argument"
   ]
  }
 ],
 "metadata": {
  "kernelspec": {
   "display_name": "Python [conda env:base] *",
   "language": "python",
   "name": "conda-base-py"
  },
  "language_info": {
   "codemirror_mode": {
    "name": "ipython",
    "version": 3
   },
   "file_extension": ".py",
   "mimetype": "text/x-python",
   "name": "python",
   "nbconvert_exporter": "python",
   "pygments_lexer": "ipython3",
   "version": "3.12.7"
  }
 },
 "nbformat": 4,
 "nbformat_minor": 5
}
