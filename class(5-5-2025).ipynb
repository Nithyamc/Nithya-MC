{
 "cells": [
  {
   "cell_type": "code",
   "execution_count": 1,
   "id": "886e316c-d0fb-4fe9-ab11-1650b49b6c3f",
   "metadata": {},
   "outputs": [
    {
     "name": "stdout",
     "output_type": "stream",
     "text": [
      "current number is : 10\n",
      "current number is : 8\n",
      "current number is : 6\n",
      "current number is : 4\n",
      "current number is : 2\n"
     ]
    }
   ],
   "source": [
    "number=10\n",
    "while number>0:\n",
    "    print('current number is :',number)\n",
    "    number-=2"
   ]
  },
  {
   "cell_type": "markdown",
   "id": "f44da6fd-68f6-4cf4-bcdd-583c1bf95d7c",
   "metadata": {},
   "source": [
    "## while loop"
   ]
  },
  {
   "cell_type": "code",
   "execution_count": 1,
   "id": "853d8a10-b93e-4633-8600-ad4e3b4077d8",
   "metadata": {},
   "outputs": [
    {
     "name": "stdout",
     "output_type": "stream",
     "text": [
      "x is: 3\n",
      "x is: 2\n",
      "x is: 1\n",
      "loop has ended,\n"
     ]
    }
   ],
   "source": [
    "#using else with while loop\n",
    "x=3\n",
    "while x>0:\n",
    "    print('x is:',x)\n",
    "    x-=1\n",
    "else:\n",
    "    print('loop has ended,')\n",
    "          "
   ]
  },
  {
   "cell_type": "code",
   "execution_count": null,
   "id": "70eff2c2-f4f4-4d59-933b-39c50ed95538",
   "metadata": {},
   "outputs": [],
   "source": [
    "#infinite while loop\n",
    "while True:\n",
    "    print('this loop runs forever unless stopped')"
   ]
  },
  {
   "cell_type": "markdown",
   "id": "1e896523-5dc9-490b-9769-0cb53a613a18",
   "metadata": {},
   "source": [
    "# strings"
   ]
  },
  {
   "cell_type": "code",
   "execution_count": null,
   "id": "20802bce-77a4-4112-a031-860b07838618",
   "metadata": {},
   "outputs": [],
   "source": [
    "# sequence of charavters enclosed with single, double or triple quotes\n",
    "used for textual data storing n accessing"
   ]
  },
  {
   "cell_type": "code",
   "execution_count": null,
   "id": "85849045-f5ab-4973-924a-783dd96b31d1",
   "metadata": {},
   "outputs": [],
   "source": [
    "applications of strings:\n",
    "content management system  \n",
    "natural language processing\n",
    "database management\n",
    "web developments"
   ]
  },
  {
   "cell_type": "code",
   "execution_count": 3,
   "id": "37b2cb89-cd72-440a-88ef-e5b65902ed58",
   "metadata": {},
   "outputs": [
    {
     "data": {
      "text/plain": [
       "'navya'"
      ]
     },
     "execution_count": 3,
     "metadata": {},
     "output_type": "execute_result"
    }
   ],
   "source": [
    "str1='navya'\n",
    "str1"
   ]
  },
  {
   "cell_type": "code",
   "execution_count": 6,
   "id": "048a4e98-2c07-4f93-a9a4-7e9e6266578a",
   "metadata": {},
   "outputs": [
    {
     "data": {
      "text/plain": [
       "','"
      ]
     },
     "execution_count": 6,
     "metadata": {},
     "output_type": "execute_result"
    }
   ],
   "source": [
    "str2='hello, world'\n",
    "str2[5]\n",
    "\n"
   ]
  },
  {
   "cell_type": "code",
   "execution_count": 7,
   "id": "a1d8aebc-1399-4fb0-be2d-a1c613224b04",
   "metadata": {},
   "outputs": [
    {
     "data": {
      "text/plain": [
       "'d'"
      ]
     },
     "execution_count": 7,
     "metadata": {},
     "output_type": "execute_result"
    }
   ],
   "source": [
    "\n",
    "str2[-1]"
   ]
  },
  {
   "cell_type": "code",
   "execution_count": 8,
   "id": "a6bfb897-f13d-4fbc-8562-b74246ad6c24",
   "metadata": {},
   "outputs": [
    {
     "data": {
      "text/plain": [
       "','"
      ]
     },
     "execution_count": 8,
     "metadata": {},
     "output_type": "execute_result"
    }
   ],
   "source": [
    "str2[5]"
   ]
  },
  {
   "cell_type": "code",
   "execution_count": 9,
   "id": "1b74071d-da4a-4034-9f97-5bdff0d8a7fd",
   "metadata": {},
   "outputs": [
    {
     "data": {
      "text/plain": [
       "'h'"
      ]
     },
     "execution_count": 9,
     "metadata": {},
     "output_type": "execute_result"
    }
   ],
   "source": [
    "str2[0]"
   ]
  },
  {
   "cell_type": "code",
   "execution_count": 10,
   "id": "9e46d3f2-ce08-45cf-bc3c-a138fe495778",
   "metadata": {},
   "outputs": [
    {
     "data": {
      "text/plain": [
       "' '"
      ]
     },
     "execution_count": 10,
     "metadata": {},
     "output_type": "execute_result"
    }
   ],
   "source": [
    "str2[6]"
   ]
  },
  {
   "cell_type": "markdown",
   "id": "2d1773c2-5de3-4d34-9687-2ae7549e11d7",
   "metadata": {},
   "source": [
    "STRING SLICING"
   ]
  },
  {
   "cell_type": "code",
   "execution_count": null,
   "id": "995498a7-3671-4a9c-b21e-c94d4bd53c6b",
   "metadata": {},
   "outputs": [],
   "source": [
    "slicing allows u to access the specific part of the string"
   ]
  },
  {
   "cell_type": "code",
   "execution_count": null,
   "id": "78fb6358-9a22-453e-b7b9-d6d393fc0587",
   "metadata": {},
   "outputs": [],
   "source": [
    "#basic slicing[start:stop]"
   ]
  },
  {
   "cell_type": "code",
   "execution_count": null,
   "id": "cb093a21-444b-4767-97ad-ee705d65b7d0",
   "metadata": {},
   "outputs": [],
   "source": [
    "#slicing with step[start:stop:step]"
   ]
  },
  {
   "cell_type": "code",
   "execution_count": 3,
   "id": "175a28b3-5a09-4e65-acd0-93c3ee9a21e1",
   "metadata": {},
   "outputs": [
    {
     "data": {
      "text/plain": [
       "'python p'"
      ]
     },
     "execution_count": 3,
     "metadata": {},
     "output_type": "execute_result"
    }
   ],
   "source": [
    "#omitting start and stop\n",
    "str1='python programming'\n",
    "str1[:8]"
   ]
  },
  {
   "cell_type": "code",
   "execution_count": 4,
   "id": "cf74019d-ca3d-43c2-b99a-c9a80b4e3b28",
   "metadata": {},
   "outputs": [
    {
     "data": {
      "text/plain": [
       "'thon programming'"
      ]
     },
     "execution_count": 4,
     "metadata": {},
     "output_type": "execute_result"
    }
   ],
   "source": [
    "str1[2:]"
   ]
  },
  {
   "cell_type": "code",
   "execution_count": 6,
   "id": "01dd486a-e349-466d-a486-586a481e13b1",
   "metadata": {},
   "outputs": [
    {
     "data": {
      "text/plain": [
       "'ph '"
      ]
     },
     "execution_count": 6,
     "metadata": {},
     "output_type": "execute_result"
    }
   ],
   "source": [
    "str1[:8:3]"
   ]
  },
  {
   "cell_type": "code",
   "execution_count": 8,
   "id": "13c9803f-236b-489c-9a0e-53ad80d730ed",
   "metadata": {},
   "outputs": [
    {
     "data": {
      "text/plain": [
       "'python'"
      ]
     },
     "execution_count": 8,
     "metadata": {},
     "output_type": "execute_result"
    }
   ],
   "source": [
    "text=\"python programming\"\n",
    "substring=text[:6]\n",
    "substring"
   ]
  },
  {
   "cell_type": "code",
   "execution_count": 9,
   "id": "e7721e3b-791c-4e71-9cbc-c7b5eae30802",
   "metadata": {},
   "outputs": [
    {
     "data": {
      "text/plain": [
       "' programmin'"
      ]
     },
     "execution_count": 9,
     "metadata": {},
     "output_type": "execute_result"
    }
   ],
   "source": [
    "#negatuve indexing\n",
    "substring=text[-12:-1]\n",
    "substring"
   ]
  },
  {
   "cell_type": "code",
   "execution_count": 10,
   "id": "4a8204c2-5dff-435a-81a4-0897bab8c7ac",
   "metadata": {},
   "outputs": [
    {
     "data": {
      "text/plain": [
       "'gnimmargorp nohtyp'"
      ]
     },
     "execution_count": 10,
     "metadata": {},
     "output_type": "execute_result"
    }
   ],
   "source": [
    "#reversed string\n",
    "text[::-1]"
   ]
  },
  {
   "cell_type": "code",
   "execution_count": 12,
   "id": "571db72f-02a3-458e-9bb7-d4beb7926938",
   "metadata": {},
   "outputs": [
    {
     "data": {
      "text/plain": [
       "'hello python'"
      ]
     },
     "execution_count": 12,
     "metadata": {},
     "output_type": "execute_result"
    }
   ],
   "source": [
    "# editing n deleting strings in python\n",
    "original_string='hello world'\n",
    "new_string=original_string.replace('world','python')\n",
    "new_string"
   ]
  },
  {
   "cell_type": "code",
   "execution_count": 13,
   "id": "6e2a639d-bfa0-4587-aa42-83058c765ca4",
   "metadata": {},
   "outputs": [
    {
     "data": {
      "text/plain": [
       "'my name is pallavi'"
      ]
     },
     "execution_count": 13,
     "metadata": {},
     "output_type": "execute_result"
    }
   ],
   "source": [
    "old='my name is navya'\n",
    "new=old.replace('navya','pallavi')\n",
    "new"
   ]
  },
  {
   "cell_type": "code",
   "execution_count": 14,
   "id": "f1bc84c3-d023-496a-9b6d-efc875628b58",
   "metadata": {},
   "outputs": [
    {
     "data": {
      "text/plain": [
       "'my name is pallavi'"
      ]
     },
     "execution_count": 14,
     "metadata": {},
     "output_type": "execute_result"
    }
   ],
   "source": [
    "old='my name is navya'\n",
    "old=old.replace('navya','pallavi')\n",
    "old"
   ]
  },
  {
   "cell_type": "code",
   "execution_count": 16,
   "id": "914466c3-3c92-4c32-9f5e-09084c212b41",
   "metadata": {},
   "outputs": [
    {
     "data": {
      "text/plain": [
       "'my name is navya'"
      ]
     },
     "execution_count": 16,
     "metadata": {},
     "output_type": "execute_result"
    }
   ],
   "source": [
    "old='my name is navya'\n",
    "old.replace('navya','pallavi')\n",
    "old"
   ]
  },
  {
   "cell_type": "code",
   "execution_count": 19,
   "id": "8debf3e3-da8b-470b-85a7-8c30203108ca",
   "metadata": {},
   "outputs": [
    {
     "data": {
      "text/plain": [
       "'hello world!'"
      ]
     },
     "execution_count": 19,
     "metadata": {},
     "output_type": "execute_result"
    }
   ],
   "source": [
    "#concatenation\n",
    "# combining string using + opearator\n",
    "\n",
    "p1=\"hello\"\n",
    "p2='world'\n",
    "combine_string=p1+\" \"+p2+\"!\"\n",
    "combine_string\n"
   ]
  },
  {
   "cell_type": "code",
   "execution_count": 21,
   "id": "fa8a8445-038a-4ca0-b7f0-8a038145b0aa",
   "metadata": {},
   "outputs": [
    {
     "name": "stdout",
     "output_type": "stream",
     "text": [
      "my name is alice and my age is  30\n"
     ]
    }
   ],
   "source": [
    "#formatting\n",
    "name ='alice'\n",
    "age=30\n",
    "print('my name is',name,'and my age is ',age)\n"
   ]
  },
  {
   "cell_type": "code",
   "execution_count": 22,
   "id": "37d28dce-5beb-4a0f-a8a6-3ae9a3d5034f",
   "metadata": {},
   "outputs": [
    {
     "name": "stdout",
     "output_type": "stream",
     "text": [
      "my name is alice,and my age is 30\n"
     ]
    }
   ],
   "source": [
    "name ='alice'\n",
    "age=30\n",
    "print(f'my name is {name},and my age is {age}')"
   ]
  },
  {
   "cell_type": "code",
   "execution_count": 23,
   "id": "da8caef0-d19e-4ad8-aa1c-88cf870ea15c",
   "metadata": {},
   "outputs": [
    {
     "name": "stdout",
     "output_type": "stream",
     "text": [
      "this is alice a string 30\n"
     ]
    }
   ],
   "source": [
    "print(f'this is {name} a string {age}')"
   ]
  },
  {
   "cell_type": "code",
   "execution_count": 12,
   "id": "fa34cf62-8d55-420c-a176-1c0af78fc850",
   "metadata": {},
   "outputs": [],
   "source": [
    "#using none\n",
    "my_string='hello world'\n",
    "my_string=None\n",
    "my_string\n"
   ]
  },
  {
   "cell_type": "code",
   "execution_count": 24,
   "id": "6cefe2ab-bc41-4c16-835d-04df6bac2fa4",
   "metadata": {},
   "outputs": [],
   "source": [
    "#deleting strings using del keyword\n",
    "\n",
    "my_string='hello world'\n",
    "del my_string"
   ]
  },
  {
   "cell_type": "code",
   "execution_count": 25,
   "id": "2b6bd13d-4826-48c5-ab97-3531b52ad576",
   "metadata": {},
   "outputs": [
    {
     "ename": "NameError",
     "evalue": "name 'my_string' is not defined",
     "output_type": "error",
     "traceback": [
      "\u001b[1;31m---------------------------------------------------------------------------\u001b[0m",
      "\u001b[1;31mNameError\u001b[0m                                 Traceback (most recent call last)",
      "Cell \u001b[1;32mIn[25], line 1\u001b[0m\n\u001b[1;32m----> 1\u001b[0m my_string\n",
      "\u001b[1;31mNameError\u001b[0m: name 'my_string' is not defined"
     ]
    }
   ],
   "source": [
    "my_string"
   ]
  },
  {
   "cell_type": "markdown",
   "id": "e9f321b4-35df-4307-8f64-95e2808049c1",
   "metadata": {},
   "source": [
    "## operations on strings\n",
    "arithmetic operations\n",
    "loops on strings\n",
    "membership opearations\n"
   ]
  },
  {
   "cell_type": "code",
   "execution_count": 28,
   "id": "944e6aa4-24eb-40e9-bc55-569bca523238",
   "metadata": {},
   "outputs": [
    {
     "data": {
      "text/plain": [
       "'hello hello hello '"
      ]
     },
     "execution_count": 28,
     "metadata": {},
     "output_type": "execute_result"
    }
   ],
   "source": [
    "#repetition\n",
    "string='hello '\n",
    "result=string *3\n",
    "result\n"
   ]
  },
  {
   "cell_type": "code",
   "execution_count": 29,
   "id": "e354177a-5ad8-4e20-939e-17b15a31f640",
   "metadata": {},
   "outputs": [
    {
     "name": "stdout",
     "output_type": "stream",
     "text": [
      "p\n",
      "y\n",
      "t\n",
      "h\n",
      "o\n",
      "n\n"
     ]
    }
   ],
   "source": [
    "# for loop\n",
    "text='python'\n",
    "for char in text:\n",
    "    print(char)"
   ]
  },
  {
   "cell_type": "code",
   "execution_count": 30,
   "id": "68ddfc89-9ec3-4d3c-a9cb-56948390e414",
   "metadata": {},
   "outputs": [
    {
     "name": "stdout",
     "output_type": "stream",
     "text": [
      "number of vowels: 3\n"
     ]
    }
   ],
   "source": [
    "# count vowels\n",
    "text='programming'\n",
    "vowels='aeiou'\n",
    "count=0\n",
    "for char in text:\n",
    "    if char.lower() in vowels:\n",
    "        count +=1\n",
    "print('number of vowels:',count)        "
   ]
  },
  {
   "cell_type": "code",
   "execution_count": null,
   "id": "4e248212-0ce9-4202-b96b-de848eea982b",
   "metadata": {},
   "outputs": [],
   "source": []
  }
 ],
 "metadata": {
  "kernelspec": {
   "display_name": "Python [conda env:base] *",
   "language": "python",
   "name": "conda-base-py"
  },
  "language_info": {
   "codemirror_mode": {
    "name": "ipython",
    "version": 3
   },
   "file_extension": ".py",
   "mimetype": "text/x-python",
   "name": "python",
   "nbconvert_exporter": "python",
   "pygments_lexer": "ipython3",
   "version": "3.12.7"
  }
 },
 "nbformat": 4,
 "nbformat_minor": 5
}
