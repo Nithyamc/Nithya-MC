{
 "cells": [
  {
   "cell_type": "markdown",
   "id": "9293c980-807f-4f19-b269-50ab67b12371",
   "metadata": {},
   "source": [
    "for loop"
   ]
  },
  {
   "cell_type": "code",
   "execution_count": 3,
   "id": "5bf12c83-0cd5-4145-a404-5a962c4b1c49",
   "metadata": {},
   "outputs": [
    {
     "name": "stdin",
     "output_type": "stream",
     "text": [
      "enter the password= nveeweyyijknhb\n"
     ]
    },
    {
     "name": "stdout",
     "output_type": "stream",
     "text": [
      "strong password\n"
     ]
    }
   ],
   "source": [
    "password=input(\"enter the password=\")\n",
    "if len(password)<6:\n",
    "    print('weak password')\n",
    "elif 6<len(password)<8:\n",
    "    print('moderate password')\n",
    "else:\n",
    "    print('strong password')"
   ]
  },
  {
   "cell_type": "code",
   "execution_count": null,
   "id": "62c971b6-77d3-4ba5-b43a-82ecee52e0c3",
   "metadata": {},
   "outputs": [],
   "source": [
    "# for loop is used for iterating over a sequence (list,tuple,string, or range).it allows u to to excute a block of code repeatedly item in sequence\n",
    "syntax\n",
    "for item in sequence:\n",
    "    code to be executed"
   ]
  },
  {
   "cell_type": "code",
   "execution_count": 4,
   "id": "c2e5b53e-6946-4563-a28c-1f0fcac0db27",
   "metadata": {},
   "outputs": [
    {
     "name": "stdout",
     "output_type": "stream",
     "text": [
      "1\n",
      "2\n",
      "3\n",
      "4\n",
      "5\n"
     ]
    }
   ],
   "source": [
    "a=[1,2,3,4,5]\n",
    "for i in a:\n",
    "    print(i)"
   ]
  },
  {
   "cell_type": "markdown",
   "id": "6ad464b8-f570-4a09-a4c7-c7bb9354e40e",
   "metadata": {},
   "source": [
    "sequence"
   ]
  },
  {
   "cell_type": "code",
   "execution_count": null,
   "id": "cb3c0632-a8ab-4d1e-9640-0bef101b15fa",
   "metadata": {},
   "outputs": [],
   "source": [
    "sequence refers to an oredered collection of items"
   ]
  },
  {
   "cell_type": "code",
   "execution_count": 5,
   "id": "4c01d955-8674-45de-bb0e-c6bf781e9236",
   "metadata": {},
   "outputs": [
    {
     "name": "stdout",
     "output_type": "stream",
     "text": [
      "apple\n",
      "banana\n",
      "cherry\n"
     ]
    }
   ],
   "source": [
    "fruits=['apple','banana','cherry']\n",
    "for fruit in fruits:\n",
    "    print(fruit)"
   ]
  },
  {
   "cell_type": "code",
   "execution_count": 15,
   "id": "1272a4f6-5b83-4572-a762-744729cd9eea",
   "metadata": {},
   "outputs": [
    {
     "ename": "TypeError",
     "evalue": "list expected at most 1 argument, got 3",
     "output_type": "error",
     "traceback": [
      "\u001b[1;31m---------------------------------------------------------------------------\u001b[0m",
      "\u001b[1;31mTypeError\u001b[0m                                 Traceback (most recent call last)",
      "Cell \u001b[1;32mIn[15], line 1\u001b[0m\n\u001b[1;32m----> 1\u001b[0m fruits\u001b[38;5;241m=\u001b[39m\u001b[38;5;28mlist\u001b[39m(\u001b[38;5;124m'\u001b[39m\u001b[38;5;124mapple\u001b[39m\u001b[38;5;124m'\u001b[39m,\u001b[38;5;124m'\u001b[39m\u001b[38;5;124mbanana\u001b[39m\u001b[38;5;124m'\u001b[39m,\u001b[38;5;124m'\u001b[39m\u001b[38;5;124mcherry\u001b[39m\u001b[38;5;124m'\u001b[39m)\n\u001b[0;32m      2\u001b[0m \u001b[38;5;28;01mfor\u001b[39;00m fruit \u001b[38;5;129;01min\u001b[39;00m fruits:\n\u001b[0;32m      3\u001b[0m     \u001b[38;5;28mprint\u001b[39m(fruit)\n",
      "\u001b[1;31mTypeError\u001b[0m: list expected at most 1 argument, got 3"
     ]
    }
   ],
   "source": [
    "fruits=list('apple','banana','cherry')\n",
    "for fruit in fruits:\n",
    "    print(fruit)"
   ]
  },
  {
   "cell_type": "code",
   "execution_count": 16,
   "id": "036f2316-3cea-4fc4-8083-3e93291a6835",
   "metadata": {},
   "outputs": [
    {
     "name": "stdout",
     "output_type": "stream",
     "text": [
      "a\n",
      "p\n",
      "p\n",
      "l\n",
      "e\n"
     ]
    }
   ],
   "source": [
    "fruits=list('apple')\n",
    "for fruit in fruits:\n",
    "    print(fruit)"
   ]
  },
  {
   "cell_type": "code",
   "execution_count": 7,
   "id": "c8e4de2d-9931-4df9-b63f-ede238ba8b44",
   "metadata": {},
   "outputs": [
    {
     "name": "stdout",
     "output_type": "stream",
     "text": [
      "h\n",
      "e\n",
      "l\n",
      "l\n",
      "o\n"
     ]
    }
   ],
   "source": [
    "word='hello'\n",
    "for letter in word:\n",
    "    print(letter)"
   ]
  },
  {
   "cell_type": "code",
   "execution_count": 8,
   "id": "34ddb388-e97f-4e0f-9177-4b105f147516",
   "metadata": {},
   "outputs": [
    {
     "name": "stdout",
     "output_type": "stream",
     "text": [
      "0\n",
      "1\n",
      "2\n",
      "3\n",
      "4\n",
      "5\n",
      "6\n",
      "7\n",
      "8\n"
     ]
    }
   ],
   "source": [
    "#using range\n",
    "for i in range(0,9):\n",
    "    print(i)"
   ]
  },
  {
   "cell_type": "code",
   "execution_count": 9,
   "id": "502c5c7f-35b1-4856-89c0-014a3b8ca113",
   "metadata": {},
   "outputs": [
    {
     "name": "stdout",
     "output_type": "stream",
     "text": [
      "h\n",
      "e\n",
      "l\n",
      "l\n",
      "o\n"
     ]
    }
   ],
   "source": [
    "word='hello'\n",
    "for i in word:\n",
    "    print(i)"
   ]
  },
  {
   "cell_type": "code",
   "execution_count": 10,
   "id": "4b0f8eee-0325-461e-8a64-210d3b4ec9e2",
   "metadata": {},
   "outputs": [
    {
     "name": "stdout",
     "output_type": "stream",
     "text": [
      "0\n",
      "1\n",
      "2\n",
      "3\n",
      "4\n"
     ]
    }
   ],
   "source": [
    "for i in range(5):\n",
    "    print(i)"
   ]
  },
  {
   "cell_type": "code",
   "execution_count": 11,
   "id": "916928ca-8574-4fe2-83c5-feafb5fa2d72",
   "metadata": {},
   "outputs": [
    {
     "name": "stdout",
     "output_type": "stream",
     "text": [
      "0\n",
      "2\n",
      "4\n",
      "6\n",
      "8\n"
     ]
    }
   ],
   "source": [
    "for i in range(0,9,2):\n",
    "    print(i)"
   ]
  },
  {
   "cell_type": "code",
   "execution_count": 12,
   "id": "1b419857-91a1-4acc-b463-7bcdb2215b78",
   "metadata": {},
   "outputs": [
    {
     "name": "stdout",
     "output_type": "stream",
     "text": [
      "loop is finished\n"
     ]
    }
   ],
   "source": [
    "a=[]\n",
    "for i in a:\n",
    "    print(i)\n",
    "else:\n",
    "    print('loop is finished')"
   ]
  },
  {
   "cell_type": "code",
   "execution_count": 13,
   "id": "74bbec3a-24e3-439d-8b84-02a47350bf8b",
   "metadata": {},
   "outputs": [
    {
     "name": "stdout",
     "output_type": "stream",
     "text": [
      "0\n",
      "1\n",
      "2\n",
      "3\n",
      "4\n",
      "loop is finished\n"
     ]
    }
   ],
   "source": [
    "a=5\n",
    "for i in range(a):\n",
    "    print(i)\n",
    "else:\n",
    "    print('loop is finished')"
   ]
  },
  {
   "cell_type": "code",
   "execution_count": 18,
   "id": "e59ba2b4-c8d4-4ff7-916a-92305f32f251",
   "metadata": {},
   "outputs": [
    {
     "name": "stdout",
     "output_type": "stream",
     "text": [
      "i=0,j=0\n",
      "i=0,j=1\n",
      "i=1,j=0\n",
      "i=1,j=1\n",
      "i=2,j=0\n",
      "i=2,j=1\n"
     ]
    }
   ],
   "source": [
    "#nested for loop\n",
    "for i in range(3): -----> 0 1 2\n",
    "    for j in range(2):  -------> 0 1\n",
    "        print(f'i={i},j={j}')   # f={} string formatiing"
   ]
  },
  {
   "cell_type": "code",
   "execution_count": 20,
   "id": "4defa947-046a-4e90-b6f8-02ef2bf53fcf",
   "metadata": {},
   "outputs": [
    {
     "name": "stdout",
     "output_type": "stream",
     "text": [
      "0 0\n",
      "0 1\n",
      "1 0\n",
      "1 1\n",
      "2 0\n",
      "2 1\n"
     ]
    }
   ],
   "source": [
    "for i in range(3): \n",
    "    for j in range(2):  \n",
    "        print(i,j)"
   ]
  },
  {
   "cell_type": "code",
   "execution_count": 25,
   "id": "3cb55e79-b15b-421b-b189-cec2b9074be2",
   "metadata": {},
   "outputs": [
    {
     "name": "stdout",
     "output_type": "stream",
     "text": [
      "i = 0 , j = 0\n",
      "i = 0 , j = 1\n",
      "i = 1 , j = 0\n",
      "i = 1 , j = 1\n",
      "i = 2 , j = 0\n",
      "i = 2 , j = 1\n"
     ]
    }
   ],
   "source": [
    "for i in range(3): \n",
    "    for j in range(2):  \n",
    "        print(\"i =\",i,', j =',j)"
   ]
  },
  {
   "cell_type": "code",
   "execution_count": 26,
   "id": "1257cf18-666a-4c04-8d29-e7bdb2b635a0",
   "metadata": {},
   "outputs": [
    {
     "name": "stdout",
     "output_type": "stream",
     "text": [
      "this is inner loop\n",
      "this is outer loop\n",
      "this is outer loop\n",
      "this is outer loop\n",
      "this is inner loop\n",
      "this is outer loop\n",
      "this is outer loop\n",
      "this is outer loop\n",
      "this is inner loop\n",
      "this is outer loop\n",
      "this is outer loop\n",
      "this is outer loop\n"
     ]
    }
   ],
   "source": [
    "for i in range(3):\n",
    "    print('this is inner loop')\n",
    "    for j in range(3):\n",
    "        print('this is outer loop')\n",
    "        "
   ]
  },
  {
   "cell_type": "code",
   "execution_count": 28,
   "id": "f40ad28f-2649-43ad-9419-49358181d888",
   "metadata": {},
   "outputs": [
    {
     "name": "stdout",
     "output_type": "stream",
     "text": [
      "0\n",
      "this will be the 1st\n",
      "this is second\n",
      "this is third\n",
      "1\n",
      "this will be the 1st\n",
      "this is second\n",
      "this is third\n",
      "2\n",
      "this will be the 1st\n",
      "this is second\n",
      "this is third\n"
     ]
    }
   ],
   "source": [
    "for i in range(3):\n",
    "    print(i)\n",
    "    print('this will be the 1st')\n",
    "    print('this is second')\n",
    "    print('this is third')"
   ]
  },
  {
   "cell_type": "code",
   "execution_count": 29,
   "id": "d83a1f41-9df1-45e3-8e11-d8ca80ce956c",
   "metadata": {},
   "outputs": [
    {
     "name": "stdout",
     "output_type": "stream",
     "text": [
      "0 = h\n",
      "1 = e\n",
      "2 = l\n",
      "3 = l\n",
      "4 = o\n"
     ]
    }
   ],
   "source": [
    "# iterating through index\n",
    "string=\"hello\"\n",
    "n=len(string)\n",
    "for i in range(n):\n",
    "    print(i,\"=\",string[i])"
   ]
  },
  {
   "cell_type": "code",
   "execution_count": 30,
   "id": "f398dd98-d027-42ca-b2f3-6461a49c56b9",
   "metadata": {},
   "outputs": [
    {
     "name": "stdout",
     "output_type": "stream",
     "text": [
      "h\n",
      "e\n",
      "l\n"
     ]
    }
   ],
   "source": [
    "string=\"hello\"\n",
    "print(string[0])\n",
    "print(string[1])\n",
    "print(string[3])"
   ]
  },
  {
   "cell_type": "code",
   "execution_count": 31,
   "id": "f0e4eb4d-e7a8-4bc0-bdcb-64cd23285a55",
   "metadata": {},
   "outputs": [
    {
     "name": "stdout",
     "output_type": "stream",
     "text": [
      "h\n",
      "e\n",
      "l\n",
      "l\n",
      "o\n"
     ]
    }
   ],
   "source": [
    "string=\"hello\"\n",
    "n=len(string)\n",
    "for i in range(n):\n",
    "    print(string[i])"
   ]
  },
  {
   "cell_type": "code",
   "execution_count": 36,
   "id": "af2cb942-c106-4256-933e-b201807c481d",
   "metadata": {},
   "outputs": [
    {
     "name": "stdout",
     "output_type": "stream",
     "text": [
      "0\n",
      "1\n",
      "2\n",
      "3\n",
      "4\n",
      "5\n"
     ]
    }
   ],
   "source": [
    "for num in range(10):\n",
    "    print(num)\n",
    "    if num==5:\n",
    "        # print(num)\n",
    "        break"
   ]
  },
  {
   "cell_type": "code",
   "execution_count": 38,
   "id": "7c82edc5-b4d2-4864-8278-ccb0689502ff",
   "metadata": {},
   "outputs": [
    {
     "name": "stdout",
     "output_type": "stream",
     "text": [
      "0\n",
      "1\n",
      "2\n",
      "3\n",
      "4\n",
      "for loop has stopped\n"
     ]
    }
   ],
   "source": [
    "for num in range(10):\n",
    "    \n",
    "    if num==5:\n",
    "        # print(num)\n",
    "        break\n",
    "    print(num)\n",
    "print('for loop has stopped')    "
   ]
  },
  {
   "cell_type": "code",
   "execution_count": 39,
   "id": "1beaa00f-3a05-4aff-ba0a-1acdd6e68283",
   "metadata": {},
   "outputs": [
    {
     "name": "stdout",
     "output_type": "stream",
     "text": [
      "0\n",
      "1\n",
      "2\n",
      "3\n",
      "4\n",
      "6\n",
      "7\n",
      "8\n",
      "9\n",
      "for loop is continued\n"
     ]
    }
   ],
   "source": [
    "for num in range(10):\n",
    "    \n",
    "    if num==5:\n",
    "        # print(num)\n",
    "        continue\n",
    "    print(num)\n",
    "print('for loop is continued')"
   ]
  },
  {
   "cell_type": "code",
   "execution_count": 47,
   "id": "ee12902e-712e-420b-9b75-134537ce9154",
   "metadata": {},
   "outputs": [
    {
     "name": "stdout",
     "output_type": "stream",
     "text": [
      "0\n",
      "1\n",
      "2\n",
      "3\n",
      "4\n"
     ]
    }
   ],
   "source": [
    "for num in range(5):\n",
    "    \n",
    "    if num==2:\n",
    "        # print(num)\n",
    "        pass # does ntg\n",
    "    print(num)\n"
   ]
  },
  {
   "cell_type": "code",
   "execution_count": 45,
   "id": "0cd89e2a-ceda-40d5-ad11-22cae3d46123",
   "metadata": {},
   "outputs": [
    {
     "name": "stdin",
     "output_type": "stream",
     "text": [
      "enter a number 5\n"
     ]
    },
    {
     "name": "stdout",
     "output_type": "stream",
     "text": [
      "the number is found\n"
     ]
    }
   ],
   "source": [
    "list1=[1,2,3,4,5]\n",
    "user=int(input(\"enter a number\"))\n",
    "for user in list1:\n",
    "    print(\"the number is found\")\n",
    "    break\n",
    "    "
   ]
  },
  {
   "cell_type": "code",
   "execution_count": 48,
   "id": "03b0cd58-36f0-4de0-818f-16f4fdd3ca28",
   "metadata": {},
   "outputs": [
    {
     "name": "stdin",
     "output_type": "stream",
     "text": [
      "enter a number 4\n"
     ]
    },
    {
     "name": "stdout",
     "output_type": "stream",
     "text": [
      "the number is found\n"
     ]
    }
   ],
   "source": [
    "list1=[1,2,3,4,5]\n",
    "user=int(input(\"enter a number\"))\n",
    "for i in list1:\n",
    "    if i==user:\n",
    "        print(\"the number is found\")\n",
    "        break"
   ]
  },
  {
   "cell_type": "code",
   "execution_count": null,
   "id": "0d0c015a-523e-4aa6-95fa-8bbc3738edaa",
   "metadata": {},
   "outputs": [],
   "source": []
  }
 ],
 "metadata": {
  "kernelspec": {
   "display_name": "Python [conda env:base] *",
   "language": "python",
   "name": "conda-base-py"
  },
  "language_info": {
   "codemirror_mode": {
    "name": "ipython",
    "version": 3
   },
   "file_extension": ".py",
   "mimetype": "text/x-python",
   "name": "python",
   "nbconvert_exporter": "python",
   "pygments_lexer": "ipython3",
   "version": "3.12.7"
  }
 },
 "nbformat": 4,
 "nbformat_minor": 5
}
