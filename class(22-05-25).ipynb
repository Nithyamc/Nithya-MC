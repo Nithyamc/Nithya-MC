{
 "cells": [
  {
   "cell_type": "code",
   "execution_count": 2,
   "id": "57bbb89e-d5d1-4013-be43-a69bd4dfc2a6",
   "metadata": {},
   "outputs": [
    {
     "data": {
      "text/plain": [
       "numpy.ndarray"
      ]
     },
     "execution_count": 2,
     "metadata": {},
     "output_type": "execute_result"
    }
   ],
   "source": [
    "# 2. using functions to geneate data\n",
    "import numpy as np\n",
    "a33=np.ones((3,4))\n",
    "type(a33)"
   ]
  },
  {
   "cell_type": "code",
   "execution_count": 3,
   "id": "309e4ca4-4061-457a-b3ca-e1317cdfde8f",
   "metadata": {},
   "outputs": [
    {
     "data": {
      "text/plain": [
       "array([[1., 1., 1., 1.],\n",
       "       [1., 1., 1., 1.],\n",
       "       [1., 1., 1., 1.]])"
      ]
     },
     "execution_count": 3,
     "metadata": {},
     "output_type": "execute_result"
    }
   ],
   "source": [
    "a33"
   ]
  },
  {
   "cell_type": "code",
   "execution_count": 7,
   "id": "f3c36c9d-7a27-42a7-8269-23c3e135fe97",
   "metadata": {},
   "outputs": [
    {
     "data": {
      "text/plain": [
       "array([[0., 0., 0., 0.],\n",
       "       [0., 0., 0., 0.]])"
      ]
     },
     "execution_count": 7,
     "metadata": {},
     "output_type": "execute_result"
    }
   ],
   "source": [
    "a44=np.zeros((2,4))\n",
    "a44"
   ]
  },
  {
   "cell_type": "code",
   "execution_count": 8,
   "id": "9d200edf-3f91-4345-a263-d6dfb50f3bec",
   "metadata": {},
   "outputs": [],
   "source": [
    "arr1=np.array([1,2,3])"
   ]
  },
  {
   "cell_type": "code",
   "execution_count": 9,
   "id": "eaafa04c-fd46-4c86-b803-9102a7e26c55",
   "metadata": {},
   "outputs": [
    {
     "data": {
      "text/plain": [
       "array([1, 2, 3])"
      ]
     },
     "execution_count": 9,
     "metadata": {},
     "output_type": "execute_result"
    }
   ],
   "source": [
    "arr1"
   ]
  },
  {
   "cell_type": "code",
   "execution_count": 11,
   "id": "ce62fabc-605c-41ef-9fc9-e6edc60e15f1",
   "metadata": {},
   "outputs": [
    {
     "data": {
      "text/plain": [
       "array([[1., 0., 0.],\n",
       "       [0., 1., 0.],\n",
       "       [0., 0., 1.]])"
      ]
     },
     "execution_count": 11,
     "metadata": {},
     "output_type": "execute_result"
    }
   ],
   "source": [
    "identity_mat=np.eye(3)\n",
    "identity_mat"
   ]
  },
  {
   "cell_type": "code",
   "execution_count": 12,
   "id": "4d926739-aafe-4da6-8ca7-f8f3ca159385",
   "metadata": {},
   "outputs": [],
   "source": [
    "random_array=np.random.rand(4,4)"
   ]
  },
  {
   "cell_type": "code",
   "execution_count": 13,
   "id": "dfc3ace6-d778-4b83-aeaa-a2c49f2709f1",
   "metadata": {},
   "outputs": [
    {
     "data": {
      "text/plain": [
       "array([[0.07286479, 0.90580295, 0.12602727, 0.12370994],\n",
       "       [0.19132021, 0.10679692, 0.24100221, 0.40245425],\n",
       "       [0.2310357 , 0.83021964, 0.87383857, 0.713209  ],\n",
       "       [0.86830736, 0.50859384, 0.29102109, 0.78014855]])"
      ]
     },
     "execution_count": 13,
     "metadata": {},
     "output_type": "execute_result"
    }
   ],
   "source": [
    "random_array"
   ]
  },
  {
   "cell_type": "code",
   "execution_count": 14,
   "id": "cd9ce42f-882a-45b4-9869-816040843c18",
   "metadata": {},
   "outputs": [
    {
     "data": {
      "text/plain": [
       "array([[0.07286479, 0.90580295, 0.12602727, 0.12370994],\n",
       "       [0.19132021, 0.10679692, 0.24100221, 0.40245425],\n",
       "       [0.2310357 , 0.83021964, 0.87383857, 0.713209  ],\n",
       "       [0.86830736, 0.50859384, 0.29102109, 0.78014855]])"
      ]
     },
     "execution_count": 14,
     "metadata": {},
     "output_type": "execute_result"
    }
   ],
   "source": [
    "random_array"
   ]
  },
  {
   "cell_type": "code",
   "execution_count": 15,
   "id": "4209c9fb-7e9d-456a-aa1e-20b911391e5a",
   "metadata": {},
   "outputs": [
    {
     "data": {
      "text/plain": [
       "array([1, 2, 3, 4])"
      ]
     },
     "execution_count": 15,
     "metadata": {},
     "output_type": "execute_result"
    }
   ],
   "source": [
    "# 3. specific dara type\n",
    "\n",
    "l=[1,2,3,4]\n",
    "\n",
    "np.array(l,dtype=np.int32)"
   ]
  },
  {
   "cell_type": "code",
   "execution_count": 19,
   "id": "99f97ae5-a054-4eb5-a282-e3157b666ce5",
   "metadata": {},
   "outputs": [],
   "source": [
    "float_array=np.array([1,2,3], dtype=np.float64)\n",
    "int_array=np.array([1,2,3,4], dtype=np.int32)"
   ]
  },
  {
   "cell_type": "code",
   "execution_count": 20,
   "id": "01ecad5e-1308-4e14-8471-9c7b9846fb06",
   "metadata": {},
   "outputs": [
    {
     "data": {
      "text/plain": [
       "array([1., 2., 3.])"
      ]
     },
     "execution_count": 20,
     "metadata": {},
     "output_type": "execute_result"
    }
   ],
   "source": [
    "float_array"
   ]
  },
  {
   "cell_type": "code",
   "execution_count": 21,
   "id": "4ae810fc-6ed2-4e92-8c89-832578fc56d2",
   "metadata": {},
   "outputs": [
    {
     "data": {
      "text/plain": [
       "array([1, 2, 3, 4])"
      ]
     },
     "execution_count": 21,
     "metadata": {},
     "output_type": "execute_result"
    }
   ],
   "source": [
    "int_array"
   ]
  },
  {
   "cell_type": "code",
   "execution_count": 22,
   "id": "6b90d956-464a-439d-9464-dd0f86240adc",
   "metadata": {},
   "outputs": [
    {
     "data": {
      "text/plain": [
       "array([ 0,  1,  2,  3,  4,  5,  6,  7,  8,  9, 10, 11])"
      ]
     },
     "execution_count": 22,
     "metadata": {},
     "output_type": "execute_result"
    }
   ],
   "source": [
    "# 4. using array and linespace\n",
    "# arange()\n",
    "\n",
    "a44=np.arange(0,12)\n",
    "a44"
   ]
  },
  {
   "cell_type": "code",
   "execution_count": 24,
   "id": "63e2b4a6-c53b-4a5b-af4e-886f1818d11f",
   "metadata": {},
   "outputs": [
    {
     "data": {
      "text/plain": [
       "array([5, 6])"
      ]
     },
     "execution_count": 24,
     "metadata": {},
     "output_type": "execute_result"
    }
   ],
   "source": [
    "a66=np.arange(5,7)\n",
    "a66"
   ]
  },
  {
   "cell_type": "code",
   "execution_count": 31,
   "id": "c8bde9bf-3fca-4b3c-baaa-56d6e00f3663",
   "metadata": {},
   "outputs": [
    {
     "data": {
      "text/plain": [
       "array([ 0.,  2.,  4.,  6.,  8., 10.])"
      ]
     },
     "execution_count": 31,
     "metadata": {},
     "output_type": "execute_result"
    }
   ],
   "source": [
    "#  linespace\n",
    "\n",
    "linespace_array=np.linspace(0,10,6)\n",
    "linespace_array"
   ]
  },
  {
   "cell_type": "code",
   "execution_count": 33,
   "id": "c77b50ec-08f5-4548-b981-94c84bbb0b3a",
   "metadata": {},
   "outputs": [
    {
     "data": {
      "text/plain": [
       "array([ 1.  ,  5.75, 10.5 , 15.25, 20.  ])"
      ]
     },
     "execution_count": 33,
     "metadata": {},
     "output_type": "execute_result"
    }
   ],
   "source": [
    "linespace_array=np.linspace(1,20,5)\n",
    "linespace_array"
   ]
  },
  {
   "cell_type": "code",
   "execution_count": 34,
   "id": "580211f0-47e3-4959-b7c5-4613e3dc0394",
   "metadata": {},
   "outputs": [
    {
     "data": {
      "text/plain": [
       "array([[0.30268031, 0.20299391, 0.53642627, 0.28364427],\n",
       "       [0.91811194, 0.28344408, 0.13402096, 0.29033888],\n",
       "       [0.76178578, 0.09879835, 0.96277772, 0.84888214],\n",
       "       [0.96775923, 0.47701543, 0.35165312, 0.31379971]])"
      ]
     },
     "execution_count": 34,
     "metadata": {},
     "output_type": "execute_result"
    }
   ],
   "source": [
    "random_array=np.random.rand(4,4)  # CREATES random values in(0,1)\n",
    "random_array"
   ]
  },
  {
   "cell_type": "markdown",
   "id": "7730f179-1c33-44d6-a160-4040acc572f0",
   "metadata": {},
   "source": [
    "# Numpy array Indexing"
   ]
  },
  {
   "cell_type": "code",
   "execution_count": 35,
   "id": "41bcea46-ef13-444a-9df7-60b95c27549b",
   "metadata": {},
   "outputs": [
    {
     "name": "stdout",
     "output_type": "stream",
     "text": [
      "10\n"
     ]
    }
   ],
   "source": [
    "# 1. basic indexing\n",
    "\n",
    "arr=np.array([10,20,30,40])\n",
    "print(arr[0])"
   ]
  },
  {
   "cell_type": "code",
   "execution_count": 36,
   "id": "169cc0c4-77f8-41de-a6c2-94ea5ca2bcdf",
   "metadata": {},
   "outputs": [
    {
     "data": {
      "text/plain": [
       "40"
      ]
     },
     "execution_count": 36,
     "metadata": {},
     "output_type": "execute_result"
    }
   ],
   "source": [
    "arr[-1]"
   ]
  },
  {
   "cell_type": "code",
   "execution_count": 37,
   "id": "e541e923-bfd5-44aa-8db3-7b01cdf32acf",
   "metadata": {},
   "outputs": [
    {
     "data": {
      "text/plain": [
       "2"
      ]
     },
     "execution_count": 37,
     "metadata": {},
     "output_type": "execute_result"
    }
   ],
   "source": [
    "# 2d example\n",
    "matrix=np.array([[1,2,3],\n",
    "                 [4,5,6]])\n",
    "matrix[0,1]"
   ]
  },
  {
   "cell_type": "code",
   "execution_count": 38,
   "id": "82d05e64-4805-45a6-b146-5a426d0ca60f",
   "metadata": {},
   "outputs": [
    {
     "name": "stdout",
     "output_type": "stream",
     "text": [
      "6\n"
     ]
    }
   ],
   "source": [
    "print(matrix[1,2])"
   ]
  },
  {
   "cell_type": "code",
   "execution_count": 39,
   "id": "58e64e92-0e8a-4d69-a9ad-f0f594f8b04c",
   "metadata": {},
   "outputs": [
    {
     "name": "stdout",
     "output_type": "stream",
     "text": [
      "[10 20 30 40]\n"
     ]
    }
   ],
   "source": [
    "# 2. slicing\n",
    "# 1d array slicing\n",
    "\n",
    "arr=np.array([10,20,30,40,50,60])\n",
    "print(arr[0:4])"
   ]
  },
  {
   "cell_type": "code",
   "execution_count": 40,
   "id": "a8c2099d-285a-427e-947e-b23d81ed0102",
   "metadata": {},
   "outputs": [
    {
     "name": "stdout",
     "output_type": "stream",
     "text": [
      "[20 30 40 50 60]\n"
     ]
    }
   ],
   "source": [
    "print(arr[1:])"
   ]
  },
  {
   "cell_type": "code",
   "execution_count": 41,
   "id": "4e2de464-bfeb-4d92-b153-2dbaff52f5c7",
   "metadata": {},
   "outputs": [
    {
     "name": "stdout",
     "output_type": "stream",
     "text": [
      "[10 20 30 40 50]\n"
     ]
    }
   ],
   "source": [
    "print(arr[:-1])"
   ]
  },
  {
   "cell_type": "code",
   "execution_count": 42,
   "id": "1e607bde-d38d-4017-9f97-b544aec26ea4",
   "metadata": {},
   "outputs": [
    {
     "name": "stdout",
     "output_type": "stream",
     "text": [
      "[60 50 40 30 20 10]\n"
     ]
    }
   ],
   "source": [
    "print(arr[::-1])"
   ]
  },
  {
   "cell_type": "code",
   "execution_count": 45,
   "id": "8b748ca4-dcbe-4e5d-a9df-7ccdcf4a94f1",
   "metadata": {},
   "outputs": [
    {
     "name": "stdout",
     "output_type": "stream",
     "text": [
      "[10 30 50]\n"
     ]
    }
   ],
   "source": [
    "print(arr[::2])"
   ]
  },
  {
   "cell_type": "code",
   "execution_count": 47,
   "id": "e13dfcd0-d485-4512-97a8-07598fb9e4ca",
   "metadata": {},
   "outputs": [
    {
     "name": "stdout",
     "output_type": "stream",
     "text": [
      "[10 40]\n"
     ]
    }
   ],
   "source": [
    "print(arr[0:4:3])"
   ]
  },
  {
   "cell_type": "code",
   "execution_count": 48,
   "id": "4076e6c3-258e-455e-a2d3-a6eec2f8364d",
   "metadata": {},
   "outputs": [
    {
     "name": "stdout",
     "output_type": "stream",
     "text": [
      "[10 20 30]\n"
     ]
    }
   ],
   "source": [
    "print(arr[:3])"
   ]
  },
  {
   "cell_type": "code",
   "execution_count": 66,
   "id": "e9b0da63-9634-4268-a56c-6613e5af263b",
   "metadata": {},
   "outputs": [
    {
     "data": {
      "text/plain": [
       "array([[2, 3],\n",
       "       [5, 6]])"
      ]
     },
     "execution_count": 66,
     "metadata": {},
     "output_type": "execute_result"
    }
   ],
   "source": [
    "# 2d array slicing\n",
    "\n",
    "matrix=np.array([\n",
    "    [1,2,3],\n",
    "    [4,5,6],\n",
    "    [7,8,9]\n",
    "])\n",
    "\n",
    "matrix[0:2,1:3]"
   ]
  },
  {
   "cell_type": "code",
   "execution_count": 67,
   "id": "68dfdbc6-1d32-48fd-9899-f3ec8c580db0",
   "metadata": {
    "collapsed": true,
    "jupyter": {
     "outputs_hidden": true
    }
   },
   "outputs": [
    {
     "name": "stdout",
     "output_type": "stream",
     "text": [
      "[[5 6]\n",
      " [8 9]]\n"
     ]
    }
   ],
   "source": [
    "print(matrix[1:3,1:3])"
   ]
  },
  {
   "cell_type": "code",
   "execution_count": 68,
   "id": "15b0d252-69f5-49e9-92ce-1854b1324064",
   "metadata": {},
   "outputs": [
    {
     "name": "stdout",
     "output_type": "stream",
     "text": [
      "[[8]]\n"
     ]
    }
   ],
   "source": [
    "# 8\n",
    "print(matrix[2:3,1:2])"
   ]
  },
  {
   "cell_type": "code",
   "execution_count": 69,
   "id": "a9900741-bcb1-4c5f-83cd-710bbf836f8e",
   "metadata": {},
   "outputs": [
    {
     "name": "stdout",
     "output_type": "stream",
     "text": [
      "[[8 9]]\n"
     ]
    }
   ],
   "source": [
    "print(matrix[2:,1:])"
   ]
  },
  {
   "cell_type": "code",
   "execution_count": 70,
   "id": "7f4d232f-b871-4e3a-9765-56f6c80b13ab",
   "metadata": {},
   "outputs": [
    {
     "data": {
      "text/plain": [
       "array([[8]])"
      ]
     },
     "execution_count": 70,
     "metadata": {},
     "output_type": "execute_result"
    }
   ],
   "source": [
    "matrix[2:3,1:2]"
   ]
  },
  {
   "cell_type": "code",
   "execution_count": 71,
   "id": "fd92e1ec-9061-4b92-9aea-afab4ef3943e",
   "metadata": {},
   "outputs": [
    {
     "data": {
      "text/plain": [
       "array([2, 3])"
      ]
     },
     "execution_count": 71,
     "metadata": {},
     "output_type": "execute_result"
    }
   ],
   "source": [
    "#  numpy array copy vs view\n",
    "\n",
    "#  view\n",
    "\n",
    "a=np.array([1,2,3,4])\n",
    "b=a[1:3]  # view\n",
    "b"
   ]
  },
  {
   "cell_type": "code",
   "execution_count": 72,
   "id": "518ab0dd-bbc1-4df8-a5bf-906eda279a74",
   "metadata": {},
   "outputs": [
    {
     "name": "stdout",
     "output_type": "stream",
     "text": [
      "[ 1 99  3  4]\n"
     ]
    }
   ],
   "source": [
    "b[0]=99\n",
    "print(a)"
   ]
  },
  {
   "cell_type": "code",
   "execution_count": 76,
   "id": "25470d7f-50e3-48d3-b7f8-289375ec3d54",
   "metadata": {},
   "outputs": [
    {
     "data": {
      "text/plain": [
       "[1, 2, 3, 4]"
      ]
     },
     "execution_count": 76,
     "metadata": {},
     "output_type": "execute_result"
    }
   ],
   "source": [
    "a=[1,2,3,4]\n",
    "b=a\n",
    "b"
   ]
  },
  {
   "cell_type": "code",
   "execution_count": 77,
   "id": "0fe88260-00ce-4b17-b748-8b916f690838",
   "metadata": {},
   "outputs": [
    {
     "data": {
      "text/plain": [
       "[1, 2, 99, 4]"
      ]
     },
     "execution_count": 77,
     "metadata": {},
     "output_type": "execute_result"
    }
   ],
   "source": [
    "b[2]=99\n",
    "b"
   ]
  },
  {
   "cell_type": "code",
   "execution_count": 78,
   "id": "e7c351a7-8cd4-4c91-851f-5968e43e6efc",
   "metadata": {},
   "outputs": [
    {
     "data": {
      "text/plain": [
       "[1, 2, 99, 4]"
      ]
     },
     "execution_count": 78,
     "metadata": {},
     "output_type": "execute_result"
    }
   ],
   "source": [
    "a"
   ]
  },
  {
   "cell_type": "code",
   "execution_count": 75,
   "id": "ccdd9a40-b6d2-47b3-b7d8-8c186c77be02",
   "metadata": {},
   "outputs": [
    {
     "name": "stdout",
     "output_type": "stream",
     "text": [
      "[1 2 3 4]\n",
      "[99  3]\n"
     ]
    }
   ],
   "source": [
    "# copy\n",
    "a=np.array([1,2,3,4])\n",
    "b=a[1:3].copy()  # view\n",
    "b[0]=99\n",
    "print(a)\n",
    "print(b)"
   ]
  },
  {
   "cell_type": "code",
   "execution_count": 80,
   "id": "03ed0aa9-b748-4540-b9cc-9f9d2a857b2b",
   "metadata": {},
   "outputs": [
    {
     "name": "stdout",
     "output_type": "stream",
     "text": [
      "(2, 3)\n"
     ]
    }
   ],
   "source": [
    "#  numpy shape and reshaping\n",
    "#  shape\n",
    "arr=np.array([[1,2,3],[4,5,6]])\n",
    "print(arr.shape)\n",
    "\n"
   ]
  },
  {
   "cell_type": "code",
   "execution_count": null,
   "id": "2d0831ca-5d28-4e70-8d71-24c64cf30e8e",
   "metadata": {},
   "outputs": [],
   "source": [
    "arr=np.array([0,1,2,3,4,5,6,7,8,9,10,11])"
   ]
  },
  {
   "cell_type": "code",
   "execution_count": 81,
   "id": "0b5e7542-9dce-4018-b9a7-a17b2b79472d",
   "metadata": {},
   "outputs": [
    {
     "data": {
      "text/plain": [
       "array([ 0,  1,  2,  3,  4,  5,  6,  7,  8,  9, 10, 11])"
      ]
     },
     "execution_count": 81,
     "metadata": {},
     "output_type": "execute_result"
    }
   ],
   "source": [
    "a=np.arange(12)\n",
    "a"
   ]
  },
  {
   "cell_type": "code",
   "execution_count": 82,
   "id": "879c8c93-d2ff-4671-a6a1-9c1aa2bdd1b8",
   "metadata": {},
   "outputs": [
    {
     "data": {
      "text/plain": [
       "array([[ 0,  1,  2,  3],\n",
       "       [ 4,  5,  6,  7],\n",
       "       [ 8,  9, 10, 11]])"
      ]
     },
     "execution_count": 82,
     "metadata": {},
     "output_type": "execute_result"
    }
   ],
   "source": [
    "# reshape\n",
    "b=a.reshape(3,4)   # to change the shape without changing the data\n",
    "b"
   ]
  },
  {
   "cell_type": "code",
   "execution_count": 83,
   "id": "f5a94970-04de-4cbd-99bb-e3bb49933129",
   "metadata": {},
   "outputs": [
    {
     "data": {
      "text/plain": [
       "array([[1, 4, 7],\n",
       "       [2, 5, 8],\n",
       "       [3, 6, 9]])"
      ]
     },
     "execution_count": 83,
     "metadata": {},
     "output_type": "execute_result"
    }
   ],
   "source": [
    "#  numpy array attributes\n",
    "# transpose\n",
    "\n",
    "matrix=np.array([\n",
    "    [1,2,3],\n",
    "    [4,5,6],\n",
    "    [7,8,9]\n",
    "])\n",
    "\n",
    "matrix.transpose()"
   ]
  },
  {
   "cell_type": "code",
   "execution_count": 84,
   "id": "50700065-301c-45a6-bb17-7c2aa63e1306",
   "metadata": {},
   "outputs": [
    {
     "data": {
      "text/plain": [
       "array([[ 1, 10],\n",
       "       [ 2, 20],\n",
       "       [ 3, 30],\n",
       "       [ 4, 40],\n",
       "       [ 5, 50],\n",
       "       [ 6, 60]])"
      ]
     },
     "execution_count": 84,
     "metadata": {},
     "output_type": "execute_result"
    }
   ],
   "source": [
    "arr=np.array([[1,2,3,4,5,6],\n",
    "             [10,20,30,40,50,60]])\n",
    "arr.transpose()"
   ]
  },
  {
   "cell_type": "code",
   "execution_count": 85,
   "id": "36c54ed4-4e31-409c-ab1e-66ce5a3e9807",
   "metadata": {},
   "outputs": [
    {
     "data": {
      "text/plain": [
       "array([[ 0,  4,  8],\n",
       "       [ 1,  5,  9],\n",
       "       [ 2,  6, 10],\n",
       "       [ 3,  7, 11]])"
      ]
     },
     "execution_count": 85,
     "metadata": {},
     "output_type": "execute_result"
    }
   ],
   "source": [
    "arr3d=np.array([[0,1,2,3],\n",
    "               [4,5,6,7],\n",
    "               [8,9,10,11]])\n",
    "arr3d.transpose()"
   ]
  },
  {
   "cell_type": "code",
   "execution_count": null,
   "id": "acd6ba38-d657-4efe-a892-e20e819a254c",
   "metadata": {},
   "outputs": [],
   "source": []
  }
 ],
 "metadata": {
  "kernelspec": {
   "display_name": "Python [conda env:base] *",
   "language": "python",
   "name": "conda-base-py"
  },
  "language_info": {
   "codemirror_mode": {
    "name": "ipython",
    "version": 3
   },
   "file_extension": ".py",
   "mimetype": "text/x-python",
   "name": "python",
   "nbconvert_exporter": "python",
   "pygments_lexer": "ipython3",
   "version": "3.12.7"
  }
 },
 "nbformat": 4,
 "nbformat_minor": 5
}
