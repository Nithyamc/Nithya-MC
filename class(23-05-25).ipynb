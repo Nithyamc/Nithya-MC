{
 "cells": [
  {
   "cell_type": "code",
   "execution_count": 1,
   "id": "e19ac93e-975b-41e4-a40a-b52c14a4e947",
   "metadata": {},
   "outputs": [],
   "source": [
    "import numpy as np"
   ]
  },
  {
   "cell_type": "code",
   "execution_count": 4,
   "id": "07bb794a-49fd-4968-b6e9-ac7c451bb5be",
   "metadata": {},
   "outputs": [
    {
     "name": "stdout",
     "output_type": "stream",
     "text": [
      "Uniform distribution:\n",
      " [[0.61434205 0.41146464 0.15753821]\n",
      " [0.467005   0.73345204 0.48185253]\n",
      " [0.34167382 0.93920973 0.35998229]]\n"
     ]
    }
   ],
   "source": [
    "uniform=np.random.rand(3,3)\n",
    "print(\"Uniform distribution:\\n\",uniform)"
   ]
  },
  {
   "cell_type": "markdown",
   "id": "9dbe4f1b-e6f9-425c-8f6c-31184b86492f",
   "metadata": {},
   "source": [
    "# searching in arrays"
   ]
  },
  {
   "cell_type": "code",
   "execution_count": 2,
   "id": "33651253-d708-41d9-9532-e4a661c95123",
   "metadata": {},
   "outputs": [
    {
     "data": {
      "text/plain": [
       "(array([3, 4], dtype=int64),)"
      ]
     },
     "execution_count": 2,
     "metadata": {},
     "output_type": "execute_result"
    }
   ],
   "source": [
    "arr=np.array([1,2,3,4,5])\n",
    "np.where(arr>3)"
   ]
  },
  {
   "cell_type": "code",
   "execution_count": 3,
   "id": "8406bcbf-f308-4877-a3a9-960ab4d05a9f",
   "metadata": {},
   "outputs": [
    {
     "name": "stdout",
     "output_type": "stream",
     "text": [
      "where >3: (array([3, 4], dtype=int64),)\n"
     ]
    }
   ],
   "source": [
    "print(\"where >3:\",np.where(arr>3))"
   ]
  },
  {
   "cell_type": "code",
   "execution_count": 7,
   "id": "e62654d8-9cd9-4568-b43f-b9bf30fba36a",
   "metadata": {},
   "outputs": [
    {
     "data": {
      "text/plain": [
       "(array([0, 1], dtype=int64),)"
      ]
     },
     "execution_count": 7,
     "metadata": {},
     "output_type": "execute_result"
    }
   ],
   "source": [
    "np.where(arr<=2)"
   ]
  },
  {
   "cell_type": "code",
   "execution_count": 8,
   "id": "63401b5d-9b86-4661-8f67-54ad6770573c",
   "metadata": {},
   "outputs": [
    {
     "data": {
      "text/plain": [
       "4"
      ]
     },
     "execution_count": 8,
     "metadata": {},
     "output_type": "execute_result"
    }
   ],
   "source": [
    "np.argmax([1,2,3,4,5])"
   ]
  },
  {
   "cell_type": "code",
   "execution_count": 9,
   "id": "9ea9d8c7-3e5f-4721-adff-7ab39192eab6",
   "metadata": {},
   "outputs": [
    {
     "data": {
      "text/plain": [
       "4"
      ]
     },
     "execution_count": 9,
     "metadata": {},
     "output_type": "execute_result"
    }
   ],
   "source": [
    "np.argmax(arr)"
   ]
  },
  {
   "cell_type": "code",
   "execution_count": 10,
   "id": "5e237168-b423-4422-9d2a-6cc8bdbb9140",
   "metadata": {},
   "outputs": [
    {
     "data": {
      "text/plain": [
       "0"
      ]
     },
     "execution_count": 10,
     "metadata": {},
     "output_type": "execute_result"
    }
   ],
   "source": [
    "np.argmin(arr)"
   ]
  },
  {
   "cell_type": "code",
   "execution_count": 16,
   "id": "addbe6f3-8b4c-47af-ba41-c599122a4ed5",
   "metadata": {},
   "outputs": [
    {
     "data": {
      "text/plain": [
       "4"
      ]
     },
     "execution_count": 16,
     "metadata": {},
     "output_type": "execute_result"
    }
   ],
   "source": [
    "#  seraches sorted\n",
    "\n",
    "sorted_arr=np.array([1,2,3,4,7])\n",
    "np.searchsorted(sorted_arr,6)"
   ]
  },
  {
   "cell_type": "code",
   "execution_count": 12,
   "id": "9d5e7475-86a0-4973-8dbd-13fe8d65cb8c",
   "metadata": {},
   "outputs": [
    {
     "data": {
      "text/plain": [
       "5"
      ]
     },
     "execution_count": 12,
     "metadata": {},
     "output_type": "execute_result"
    }
   ],
   "source": [
    "np.searchsorted(sorted_arr,100)"
   ]
  },
  {
   "cell_type": "code",
   "execution_count": 13,
   "id": "9bf6bea0-e67a-44b2-9c13-953bbee322cb",
   "metadata": {},
   "outputs": [
    {
     "data": {
      "text/plain": [
       "array([4, 5])"
      ]
     },
     "execution_count": 13,
     "metadata": {},
     "output_type": "execute_result"
    }
   ],
   "source": [
    "#  extract\n",
    "arr=np.array([1,2,3,4,5])\n",
    "np.extract(arr>3,arr)"
   ]
  },
  {
   "cell_type": "code",
   "execution_count": 17,
   "id": "cc1ae3c9-60f1-41e0-81d7-b85aaa3be8ca",
   "metadata": {},
   "outputs": [
    {
     "data": {
      "text/plain": [
       "array([[1, 5],\n",
       "       [2, 6],\n",
       "       [3, 7],\n",
       "       [4, 8]])"
      ]
     },
     "execution_count": 17,
     "metadata": {},
     "output_type": "execute_result"
    }
   ],
   "source": [
    "# transpose\n",
    "arr=np.array([[1,2,3,4],\n",
    "             [5,6,7,8]])\n",
    "np.transpose(arr)"
   ]
  },
  {
   "cell_type": "code",
   "execution_count": 18,
   "id": "5fe8a51d-d5d9-458e-b520-1d20d4ce055b",
   "metadata": {},
   "outputs": [
    {
     "name": "stdout",
     "output_type": "stream",
     "text": [
      "mean value: 3.0\n"
     ]
    }
   ],
   "source": [
    "#  mean calculation\n",
    "\n",
    "arr=np.array([1,2,3,4,5])\n",
    "print(\"mean value:\",np.mean(arr))"
   ]
  },
  {
   "cell_type": "code",
   "execution_count": null,
   "id": "582137c9-fd95-46bb-8439-3fd5661fed57",
   "metadata": {},
   "outputs": [],
   "source": [
    "splitting arrays\n",
    "np.split()"
   ]
  },
  {
   "cell_type": "code",
   "execution_count": 21,
   "id": "a3e4470b-8a2a-49d9-9454-61041bb337d6",
   "metadata": {},
   "outputs": [
    {
     "data": {
      "text/plain": [
       "[array([1, 2]), array([3, 4]), array([5, 6]), array([7, 8])]"
      ]
     },
     "execution_count": 21,
     "metadata": {},
     "output_type": "execute_result"
    }
   ],
   "source": [
    "arr=np.array([1,2,3,4,5,6,7,8])\n",
    "np.split(arr,4)   # splitting parts equally"
   ]
  },
  {
   "cell_type": "code",
   "execution_count": 23,
   "id": "fc508c78-fb86-4f05-bb01-e018cca83032",
   "metadata": {},
   "outputs": [
    {
     "data": {
      "text/plain": [
       "[array([1]), array([2, 3, 4]), array([5, 6])]"
      ]
     },
     "execution_count": 23,
     "metadata": {},
     "output_type": "execute_result"
    }
   ],
   "source": [
    "# splitting at exact position\n",
    "arr=np.array([1,2,3,4,5,6])\n",
    "np.split(arr,[1,4])"
   ]
  },
  {
   "cell_type": "code",
   "execution_count": 24,
   "id": "6e40c7bc-2743-4ca7-bcfe-39605b73450e",
   "metadata": {},
   "outputs": [
    {
     "data": {
      "text/plain": [
       "[array([1]), array([2, 3]), array([4, 5]), array([6])]"
      ]
     },
     "execution_count": 24,
     "metadata": {},
     "output_type": "execute_result"
    }
   ],
   "source": [
    "np.split(arr,[1,3,5])"
   ]
  },
  {
   "cell_type": "code",
   "execution_count": 26,
   "id": "b164527e-fef1-4f8d-99cb-6196b242704e",
   "metadata": {},
   "outputs": [
    {
     "data": {
      "text/plain": [
       "[array([[1],\n",
       "        [5]]),\n",
       " array([[2],\n",
       "        [6]]),\n",
       " array([[3],\n",
       "        [7]]),\n",
       " array([[4],\n",
       "        [8]])]"
      ]
     },
     "execution_count": 26,
     "metadata": {},
     "output_type": "execute_result"
    }
   ],
   "source": [
    "# splitting matrix\n",
    "\n",
    "matrix=np.array([[1,2,3,4],\n",
    "             [5,6,7,8]])\n",
    "np.split(matrix ,4,axis=1)"
   ]
  },
  {
   "cell_type": "code",
   "execution_count": 28,
   "id": "5024e493-ff53-4a6c-8611-993d0768ac9c",
   "metadata": {},
   "outputs": [
    {
     "data": {
      "text/plain": [
       "[array([[1],\n",
       "        [4]]),\n",
       " array([[2],\n",
       "        [5]]),\n",
       " array([[3],\n",
       "        [6]])]"
      ]
     },
     "execution_count": 28,
     "metadata": {},
     "output_type": "execute_result"
    }
   ],
   "source": [
    "matrix=np.array([[1,2,3],\n",
    "             [4,5,6]])\n",
    "np.split(matrix ,3,axis=1)     # split columns"
   ]
  },
  {
   "cell_type": "code",
   "execution_count": 29,
   "id": "3ed3c5d3-1b5b-486b-af6e-97f980f931ec",
   "metadata": {},
   "outputs": [
    {
     "data": {
      "text/plain": [
       "[array([[1, 2, 3]]), array([[4, 5, 6]])]"
      ]
     },
     "execution_count": 29,
     "metadata": {},
     "output_type": "execute_result"
    }
   ],
   "source": [
    "# split rows\n",
    "\n",
    "np.split(matrix ,2,axis=0) "
   ]
  },
  {
   "cell_type": "code",
   "execution_count": 30,
   "id": "584ff95b-57e8-4d72-8b26-ff29df00ae7c",
   "metadata": {},
   "outputs": [
    {
     "name": "stdout",
     "output_type": "stream",
     "text": [
      "sorted array: [1 2 3 4 5 6]\n"
     ]
    }
   ],
   "source": [
    "# sorting arrays\n",
    "\n",
    "arr=np.array([1,2,3,4,5,6])\n",
    "print(\"sorted array:\",np.sort(arr))"
   ]
  },
  {
   "cell_type": "code",
   "execution_count": 32,
   "id": "5cd08165-80be-4462-891c-03e234750017",
   "metadata": {},
   "outputs": [
    {
     "name": "stdout",
     "output_type": "stream",
     "text": [
      "in place sorted: [1 2 3 4 5 6]\n"
     ]
    }
   ],
   "source": [
    "arr.sort()\n",
    "print(\"in place sorted:\",arr)"
   ]
  },
  {
   "cell_type": "code",
   "execution_count": 38,
   "id": "2a3c5f88-2f64-4938-ab3b-6b351862e557",
   "metadata": {},
   "outputs": [
    {
     "name": "stdout",
     "output_type": "stream",
     "text": [
      "sorted rows:\n",
      " [[1 2 3]\n",
      " [4 5 6]]\n"
     ]
    }
   ],
   "source": [
    "matrix=np.array([[3,2,1],\n",
    "             [6,4,5]])\n",
    "print(\"sorted rows:\\n\",np.sort(matrix,axis=1))"
   ]
  },
  {
   "cell_type": "code",
   "execution_count": 39,
   "id": "21ba86c0-0fa6-4948-9019-12c13d7481af",
   "metadata": {},
   "outputs": [
    {
     "name": "stdout",
     "output_type": "stream",
     "text": [
      "sorted columns:\n",
      " [[3 2 1]\n",
      " [6 4 5]]\n"
     ]
    }
   ],
   "source": [
    "print(\"sorted columns:\\n\",np.sort(matrix,axis=0))"
   ]
  },
  {
   "cell_type": "code",
   "execution_count": 40,
   "id": "cd19a5a6-8335-41a3-8aa1-60c2106ac5a6",
   "metadata": {},
   "outputs": [
    {
     "data": {
      "text/plain": [
       "dtype('int32')"
      ]
     },
     "execution_count": 40,
     "metadata": {},
     "output_type": "execute_result"
    }
   ],
   "source": [
    "arr.dtype"
   ]
  },
  {
   "cell_type": "code",
   "execution_count": 42,
   "id": "5528c498-1162-476d-8441-c8f291d4d08e",
   "metadata": {},
   "outputs": [
    {
     "name": "stdout",
     "output_type": "stream",
     "text": [
      "float64\n"
     ]
    }
   ],
   "source": [
    " # python import numpy as np\n",
    " arr = np.array([1, 2, 3], dtype='float')\n",
    " print(arr.dtype)"
   ]
  },
  {
   "cell_type": "code",
   "execution_count": null,
   "id": "c429ed80-0bf2-45ca-9d30-c7eb5ff0d0a7",
   "metadata": {},
   "outputs": [],
   "source": []
  }
 ],
 "metadata": {
  "kernelspec": {
   "display_name": "Python [conda env:base] *",
   "language": "python",
   "name": "conda-base-py"
  },
  "language_info": {
   "codemirror_mode": {
    "name": "ipython",
    "version": 3
   },
   "file_extension": ".py",
   "mimetype": "text/x-python",
   "name": "python",
   "nbconvert_exporter": "python",
   "pygments_lexer": "ipython3",
   "version": "3.12.7"
  }
 },
 "nbformat": 4,
 "nbformat_minor": 5
}
