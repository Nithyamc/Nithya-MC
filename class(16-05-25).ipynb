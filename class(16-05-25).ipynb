{
 "cells": [
  {
   "cell_type": "code",
   "execution_count": 1,
   "id": "525339ad-7269-4567-9ed3-a002ac2c03f8",
   "metadata": {},
   "outputs": [
    {
     "name": "stdin",
     "output_type": "stream",
     "text": [
      "please enter your name: alice\n"
     ]
    },
    {
     "name": "stdout",
     "output_type": "stream",
     "text": [
      "hello, alice! nice to meet you.\n"
     ]
    }
   ],
   "source": [
    "def greet():\n",
    "    name=input('please enter your name:')\n",
    "    print(f'hello, {name}! nice to meet you.')\n",
    "\n",
    "greet()"
   ]
  },
  {
   "cell_type": "code",
   "execution_count": 2,
   "id": "845a04c2-0324-4ed2-8c3a-f93449ddde46",
   "metadata": {},
   "outputs": [
    {
     "name": "stdout",
     "output_type": "stream",
     "text": [
      "\n"
     ]
    }
   ],
   "source": [
    "built-in functions\n",
    "print()\n",
    "len()\n",
    "type()"
   ]
  },
  {
   "cell_type": "code",
   "execution_count": null,
   "id": "99297f76-8775-43e9-9a50-e5c0476aca57",
   "metadata": {},
   "outputs": [],
   "source": [
    "formal arguments\n",
    "actual arguments"
   ]
  },
  {
   "cell_type": "code",
   "execution_count": null,
   "id": "e024e6ed-e192-4304-9aec-ecd83320092d",
   "metadata": {},
   "outputs": [],
   "source": [
    "*args : arbitary positional arguments \n",
    "\n",
    "syntax\n",
    "def func_name(*args):\n",
    "    # function body\n",
    "     pass"
   ]
  },
  {
   "cell_type": "code",
   "execution_count": 4,
   "id": "19c2e618-b2e0-4502-b3c0-499a1100fb5c",
   "metadata": {},
   "outputs": [
    {
     "name": "stdout",
     "output_type": "stream",
     "text": [
      "15\n"
     ]
    }
   ],
   "source": [
    "def add(*num):\n",
    "    z=sum(num)\n",
    "    print(z)\n",
    "\n",
    "add(1,2,3,4,5)"
   ]
  },
  {
   "cell_type": "code",
   "execution_count": 11,
   "id": "f27bde8a-ac06-4210-b600-b757e18113a7",
   "metadata": {},
   "outputs": [
    {
     "name": "stdout",
     "output_type": "stream",
     "text": [
      "addition: 11\n"
     ]
    }
   ],
   "source": [
    "def add(*num):\n",
    "    z=num[0]+num[1]+num[2]\n",
    "    print('addition:',z)\n",
    "\n",
    "add(5,2,4)"
   ]
  },
  {
   "cell_type": "code",
   "execution_count": 12,
   "id": "a5f74cb4-f447-4f6e-97a6-95e410c1a5e8",
   "metadata": {},
   "outputs": [
    {
     "name": "stdout",
     "output_type": "stream",
     "text": [
      "9\n"
     ]
    }
   ],
   "source": [
    "# 2. find the maximum value\n",
    "def find_max(*args):\n",
    "    return max(args)\n",
    "\n",
    "print(find_max(3,8,5,7,9))"
   ]
  },
  {
   "cell_type": "code",
   "execution_count": 16,
   "id": "0e098bf1-2e31-46ce-b2f8-703ac27b1a6f",
   "metadata": {},
   "outputs": [
    {
     "data": {
      "text/plain": [
       "'Hello World !'"
      ]
     },
     "execution_count": 16,
     "metadata": {},
     "output_type": "execute_result"
    }
   ],
   "source": [
    "# 3. concatenate strings\n",
    "def concatenate_string(*args):\n",
    "    return ' '.join(args)\n",
    "\n",
    "concatenate_string('Hello','World','!')"
   ]
  },
  {
   "cell_type": "code",
   "execution_count": null,
   "id": "0352cbbf-8723-463a-9bb6-f17118cb7282",
   "metadata": {},
   "outputs": [],
   "source": [
    "**kwargs: arbitary keyword arguments\n",
    "syntax\n",
    "def func_name(**kwargs):\n",
    "    # function body\n",
    "    pass\n"
   ]
  },
  {
   "cell_type": "code",
   "execution_count": 17,
   "id": "8b04cf93-401d-4dfb-b662-ddec161e07cb",
   "metadata": {},
   "outputs": [
    {
     "name": "stdout",
     "output_type": "stream",
     "text": [
      "<class 'dict'>\n",
      "this is a key name this is a value alice\n",
      "this is a key age this is a value 25\n"
     ]
    }
   ],
   "source": [
    "def func(**a):\n",
    "    print(type(a))\n",
    "    for i,j in a.items():\n",
    "        print(f\"this is a key {i} this is a value {j}\")\n",
    "\n",
    "func(name='alice',age=25)"
   ]
  },
  {
   "cell_type": "code",
   "execution_count": null,
   "id": "a16a5c6f-9c82-4733-a13b-6928bcbc241d",
   "metadata": {},
   "outputs": [],
   "source": [
    "types of variables in functions\n",
    "1. local variables\n",
    "variables that are declared inside a function n can be accessed within that function\n",
    "they exist only only while the function\n"
   ]
  },
  {
   "cell_type": "code",
   "execution_count": 18,
   "id": "c96f9ac1-91f3-46a0-9afe-1e02c9ec03e9",
   "metadata": {},
   "outputs": [
    {
     "name": "stdout",
     "output_type": "stream",
     "text": [
      "40\n"
     ]
    }
   ],
   "source": [
    "def func1():\n",
    "    abc=10\n",
    "    bca=30\n",
    "    cba=abc+bca\n",
    "    print(cba)\n",
    "\n",
    "func1()"
   ]
  },
  {
   "cell_type": "code",
   "execution_count": null,
   "id": "e96ff812-dca4-4161-8dcf-279f97e3f62e",
   "metadata": {},
   "outputs": [],
   "source": [
    "2. global variables\n",
    "variables declared outside a function n can be accessed both inside n outside any function.\n",
    "global variables are accessible throughout the program."
   ]
  },
  {
   "cell_type": "code",
   "execution_count": 19,
   "id": "32deae4c-332c-4d5a-b97d-118da2c5587c",
   "metadata": {},
   "outputs": [
    {
     "name": "stdout",
     "output_type": "stream",
     "text": [
      "30\n"
     ]
    }
   ],
   "source": [
    "eja=20\n",
    "def func2():\n",
    "    i=eja+10\n",
    "    print(i)\n",
    "\n",
    "func2()"
   ]
  },
  {
   "cell_type": "markdown",
   "id": "37614771-c333-4bfd-80f8-ce6b0086f010",
   "metadata": {},
   "source": [
    "# nested function"
   ]
  },
  {
   "cell_type": "code",
   "execution_count": 21,
   "id": "91f709a9-b043-49aa-9a23-c106a0369daf",
   "metadata": {},
   "outputs": [
    {
     "name": "stdout",
     "output_type": "stream",
     "text": [
      "first\n",
      "hello\n"
     ]
    }
   ],
   "source": [
    "def outer_func():\n",
    "    print('first')\n",
    "    def inner_func():\n",
    "        print('hello')\n",
    "\n",
    "    inner_func()\n",
    "\n",
    "outer_func()\n",
    "    "
   ]
  },
  {
   "cell_type": "code",
   "execution_count": null,
   "id": "6a0b3e36-c829-4d5c-9318-54ce03919e18",
   "metadata": {},
   "outputs": [],
   "source": [
    "deleting a function\n"
   ]
  },
  {
   "cell_type": "code",
   "execution_count": 22,
   "id": "c2b331f6-7aaf-4759-878a-4941e50396a6",
   "metadata": {},
   "outputs": [
    {
     "name": "stdout",
     "output_type": "stream",
     "text": [
      "hello, world!\n"
     ]
    }
   ],
   "source": [
    "def func():\n",
    "    print('hello, world!')\n",
    "\n",
    "func()"
   ]
  },
  {
   "cell_type": "code",
   "execution_count": 23,
   "id": "ca34194f-d6c6-4d32-a0aa-2d3f902898a2",
   "metadata": {},
   "outputs": [],
   "source": [
    "del func"
   ]
  },
  {
   "cell_type": "code",
   "execution_count": 24,
   "id": "898ff153-26f4-4dfb-9872-0375afd21a29",
   "metadata": {},
   "outputs": [
    {
     "ename": "NameError",
     "evalue": "name 'func' is not defined",
     "output_type": "error",
     "traceback": [
      "\u001b[1;31m---------------------------------------------------------------------------\u001b[0m",
      "\u001b[1;31mNameError\u001b[0m                                 Traceback (most recent call last)",
      "Cell \u001b[1;32mIn[24], line 1\u001b[0m\n\u001b[1;32m----> 1\u001b[0m func()\n",
      "\u001b[1;31mNameError\u001b[0m: name 'func' is not defined"
     ]
    }
   ],
   "source": [
    "func()"
   ]
  },
  {
   "cell_type": "markdown",
   "id": "8ea54738-891c-479a-84a4-01e245dc368f",
   "metadata": {},
   "source": [
    "# Lambda function"
   ]
  },
  {
   "cell_type": "code",
   "execution_count": null,
   "id": "8b1850f8-c4a5-4e54-b791-38e86949b5fd",
   "metadata": {},
   "outputs": [],
   "source": [
    "syntax \n",
    "lambda arguments1: expression"
   ]
  },
  {
   "cell_type": "code",
   "execution_count": 25,
   "id": "9b22a690-0728-4bbd-9025-e723e55ec423",
   "metadata": {},
   "outputs": [
    {
     "data": {
      "text/plain": [
       "14"
      ]
     },
     "execution_count": 25,
     "metadata": {},
     "output_type": "execute_result"
    }
   ],
   "source": [
    "def func(a):\n",
    "    b=a+4\n",
    "    return b\n",
    "\n",
    "func(10)"
   ]
  },
  {
   "cell_type": "code",
   "execution_count": 26,
   "id": "60bc608c-bc6e-4bb0-acdb-771d8850abc5",
   "metadata": {},
   "outputs": [
    {
     "data": {
      "text/plain": [
       "24"
      ]
     },
     "execution_count": 26,
     "metadata": {},
     "output_type": "execute_result"
    }
   ],
   "source": [
    "ab=func(20)\n",
    "ab"
   ]
  },
  {
   "cell_type": "code",
   "execution_count": 27,
   "id": "69dd142b-0714-4a2c-816e-0610bceca3d1",
   "metadata": {},
   "outputs": [],
   "source": [
    "ba = lambda a,b,c: a+b+c"
   ]
  },
  {
   "cell_type": "code",
   "execution_count": 29,
   "id": "95296504-65eb-45d0-bc11-42df7ce41cb4",
   "metadata": {},
   "outputs": [
    {
     "data": {
      "text/plain": [
       "60"
      ]
     },
     "execution_count": 29,
     "metadata": {},
     "output_type": "execute_result"
    }
   ],
   "source": [
    "ba(10,20,30)"
   ]
  },
  {
   "cell_type": "code",
   "execution_count": null,
   "id": "8354e957-03e2-4cab-9d67-a9d54d3f2d14",
   "metadata": {},
   "outputs": [],
   "source": [
    "difference between lambda function n regular function"
   ]
  },
  {
   "cell_type": "code",
   "execution_count": null,
   "id": "67733625-9453-4253-aeda-8a2277ec90af",
   "metadata": {},
   "outputs": [],
   "source": []
  }
 ],
 "metadata": {
  "kernelspec": {
   "display_name": "Python [conda env:base] *",
   "language": "python",
   "name": "conda-base-py"
  },
  "language_info": {
   "codemirror_mode": {
    "name": "ipython",
    "version": 3
   },
   "file_extension": ".py",
   "mimetype": "text/x-python",
   "name": "python",
   "nbconvert_exporter": "python",
   "pygments_lexer": "ipython3",
   "version": "3.12.7"
  }
 },
 "nbformat": 4,
 "nbformat_minor": 5
}
