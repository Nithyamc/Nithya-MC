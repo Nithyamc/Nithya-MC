{
 "cells": [
  {
   "cell_type": "markdown",
   "id": "461476e1-2fa6-4b0d-8232-3256ff960b24",
   "metadata": {},
   "source": [
    "type casting"
   ]
  },
  {
   "cell_type": "markdown",
   "id": "659552e5-34a3-4f17-ac3c-f13bce6943bb",
   "metadata": {},
   "source": [
    "conversion of one type of data to another"
   ]
  },
  {
   "cell_type": "markdown",
   "id": "50f546c1-b4cc-4aa2-8520-a48bf660878b",
   "metadata": {},
   "source": [
    "1. implicit conversion(is a type conversion done by python itself) \n",
    "\n"
   ]
  },
  {
   "cell_type": "code",
   "execution_count": 10,
   "id": "7a974379-454e-48ef-9b76-cc949bb74200",
   "metadata": {},
   "outputs": [
    {
     "name": "stdout",
     "output_type": "stream",
     "text": [
      "13.3\n"
     ]
    }
   ],
   "source": [
    "print(8+5.3)"
   ]
  },
  {
   "cell_type": "code",
   "execution_count": 11,
   "id": "5199e486-e4b6-44aa-9fd5-0919d16081db",
   "metadata": {},
   "outputs": [
    {
     "name": "stdout",
     "output_type": "stream",
     "text": [
      "<class 'int'> <class 'float'>\n"
     ]
    }
   ],
   "source": [
    "print(type(8),type(5.3))"
   ]
  },
  {
   "cell_type": "code",
   "execution_count": 12,
   "id": "bd4d824a-4bd7-4039-b0b8-57030b5f39b0",
   "metadata": {},
   "outputs": [
    {
     "ename": "TypeError",
     "evalue": "unsupported operand type(s) for +: 'int' and 'str'",
     "output_type": "error",
     "traceback": [
      "\u001b[1;31m---------------------------------------------------------------------------\u001b[0m",
      "\u001b[1;31mTypeError\u001b[0m                                 Traceback (most recent call last)",
      "Cell \u001b[1;32mIn[12], line 2\u001b[0m\n\u001b[0;32m      1\u001b[0m \u001b[38;5;66;03m#implicit does not work here\u001b[39;00m\n\u001b[1;32m----> 2\u001b[0m \u001b[38;5;28mprint\u001b[39m(\u001b[38;5;241m8\u001b[39m\u001b[38;5;241m+\u001b[39m\u001b[38;5;124m'\u001b[39m\u001b[38;5;124m9\u001b[39m\u001b[38;5;124m'\u001b[39m)\n",
      "\u001b[1;31mTypeError\u001b[0m: unsupported operand type(s) for +: 'int' and 'str'"
     ]
    }
   ],
   "source": [
    "#implicit does not work here\n",
    "print(8+'9')"
   ]
  },
  {
   "cell_type": "markdown",
   "id": "662e2d02-00da-45b0-bcaf-fa201c97a441",
   "metadata": {},
   "source": [
    "2. explicit conversion(where the coder explicitly write a code to convert)"
   ]
  },
  {
   "cell_type": "code",
   "execution_count": 16,
   "id": "7c10ba25-1667-4683-9c01-317a0cf6cf68",
   "metadata": {},
   "outputs": [],
   "source": [
    "a=10"
   ]
  },
  {
   "cell_type": "code",
   "execution_count": 17,
   "id": "344d1410-18f0-4b6a-b597-87988c44165b",
   "metadata": {},
   "outputs": [],
   "source": [
    "b=str(a)"
   ]
  },
  {
   "cell_type": "code",
   "execution_count": 18,
   "id": "a5a97de5-30a1-4406-851a-d9c456d256ac",
   "metadata": {},
   "outputs": [
    {
     "data": {
      "text/plain": [
       "'10'"
      ]
     },
     "execution_count": 18,
     "metadata": {},
     "output_type": "execute_result"
    }
   ],
   "source": [
    "b"
   ]
  },
  {
   "cell_type": "code",
   "execution_count": 26,
   "id": "eee217e9-d034-40e5-9c07-9ebce8693e28",
   "metadata": {},
   "outputs": [],
   "source": [
    "b=4+5j"
   ]
  },
  {
   "cell_type": "code",
   "execution_count": 28,
   "id": "b79ffa23-875e-46d9-949c-40a5247ff511",
   "metadata": {},
   "outputs": [
    {
     "data": {
      "text/plain": [
       "'(4+5j)'"
      ]
     },
     "execution_count": 28,
     "metadata": {},
     "output_type": "execute_result"
    }
   ],
   "source": [
    "c=str(b)\n",
    "c"
   ]
  },
  {
   "cell_type": "code",
   "execution_count": 29,
   "id": "b6ee0c41-b4ef-45ef-b67d-2d71c9dd3b86",
   "metadata": {},
   "outputs": [
    {
     "ename": "TypeError",
     "evalue": "int() argument must be a string, a bytes-like object or a real number, not 'complex'",
     "output_type": "error",
     "traceback": [
      "\u001b[1;31m---------------------------------------------------------------------------\u001b[0m",
      "\u001b[1;31mTypeError\u001b[0m                                 Traceback (most recent call last)",
      "Cell \u001b[1;32mIn[29], line 1\u001b[0m\n\u001b[1;32m----> 1\u001b[0m c\u001b[38;5;241m=\u001b[39m\u001b[38;5;28mint\u001b[39m(b)\n\u001b[0;32m      2\u001b[0m c\n",
      "\u001b[1;31mTypeError\u001b[0m: int() argument must be a string, a bytes-like object or a real number, not 'complex'"
     ]
    }
   ],
   "source": [
    "c=int(b)\n",
    "c"
   ]
  },
  {
   "cell_type": "markdown",
   "id": "bf06d32c-0404-4553-b03b-7944754655c3",
   "metadata": {},
   "source": [
    "what is syntax"
   ]
  },
  {
   "cell_type": "code",
   "execution_count": 62,
   "id": "02350a5e-38d2-4683-936d-51fe420e0c52",
   "metadata": {},
   "outputs": [
    {
     "name": "stdout",
     "output_type": "stream",
     "text": [
      "hello world\n"
     ]
    }
   ],
   "source": [
    "# syntax refers to the set of rules that defines the structure of valid statements and expressions in programming language\n",
    "print('hello world')# the syntax is correct"
   ]
  },
  {
   "cell_type": "code",
   "execution_count": 63,
   "id": "a0e8e960-251b-4b26-972a-70398f6c7ed6",
   "metadata": {},
   "outputs": [
    {
     "ename": "SyntaxError",
     "evalue": "Missing parentheses in call to 'print'. Did you mean print(...)? (1232718335.py, line 1)",
     "output_type": "error",
     "traceback": [
      "\u001b[1;36m  Cell \u001b[1;32mIn[63], line 1\u001b[1;36m\u001b[0m\n\u001b[1;33m    print \"hello world\" #incorrect\u001b[0m\n\u001b[1;37m    ^\u001b[0m\n\u001b[1;31mSyntaxError\u001b[0m\u001b[1;31m:\u001b[0m Missing parentheses in call to 'print'. Did you mean print(...)?\n"
     ]
    }
   ],
   "source": [
    "print \"hello world\" #incorrect"
   ]
  },
  {
   "cell_type": "markdown",
   "id": "1618f6e1-9f22-4cdd-8ac9-f40061e238e7",
   "metadata": {},
   "source": [
    "literals"
   ]
  },
  {
   "cell_type": "code",
   "execution_count": 64,
   "id": "b0052076-b372-4be8-9435-8f19351ecd6d",
   "metadata": {},
   "outputs": [
    {
     "data": {
      "text/plain": [
       "30"
      ]
     },
     "execution_count": 64,
     "metadata": {},
     "output_type": "execute_result"
    }
   ],
   "source": [
    "# a literal ia a fixed value that is directly written into the code and represents a specific data type\n",
    "age=30 #30 is integer literal\n",
    "age"
   ]
  },
  {
   "cell_type": "code",
   "execution_count": 65,
   "id": "c7e4008c-511d-4fde-b475-d6579fe28124",
   "metadata": {},
   "outputs": [
    {
     "data": {
      "text/plain": [
       "'morning'"
      ]
     },
     "execution_count": 65,
     "metadata": {},
     "output_type": "execute_result"
    }
   ],
   "source": [
    "greeting=\"morning\" # morning is a string literal\n",
    "greeting"
   ]
  },
  {
   "cell_type": "markdown",
   "id": "98c3d735-9e40-418d-bade-cf5c4f073cb0",
   "metadata": {},
   "source": [
    "Operators\n",
    "(arithmetic, relational,logical,bitwise,membership operators)\n"
   ]
  },
  {
   "cell_type": "code",
   "execution_count": 1,
   "id": "28af58d4-2be0-4bea-a87b-38ff157ba727",
   "metadata": {},
   "outputs": [],
   "source": [
    "#type3s of arithmetic operators"
   ]
  },
  {
   "cell_type": "code",
   "execution_count": 2,
   "id": "52c8e370-08de-4353-9fed-b88b8bd2917e",
   "metadata": {},
   "outputs": [
    {
     "data": {
      "text/plain": [
       "7"
      ]
     },
     "execution_count": 2,
     "metadata": {},
     "output_type": "execute_result"
    }
   ],
   "source": [
    "#1. addition\n",
    "3+4"
   ]
  },
  {
   "cell_type": "code",
   "execution_count": 3,
   "id": "cbbc64f1-89e4-471a-a4a3-6cf4902a0e16",
   "metadata": {},
   "outputs": [
    {
     "data": {
      "text/plain": [
       "2"
      ]
     },
     "execution_count": 3,
     "metadata": {},
     "output_type": "execute_result"
    }
   ],
   "source": [
    "#subtraction\n",
    "5-3"
   ]
  },
  {
   "cell_type": "code",
   "execution_count": 4,
   "id": "f5fd2a4a-f2f0-41c5-ac63-2f23e9d5dc95",
   "metadata": {},
   "outputs": [
    {
     "data": {
      "text/plain": [
       "20"
      ]
     },
     "execution_count": 4,
     "metadata": {},
     "output_type": "execute_result"
    }
   ],
   "source": [
    "#multipication\n",
    "4*5"
   ]
  },
  {
   "cell_type": "code",
   "execution_count": 5,
   "id": "54b96e57-3279-4d2a-a257-180b6a75b326",
   "metadata": {},
   "outputs": [
    {
     "data": {
      "text/plain": [
       "6.0"
      ]
     },
     "execution_count": 5,
     "metadata": {},
     "output_type": "execute_result"
    }
   ],
   "source": [
    "#division(/)\n",
    "24/4"
   ]
  },
  {
   "cell_type": "code",
   "execution_count": 6,
   "id": "57e6fce9-9978-42f2-825e-d0b6d54bbb73",
   "metadata": {},
   "outputs": [
    {
     "data": {
      "text/plain": [
       "2"
      ]
     },
     "execution_count": 6,
     "metadata": {},
     "output_type": "execute_result"
    }
   ],
   "source": [
    "#modulus(%)\n",
    "26%3"
   ]
  },
  {
   "cell_type": "markdown",
   "id": "dbd53a7d-5eee-46d1-a264-c426a70a78ef",
   "metadata": {},
   "source": [
    "floor division\n"
   ]
  },
  {
   "cell_type": "markdown",
   "id": "1d69428a-60a9-4b6e-9cd0-1ccd00cf68fa",
   "metadata": {},
   "source": [
    "this operator divides the 1st number by the second and returns the largest integer less than `"
   ]
  },
  {
   "cell_type": "code",
   "execution_count": 9,
   "id": "d9cf64d6-dadd-4517-8269-17c5c6bb4087",
   "metadata": {},
   "outputs": [
    {
     "data": {
      "text/plain": [
       "5.333333333333333"
      ]
     },
     "execution_count": 9,
     "metadata": {},
     "output_type": "execute_result"
    }
   ],
   "source": [
    "16/3"
   ]
  },
  {
   "cell_type": "code",
   "execution_count": 8,
   "id": "2dfda7a7-4cd6-4acd-94a2-4eb498e5fb23",
   "metadata": {},
   "outputs": [
    {
     "data": {
      "text/plain": [
       "5"
      ]
     },
     "execution_count": 8,
     "metadata": {},
     "output_type": "execute_result"
    }
   ],
   "source": [
    "#floor division\n",
    "result=16//3\n",
    "result"
   ]
  },
  {
   "cell_type": "code",
   "execution_count": 13,
   "id": "e87e4a7f-e91d-4a79-a558-9a59a63f9cf9",
   "metadata": {},
   "outputs": [
    {
     "data": {
      "text/plain": [
       "8"
      ]
     },
     "execution_count": 13,
     "metadata": {},
     "output_type": "execute_result"
    }
   ],
   "source": [
    "#exponential(this operator raises the 1st number to the power of the second)\n",
    "2**3"
   ]
  },
  {
   "cell_type": "code",
   "execution_count": 14,
   "id": "3dc6277e-9904-403f-b852-b7884ca61453",
   "metadata": {},
   "outputs": [
    {
     "data": {
      "text/plain": [
       "16"
      ]
     },
     "execution_count": 14,
     "metadata": {},
     "output_type": "execute_result"
    }
   ],
   "source": [
    "2*2*2*2"
   ]
  },
  {
   "cell_type": "code",
   "execution_count": 15,
   "id": "165d07c8-74c8-419c-a15b-cc0c44865b25",
   "metadata": {},
   "outputs": [
    {
     "data": {
      "text/plain": [
       "9.0"
      ]
     },
     "execution_count": 15,
     "metadata": {},
     "output_type": "execute_result"
    }
   ],
   "source": [
    "#combining arithmetic operators (based on precedence n associativity)\n",
    "#() ? / < * + -\n",
    "5+3*2-8/4"
   ]
  },
  {
   "cell_type": "code",
   "execution_count": 35,
   "id": "a35869e6-ac73-46a9-ad03-33b4dbf1c808",
   "metadata": {},
   "outputs": [
    {
     "data": {
      "text/plain": [
       "433"
      ]
     },
     "execution_count": 35,
     "metadata": {},
     "output_type": "execute_result"
    }
   ],
   "source": [
    "#question time 1\n",
    "scores=[85,90,78,92,88]\n",
    "total_score=sum(scores)\n",
    "total_score"
   ]
  },
  {
   "cell_type": "code",
   "execution_count": 36,
   "id": "78b4019a-5c6f-4370-b83b-c26389d05c1b",
   "metadata": {},
   "outputs": [
    {
     "data": {
      "text/plain": [
       "86.6"
      ]
     },
     "execution_count": 36,
     "metadata": {},
     "output_type": "execute_result"
    }
   ],
   "source": [
    "433/5"
   ]
  },
  {
   "cell_type": "code",
   "execution_count": 37,
   "id": "58dba625-4c05-4106-9576-5fed89f0f71d",
   "metadata": {},
   "outputs": [
    {
     "data": {
      "text/plain": [
       "5"
      ]
     },
     "execution_count": 37,
     "metadata": {},
     "output_type": "execute_result"
    }
   ],
   "source": [
    "len(scores)"
   ]
  },
  {
   "cell_type": "code",
   "execution_count": 23,
   "id": "be130734-c557-4309-8622-a47e2ca300a7",
   "metadata": {},
   "outputs": [
    {
     "data": {
      "text/plain": [
       "86.6"
      ]
     },
     "execution_count": 23,
     "metadata": {},
     "output_type": "execute_result"
    }
   ],
   "source": [
    "(85+90+78+92+88)/5"
   ]
  },
  {
   "cell_type": "code",
   "execution_count": 39,
   "id": "b5211aab-198f-44f4-8579-1a05105dd5d7",
   "metadata": {},
   "outputs": [
    {
     "data": {
      "text/plain": [
       "500"
      ]
     },
     "execution_count": 39,
     "metadata": {},
     "output_type": "execute_result"
    }
   ],
   "source": [
    "#2\n",
    "monthly_budget=1200\n",
    "spent=[350,150,200]\n",
    "bal=monthly_budget-(sum(spent))\n",
    "bal\n"
   ]
  },
  {
   "cell_type": "code",
   "execution_count": 55,
   "id": "3c8b29f6-96c5-43a1-8a92-150e71fc8305",
   "metadata": {},
   "outputs": [
    {
     "ename": "NameError",
     "evalue": "name 'balance_am' is not defined",
     "output_type": "error",
     "traceback": [
      "\u001b[1;31m---------------------------------------------------------------------------\u001b[0m",
      "\u001b[1;31mNameError\u001b[0m                                 Traceback (most recent call last)",
      "Cell \u001b[1;32mIn[55], line 6\u001b[0m\n\u001b[0;32m      4\u001b[0m transportation\u001b[38;5;241m=\u001b[39m\u001b[38;5;241m200\u001b[39m\n\u001b[0;32m      5\u001b[0m balance_amt\u001b[38;5;241m=\u001b[39mbudget\u001b[38;5;241m-\u001b[39m(groceries\u001b[38;5;241m+\u001b[39mutilities\u001b[38;5;241m+\u001b[39mtransportation)\n\u001b[1;32m----> 6\u001b[0m balance_am\n",
      "\u001b[1;31mNameError\u001b[0m: name 'balance_am' is not defined"
     ]
    }
   ],
   "source": [
    "budget=1200\n",
    "groceries=350\n",
    "utilities=150\n",
    "transportation=200\n",
    "balance_amt=budget-(groceries+utilities+transportation)\n",
    "balance_am"
   ]
  },
  {
   "cell_type": "code",
   "execution_count": 44,
   "id": "9cd73734-4241-4807-90cf-1e58f880d132",
   "metadata": {},
   "outputs": [
    {
     "data": {
      "text/plain": [
       "60.0"
      ]
     },
     "execution_count": 44,
     "metadata": {},
     "output_type": "execute_result"
    }
   ],
   "source": [
    "cost=75\n",
    "discount=20\n",
    "con=discount/100*75\n",
    "final_price=cost-con\n",
    "final_price"
   ]
  },
  {
   "cell_type": "code",
   "execution_count": 45,
   "id": "adb256b6-2554-4346-b9d7-ca96425f9112",
   "metadata": {},
   "outputs": [
    {
     "data": {
      "text/plain": [
       "26.25"
      ]
     },
     "execution_count": 45,
     "metadata": {},
     "output_type": "execute_result"
    }
   ],
   "source": [
    "book=23.75\n",
    "paying=50\n",
    "change=paying-book\n",
    "change"
   ]
  },
  {
   "cell_type": "code",
   "execution_count": 51,
   "id": "1d9973b5-d3b8-40f6-8856-25ac9a13dbad",
   "metadata": {},
   "outputs": [
    {
     "data": {
      "text/plain": [
       "150"
      ]
     },
     "execution_count": 51,
     "metadata": {},
     "output_type": "execute_result"
    }
   ],
   "source": [
    "width=10\n",
    "length=15\n",
    "area=(width*length)\n",
    "area"
   ]
  },
  {
   "cell_type": "code",
   "execution_count": 52,
   "id": "d0d59463-0b2b-4181-8eb2-a050a9c2818c",
   "metadata": {},
   "outputs": [
    {
     "data": {
      "text/plain": [
       "5"
      ]
     },
     "execution_count": 52,
     "metadata": {},
     "output_type": "execute_result"
    }
   ],
   "source": [
    "alice=25\n",
    "bob=30\n",
    "age=bob-alice\n",
    "age"
   ]
  },
  {
   "cell_type": "code",
   "execution_count": 53,
   "id": "4ab9687c-2f51-445f-903d-861ab388c0de",
   "metadata": {},
   "outputs": [
    {
     "data": {
      "text/plain": [
       "60"
      ]
     },
     "execution_count": 53,
     "metadata": {},
     "output_type": "execute_result"
    }
   ],
   "source": [
    "bought=120\n",
    "sold=180\n",
    "profit=sold-bought\n",
    "profit"
   ]
  },
  {
   "cell_type": "code",
   "execution_count": 57,
   "id": "0608ecfa-7fc2-42c7-a355-eadfdb279cd7",
   "metadata": {},
   "outputs": [
    {
     "data": {
      "text/plain": [
       "50.0"
      ]
     },
     "execution_count": 57,
     "metadata": {},
     "output_type": "execute_result"
    }
   ],
   "source": [
    "profit_percent=profit/120*100\n",
    "profit_percent"
   ]
  },
  {
   "cell_type": "code",
   "execution_count": 58,
   "id": "ba586c97-d19f-402b-ab8a-ed4b22eed35a",
   "metadata": {},
   "outputs": [
    {
     "data": {
      "text/plain": [
       "False"
      ]
     },
     "execution_count": 58,
     "metadata": {},
     "output_type": "execute_result"
    }
   ],
   "source": [
    "# relational operators\n",
    "#(equal to ==, greater, lesser than so on)\n",
    "2==3"
   ]
  },
  {
   "cell_type": "code",
   "execution_count": 59,
   "id": "a6189415-9842-4f2d-b17e-92eb966a710a",
   "metadata": {},
   "outputs": [
    {
     "data": {
      "text/plain": [
       "True"
      ]
     },
     "execution_count": 59,
     "metadata": {},
     "output_type": "execute_result"
    }
   ],
   "source": [
    "3==3"
   ]
  },
  {
   "cell_type": "code",
   "execution_count": 60,
   "id": "11b54bf3-5139-405c-9a3e-44b095ffc221",
   "metadata": {},
   "outputs": [
    {
     "data": {
      "text/plain": [
       "True"
      ]
     },
     "execution_count": 60,
     "metadata": {},
     "output_type": "execute_result"
    }
   ],
   "source": [
    "a=5\n",
    "b=3\n",
    "a>b"
   ]
  },
  {
   "cell_type": "code",
   "execution_count": 61,
   "id": "459b50a7-c644-4177-91bc-b7bcd5dfa136",
   "metadata": {},
   "outputs": [
    {
     "data": {
      "text/plain": [
       "False"
      ]
     },
     "execution_count": 61,
     "metadata": {},
     "output_type": "execute_result"
    }
   ],
   "source": [
    "a<b"
   ]
  },
  {
   "cell_type": "code",
   "execution_count": null,
   "id": "2b455b4c-ee54-41ab-86c7-ea0c4d1200be",
   "metadata": {},
   "outputs": [],
   "source": []
  }
 ],
 "metadata": {
  "kernelspec": {
   "display_name": "Python [conda env:base] *",
   "language": "python",
   "name": "conda-base-py"
  },
  "language_info": {
   "codemirror_mode": {
    "name": "ipython",
    "version": 3
   },
   "file_extension": ".py",
   "mimetype": "text/x-python",
   "name": "python",
   "nbconvert_exporter": "python",
   "pygments_lexer": "ipython3",
   "version": "3.12.7"
  }
 },
 "nbformat": 4,
 "nbformat_minor": 5
}
