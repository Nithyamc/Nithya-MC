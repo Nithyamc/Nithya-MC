{
 "cells": [
  {
   "cell_type": "code",
   "execution_count": null,
   "id": "aa413b00-822e-4851-a7f5-1314dc04a3f3",
   "metadata": {},
   "outputs": [],
   "source": [
    "s=\"\"\n",
    "1=[1,2,3,4]\n",
    "1=()\n",
    "dict={\"ROW_ID\":1,\"order_ID\":\n",
    "    "
   ]
  },
  {
   "cell_type": "code",
   "execution_count": 6,
   "id": "b459c116-2d06-484c-82be-8daf254f0b14",
   "metadata": {},
   "outputs": [
    {
     "data": {
      "text/plain": [
       "{'name': 'alice', 'age': 25, 'city': 'new york'}"
      ]
     },
     "execution_count": 6,
     "metadata": {},
     "output_type": "execute_result"
    }
   ],
   "source": [
    "# characteristics\n",
    "# 1. unordered\n",
    "my_dict={'name':'alice','age':25,'city':'new york'}\n",
    "my_dict"
   ]
  },
  {
   "cell_type": "code",
   "execution_count": 7,
   "id": "2371cb83-0ae1-43c2-9b3d-f45807dece70",
   "metadata": {},
   "outputs": [
    {
     "data": {
      "text/plain": [
       "{'name': 'navya', 'age': 25, 'city': 'new york'}"
      ]
     },
     "execution_count": 7,
     "metadata": {},
     "output_type": "execute_result"
    }
   ],
   "source": [
    "# 2. mutable(the dictionary can be modified after creation)\n",
    "my_dict['name']='navya'\n",
    "my_dict"
   ]
  },
  {
   "cell_type": "code",
   "execution_count": 8,
   "id": "9f8c50b3-c515-4ed6-a816-99d28ea884d7",
   "metadata": {},
   "outputs": [
    {
     "data": {
      "text/plain": [
       "{'name': 'navya', 'age': 21, 'city': 'new york'}"
      ]
     },
     "execution_count": 8,
     "metadata": {},
     "output_type": "execute_result"
    }
   ],
   "source": [
    "my_dict['age']=21\n",
    "my_dict"
   ]
  },
  {
   "cell_type": "code",
   "execution_count": 9,
   "id": "def2efc5-9e2e-4d79-84b6-fc154ed800a7",
   "metadata": {},
   "outputs": [
    {
     "data": {
      "text/plain": [
       "{'name': 'alice', 'age': 89}"
      ]
     },
     "execution_count": 9,
     "metadata": {},
     "output_type": "execute_result"
    }
   ],
   "source": [
    "#  3. unique keys\n",
    "my_dict={'name':'alice','age':67,'age':65,'age':89}\n",
    "my_dict"
   ]
  },
  {
   "cell_type": "code",
   "execution_count": 1,
   "id": "a7e7ebd6-f7fe-44b7-9485-404838c9bd30",
   "metadata": {},
   "outputs": [
    {
     "name": "stdout",
     "output_type": "stream",
     "text": [
      "{(1, 2): 'point', 'name': 'alice'}\n"
     ]
    }
   ],
   "source": [
    "# 4. immutable keys(keys must be immutable types such as strings, numbers or tuples)\n",
    "my_dict={(1,2):\"point\",'name':\"alice\"}\n",
    "print(my_dict)"
   ]
  },
  {
   "cell_type": "code",
   "execution_count": 11,
   "id": "5f8b37c8-a746-4b07-ba02-97e1f4f624b8",
   "metadata": {},
   "outputs": [],
   "source": [
    "my_dict1={1:'hello'}\n"
   ]
  },
  {
   "cell_type": "code",
   "execution_count": 12,
   "id": "db9388ac-2b26-4b8b-80f4-4ba312e6ac1e",
   "metadata": {},
   "outputs": [
    {
     "ename": "TypeError",
     "evalue": "unhashable type: 'list'",
     "output_type": "error",
     "traceback": [
      "\u001b[1;31m---------------------------------------------------------------------------\u001b[0m",
      "\u001b[1;31mTypeError\u001b[0m                                 Traceback (most recent call last)",
      "Cell \u001b[1;32mIn[12], line 1\u001b[0m\n\u001b[1;32m----> 1\u001b[0m my_dict2\u001b[38;5;241m=\u001b[39m{[\u001b[38;5;241m1\u001b[39m,\u001b[38;5;241m2\u001b[39m]:\u001b[38;5;124m'\u001b[39m\u001b[38;5;124mhello\u001b[39m\u001b[38;5;124m'\u001b[39m}\n",
      "\u001b[1;31mTypeError\u001b[0m: unhashable type: 'list'"
     ]
    }
   ],
   "source": [
    "my_dict2={[1,2]:'hello'}"
   ]
  },
  {
   "cell_type": "code",
   "execution_count": 3,
   "id": "0e796e62-768a-4020-b2be-c0d770ee1eab",
   "metadata": {},
   "outputs": [],
   "source": [
    "# 5.dynamic\n",
    "del my_dict['name']"
   ]
  },
  {
   "cell_type": "code",
   "execution_count": 4,
   "id": "17ceea79-c456-4667-a6af-4c9742e12761",
   "metadata": {},
   "outputs": [
    {
     "data": {
      "text/plain": [
       "{(1, 2): 'point'}"
      ]
     },
     "execution_count": 4,
     "metadata": {},
     "output_type": "execute_result"
    }
   ],
   "source": [
    "my_dict"
   ]
  },
  {
   "cell_type": "markdown",
   "id": "18808a7f-76af-4838-9085-1b95c9ae1d90",
   "metadata": {},
   "source": [
    "keys and values in a python dictionary"
   ]
  },
  {
   "cell_type": "code",
   "execution_count": null,
   "id": "e844fc7a-113d-4529-a4b3-5c4fef520fbf",
   "metadata": {},
   "outputs": [],
   "source": [
    "1. keys in dictionary\n",
    "uniqueness\n",
    "immutable"
   ]
  },
  {
   "cell_type": "code",
   "execution_count": null,
   "id": "2f0175f4-5eb8-463c-8fcf-31930f688aed",
   "metadata": {},
   "outputs": [],
   "source": [
    "2. values in a dictionary\n",
    "no uniqueness constraint\n",
    "mutable or immutable\n",
    "\n",
    "\n",
    "#  for keys we cannot use dictionary"
   ]
  },
  {
   "cell_type": "markdown",
   "id": "239d219e-ef8d-4b07-a621-fac928a47cdd",
   "metadata": {},
   "source": [
    "accessing dictionary elements"
   ]
  },
  {
   "cell_type": "code",
   "execution_count": 17,
   "id": "27582ede-100c-43c0-abbc-253420bbd49d",
   "metadata": {},
   "outputs": [],
   "source": [
    "#  1. accessing a value by key \n",
    "dict1={\n",
    "    'name':'alice',\n",
    "    \"age\":25,\n",
    "    'hobbies':['reading','hiking'],\n",
    "    'education':{'degree':'bca','year':2015}\n",
    "}"
   ]
  },
  {
   "cell_type": "code",
   "execution_count": 18,
   "id": "d6f412e5-86e8-49b4-a2f3-2b5bfad1cbe0",
   "metadata": {},
   "outputs": [
    {
     "data": {
      "text/plain": [
       "25"
      ]
     },
     "execution_count": 18,
     "metadata": {},
     "output_type": "execute_result"
    }
   ],
   "source": [
    "dict1['age']"
   ]
  },
  {
   "cell_type": "code",
   "execution_count": 20,
   "id": "87d2e652-6dfa-4b0f-9881-5571c0da82ba",
   "metadata": {},
   "outputs": [
    {
     "data": {
      "text/plain": [
       "2015"
      ]
     },
     "execution_count": 20,
     "metadata": {},
     "output_type": "execute_result"
    }
   ],
   "source": [
    "dict1['education']['year']"
   ]
  },
  {
   "cell_type": "code",
   "execution_count": 21,
   "id": "af349773-4665-4bc9-9da6-75c8a0476263",
   "metadata": {},
   "outputs": [
    {
     "data": {
      "text/plain": [
       "'hiking'"
      ]
     },
     "execution_count": 21,
     "metadata": {},
     "output_type": "execute_result"
    }
   ],
   "source": [
    "dict1['hobbies'][1]"
   ]
  },
  {
   "cell_type": "code",
   "execution_count": 22,
   "id": "587f5c61-7119-43f0-814e-09a56c0645fc",
   "metadata": {},
   "outputs": [
    {
     "data": {
      "text/plain": [
       "['reading', 'hiking']"
      ]
     },
     "execution_count": 22,
     "metadata": {},
     "output_type": "execute_result"
    }
   ],
   "source": [
    "dict1['hobbies']"
   ]
  },
  {
   "cell_type": "code",
   "execution_count": 23,
   "id": "268fbb0e-2711-4325-a30b-57c34ce2e362",
   "metadata": {},
   "outputs": [
    {
     "data": {
      "text/plain": [
       "25"
      ]
     },
     "execution_count": 23,
     "metadata": {},
     "output_type": "execute_result"
    }
   ],
   "source": [
    "# 2. using get() method\n",
    "dict1={\n",
    "    'name':'alice',\n",
    "    \"age\":25\n",
    "}\n",
    "dict1['age']"
   ]
  },
  {
   "cell_type": "code",
   "execution_count": 24,
   "id": "313a742f-e08e-4af7-b0bf-f2faadd1a189",
   "metadata": {},
   "outputs": [
    {
     "data": {
      "text/plain": [
       "'alice'"
      ]
     },
     "execution_count": 24,
     "metadata": {},
     "output_type": "execute_result"
    }
   ],
   "source": [
    "dict1.get('name')"
   ]
  },
  {
   "cell_type": "code",
   "execution_count": 28,
   "id": "5f0fba0f-0977-4fa8-a277-05b4a69a21ac",
   "metadata": {},
   "outputs": [],
   "source": [
    "dict1.get('city')"
   ]
  },
  {
   "cell_type": "code",
   "execution_count": 29,
   "id": "5e3d9de8-c67a-4c8d-a05e-9248b20b5996",
   "metadata": {},
   "outputs": [
    {
     "data": {
      "text/plain": [
       "25"
      ]
     },
     "execution_count": 29,
     "metadata": {},
     "output_type": "execute_result"
    }
   ],
   "source": [
    "dict1.get('age')"
   ]
  },
  {
   "cell_type": "code",
   "execution_count": 30,
   "id": "0822fa2e-4561-426b-b7ef-25d46cd30898",
   "metadata": {},
   "outputs": [
    {
     "name": "stdout",
     "output_type": "stream",
     "text": [
      "None\n"
     ]
    }
   ],
   "source": [
    "print(dict1.get('city'))"
   ]
  },
  {
   "cell_type": "code",
   "execution_count": 34,
   "id": "c19d8882-79a7-4162-af93-1f386441d202",
   "metadata": {},
   "outputs": [
    {
     "data": {
      "text/plain": [
       "dict_keys(['name', 'age'])"
      ]
     },
     "execution_count": 34,
     "metadata": {},
     "output_type": "execute_result"
    }
   ],
   "source": [
    "# 3. accessing all keys\n",
    "dict1={\n",
    "    'name':'alice',\n",
    "    \"age\":25\n",
    "}\n",
    "dict1.keys()"
   ]
  },
  {
   "cell_type": "code",
   "execution_count": 33,
   "id": "2ad93859-92ee-4aa2-90e9-887ef3bdb6d4",
   "metadata": {},
   "outputs": [
    {
     "data": {
      "text/plain": [
       "dict_values(['alice', 25])"
      ]
     },
     "execution_count": 33,
     "metadata": {},
     "output_type": "execute_result"
    }
   ],
   "source": [
    "# 4. accessing all values\n",
    "dict1={\n",
    "    'name':'alice',\n",
    "    \"age\":25\n",
    "}\n",
    "dict1.values()"
   ]
  },
  {
   "cell_type": "code",
   "execution_count": 35,
   "id": "07e9e151-632f-4c9f-ae8e-db3f8e5f0278",
   "metadata": {},
   "outputs": [
    {
     "data": {
      "text/plain": [
       "dict_items([('name', 'alice'), ('age', 25)])"
      ]
     },
     "execution_count": 35,
     "metadata": {},
     "output_type": "execute_result"
    }
   ],
   "source": [
    "# 5. aceessing all key-value pairs\n",
    "dict1={\n",
    "    'name':'alice',\n",
    "    \"age\":25\n",
    "}\n",
    "dict1.items()"
   ]
  },
  {
   "cell_type": "code",
   "execution_count": 42,
   "id": "202db6ee-cfec-4ad2-956e-897eb4cae189",
   "metadata": {},
   "outputs": [
    {
     "name": "stdout",
     "output_type": "stream",
     "text": [
      "name\n",
      "age\n",
      "city\n"
     ]
    }
   ],
   "source": [
    "# 6. iterating over keys n values\n",
    "dict1={'name':'alice',\"age\":25,'city':'new york'}\n",
    "for i in dict1:\n",
    "    print(i)"
   ]
  },
  {
   "cell_type": "code",
   "execution_count": 43,
   "id": "ff4e709d-5b53-4f6a-b3da-7d60b574c85e",
   "metadata": {},
   "outputs": [
    {
     "name": "stdout",
     "output_type": "stream",
     "text": [
      "alice\n",
      "25\n",
      "new york\n"
     ]
    }
   ],
   "source": [
    "for i in dict1.values():\n",
    "    print(i)"
   ]
  },
  {
   "cell_type": "code",
   "execution_count": 44,
   "id": "1a357f8b-834c-404e-8ee7-2d12713822eb",
   "metadata": {},
   "outputs": [
    {
     "name": "stdout",
     "output_type": "stream",
     "text": [
      "('name', 'alice')\n",
      "('age', 25)\n",
      "('city', 'new york')\n"
     ]
    }
   ],
   "source": [
    "for i in dict1.items():\n",
    "    print(i)"
   ]
  },
  {
   "cell_type": "code",
   "execution_count": 46,
   "id": "71a2721d-91ca-4473-9544-cb1cf0bfcc18",
   "metadata": {},
   "outputs": [
    {
     "name": "stdout",
     "output_type": "stream",
     "text": [
      "name: alice\n",
      "age: 25\n",
      "city: new york\n"
     ]
    }
   ],
   "source": [
    "for i,j in dict1.items():\n",
    "    print(f'{i}: {j}')"
   ]
  },
  {
   "cell_type": "code",
   "execution_count": 55,
   "id": "a2e040d7-0f1d-4a5e-8ba0-5231a245d2aa",
   "metadata": {},
   "outputs": [],
   "source": [
    "#  nested dictinary in python\n",
    "nested_dict={\n",
    "    'person1':{\n",
    "        'name':'alice',\n",
    "        'age':25,\n",
    "        'city':'new york'\n",
    "    },\n",
    "    'person2':{\n",
    "        'name':'bob',\n",
    "        'age':31,\n",
    "        'city':'delhi'\n",
    "    }\n",
    "}"
   ]
  },
  {
   "cell_type": "code",
   "execution_count": 56,
   "id": "82d49144-b42d-4063-ba1c-1829ceda0755",
   "metadata": {},
   "outputs": [
    {
     "data": {
      "text/plain": [
       "{'person1': {'name': 'alice', 'age': 25, 'city': 'new york'},\n",
       " 'person2': {'name': 'bob', 'age': 31, 'city': 'delhi'}}"
      ]
     },
     "execution_count": 56,
     "metadata": {},
     "output_type": "execute_result"
    }
   ],
   "source": [
    "nested_dict"
   ]
  },
  {
   "cell_type": "code",
   "execution_count": 57,
   "id": "3d05f12b-0de0-4235-9a75-07e9d4859254",
   "metadata": {},
   "outputs": [
    {
     "data": {
      "text/plain": [
       "{'name': 'bob', 'age': 31, 'city': 'delhi'}"
      ]
     },
     "execution_count": 57,
     "metadata": {},
     "output_type": "execute_result"
    }
   ],
   "source": [
    "# accessing nested dictionary\n",
    "nested_dict['person2']"
   ]
  },
  {
   "cell_type": "code",
   "execution_count": 58,
   "id": "8e7a09b3-c693-465f-b07f-8c4b3843087b",
   "metadata": {},
   "outputs": [
    {
     "data": {
      "text/plain": [
       "{'name': 'alice', 'age': 25, 'city': 'new york'}"
      ]
     },
     "execution_count": 58,
     "metadata": {},
     "output_type": "execute_result"
    }
   ],
   "source": [
    "nested_dict['person1']"
   ]
  },
  {
   "cell_type": "code",
   "execution_count": 59,
   "id": "879b6196-d76e-4bfb-ae47-c5781742f27b",
   "metadata": {},
   "outputs": [
    {
     "data": {
      "text/plain": [
       "'new york'"
      ]
     },
     "execution_count": 59,
     "metadata": {},
     "output_type": "execute_result"
    }
   ],
   "source": [
    "nested_dict['person1']['city']"
   ]
  },
  {
   "cell_type": "code",
   "execution_count": 60,
   "id": "efd41746-8b07-43e5-bf7e-7139712dd485",
   "metadata": {},
   "outputs": [
    {
     "data": {
      "text/plain": [
       "'bob'"
      ]
     },
     "execution_count": 60,
     "metadata": {},
     "output_type": "execute_result"
    }
   ],
   "source": [
    "nested_dict['person2']['name']"
   ]
  },
  {
   "cell_type": "code",
   "execution_count": 65,
   "id": "d8cfc3ae-6d45-4c2d-95b6-04bfdf5792ba",
   "metadata": {},
   "outputs": [
    {
     "data": {
      "text/plain": [
       "{'person1': {'name': 'navya', 'age': 25, 'city': 'new york'},\n",
       " 'person2': {'name': 'bob', 'age': 31, 'city': 'delhi'},\n",
       " 'person3': {'name': 'diana', 'age': 26, 'city': 'boston'}}"
      ]
     },
     "execution_count": 65,
     "metadata": {},
     "output_type": "execute_result"
    }
   ],
   "source": [
    "# modifying elements in a nested dictionary\n",
    "nested_dict['person1']['name']='navya'\n",
    "nested_dict\n"
   ]
  },
  {
   "cell_type": "code",
   "execution_count": 62,
   "id": "d77f4554-3e4b-4b3b-97c2-60ca53bd822c",
   "metadata": {},
   "outputs": [],
   "source": [
    "#  adding a new dictionary to a nested dictionary\n"
   ]
  },
  {
   "cell_type": "code",
   "execution_count": 66,
   "id": "c81ce173-1559-4124-96d5-5b6737a94f7f",
   "metadata": {},
   "outputs": [],
   "source": [
    "nested_dict['person3']={\n",
    "    'name':'diana',\n",
    "    'age':26,\n",
    "    'city':'boston'\n",
    "}"
   ]
  },
  {
   "cell_type": "code",
   "execution_count": 67,
   "id": "2a4e7d51-87fb-457c-8a17-7f767a1d83b0",
   "metadata": {},
   "outputs": [
    {
     "data": {
      "text/plain": [
       "{'person1': {'name': 'navya', 'age': 25, 'city': 'new york'},\n",
       " 'person2': {'name': 'bob', 'age': 31, 'city': 'delhi'},\n",
       " 'person3': {'name': 'diana', 'age': 26, 'city': 'boston'}}"
      ]
     },
     "execution_count": 67,
     "metadata": {},
     "output_type": "execute_result"
    }
   ],
   "source": [
    "nested_dict"
   ]
  },
  {
   "cell_type": "code",
   "execution_count": 68,
   "id": "90d413ab-7a64-45fb-9ab4-e6253dc1522e",
   "metadata": {},
   "outputs": [
    {
     "data": {
      "text/plain": [
       "{'person1': {'name': 'navya', 'age': 25, 'city': 'new york'},\n",
       " 'person2': {'name': 'bob', 'age': 31, 'city': 'delhi'},\n",
       " 'person3': {'name': 'diana', 'age': 26, 'city': 'boston'},\n",
       " 'person4': 'yogi'}"
      ]
     },
     "execution_count": 68,
     "metadata": {},
     "output_type": "execute_result"
    }
   ],
   "source": [
    "nested_dict['person4']='yogi'\n",
    "nested_dict"
   ]
  },
  {
   "cell_type": "code",
   "execution_count": null,
   "id": "70e612d7-c0cc-4fc2-ad69-a171ae039e91",
   "metadata": {},
   "outputs": [],
   "source": [
    "#  looping through a nested dictionary\n",
    "users={\n",
    "    \n",
    "}"
   ]
  },
  {
   "cell_type": "code",
   "execution_count": null,
   "id": "3fb6fc4f-be55-491d-8da6-2acc895431b3",
   "metadata": {},
   "outputs": [],
   "source": [
    "# adding key-value pairs to a dictionary"
   ]
  },
  {
   "cell_type": "code",
   "execution_count": null,
   "id": "f11a4ff0-4b7d-46d0-bb0f-9d277414bff7",
   "metadata": {},
   "outputs": [],
   "source": [
    "# removing \n",
    "del\n",
    "pop\n",
    "popitem()"
   ]
  },
  {
   "cell_type": "code",
   "execution_count": 69,
   "id": "b47d52b3-dff0-4ff1-9d37-3a003580e663",
   "metadata": {},
   "outputs": [],
   "source": [
    "# 1.using del\n",
    "my_dict={'name':'alice',\"age\":25,'city':'new york','profession':'engineer'}\n",
    "del my_dict['age']"
   ]
  },
  {
   "cell_type": "code",
   "execution_count": 70,
   "id": "69f175fb-ceb4-44c5-af5f-dc03e9f58f84",
   "metadata": {},
   "outputs": [
    {
     "data": {
      "text/plain": [
       "{'name': 'alice', 'city': 'new york', 'profession': 'engineer'}"
      ]
     },
     "execution_count": 70,
     "metadata": {},
     "output_type": "execute_result"
    }
   ],
   "source": [
    " my_dict"
   ]
  },
  {
   "cell_type": "code",
   "execution_count": 72,
   "id": "5e9a61b0-be8d-4630-a9e2-ba4c5b293757",
   "metadata": {},
   "outputs": [
    {
     "data": {
      "text/plain": [
       "'engineer'"
      ]
     },
     "execution_count": 72,
     "metadata": {},
     "output_type": "execute_result"
    }
   ],
   "source": [
    "# 2. using pop() method\n",
    "my_dict.pop('profession')"
   ]
  },
  {
   "cell_type": "code",
   "execution_count": 73,
   "id": "da72477d-367e-4475-9e3e-a23bde792153",
   "metadata": {},
   "outputs": [
    {
     "data": {
      "text/plain": [
       "{'name': 'alice', 'city': 'new york'}"
      ]
     },
     "execution_count": 73,
     "metadata": {},
     "output_type": "execute_result"
    }
   ],
   "source": [
    "my_dict"
   ]
  },
  {
   "cell_type": "code",
   "execution_count": 74,
   "id": "74f59e7c-5a8b-4a36-8920-790bfa38243d",
   "metadata": {},
   "outputs": [
    {
     "data": {
      "text/plain": [
       "('city', 'new york')"
      ]
     },
     "execution_count": 74,
     "metadata": {},
     "output_type": "execute_result"
    }
   ],
   "source": [
    "# 3. using pop item()method= removes the last key-value pair from the dictionary\n",
    "my_dict.popitem()"
   ]
  },
  {
   "cell_type": "code",
   "execution_count": 75,
   "id": "e54ce113-a08c-4bf6-a15e-908b8a386385",
   "metadata": {},
   "outputs": [
    {
     "data": {
      "text/plain": [
       "{'name': 'alice'}"
      ]
     },
     "execution_count": 75,
     "metadata": {},
     "output_type": "execute_result"
    }
   ],
   "source": [
    "my_dict"
   ]
  },
  {
   "cell_type": "code",
   "execution_count": 76,
   "id": "f83b6fd3-8458-4483-973e-a6d27d258283",
   "metadata": {},
   "outputs": [
    {
     "data": {
      "text/plain": [
       "('name', 'alice')"
      ]
     },
     "execution_count": 76,
     "metadata": {},
     "output_type": "execute_result"
    }
   ],
   "source": [
    "my_dict.popitem()"
   ]
  },
  {
   "cell_type": "code",
   "execution_count": 77,
   "id": "f3b95522-f610-49f6-8b20-d49b0c3e5599",
   "metadata": {},
   "outputs": [
    {
     "data": {
      "text/plain": [
       "{}"
      ]
     },
     "execution_count": 77,
     "metadata": {},
     "output_type": "execute_result"
    }
   ],
   "source": [
    "my_dict"
   ]
  },
  {
   "cell_type": "code",
   "execution_count": null,
   "id": "2ed48284-aac6-4488-a2cc-c8a315a61827",
   "metadata": {},
   "outputs": [],
   "source": [
    "# membership operator\n",
    "in opearator\n",
    "not in opearator"
   ]
  },
  {
   "cell_type": "code",
   "execution_count": 78,
   "id": "bd700854-ace3-43f3-b625-d7d1986cfa33",
   "metadata": {},
   "outputs": [
    {
     "data": {
      "text/plain": [
       "False"
      ]
     },
     "execution_count": 78,
     "metadata": {},
     "output_type": "execute_result"
    }
   ],
   "source": [
    "# 1. in opearator\n",
    "my_dict={'name':'alice',\"age\":25,'city':'new york','profession':'engineer'}\n",
    "25 in my_dict\n"
   ]
  },
  {
   "cell_type": "code",
   "execution_count": 79,
   "id": "29ceae4f-9ca7-4725-89ee-28c168f0f48a",
   "metadata": {},
   "outputs": [
    {
     "data": {
      "text/plain": [
       "True"
      ]
     },
     "execution_count": 79,
     "metadata": {},
     "output_type": "execute_result"
    }
   ],
   "source": [
    "'age' in my_dict"
   ]
  },
  {
   "cell_type": "code",
   "execution_count": 81,
   "id": "83e06c29-bf35-4565-8e40-6180e10095d4",
   "metadata": {},
   "outputs": [
    {
     "data": {
      "text/plain": [
       "False"
      ]
     },
     "execution_count": 81,
     "metadata": {},
     "output_type": "execute_result"
    }
   ],
   "source": [
    "#  not in\n",
    "'city' not in my_dict"
   ]
  },
  {
   "cell_type": "code",
   "execution_count": 82,
   "id": "22724679-1e2e-4a71-9876-d3b2bd085764",
   "metadata": {},
   "outputs": [
    {
     "data": {
      "text/plain": [
       "True"
      ]
     },
     "execution_count": 82,
     "metadata": {},
     "output_type": "execute_result"
    }
   ],
   "source": [
    "'course' not in my_dict"
   ]
  },
  {
   "cell_type": "code",
   "execution_count": null,
   "id": "b794e26d-bef0-499d-a94b-d235f4a808c6",
   "metadata": {},
   "outputs": [],
   "source": [
    "students={\n",
    "    'alice':{'age':20,'grade':'A'},\n",
    "    'bob':{'age':25,'grade':'B'},\n",
    "    'diana':{'age':30,'grade':'A+'}\n",
    "}\n",
    "for i"
   ]
  },
  {
   "cell_type": "code",
   "execution_count": 84,
   "id": "53eda560-f82f-4de4-8e2b-e9ebe652d095",
   "metadata": {},
   "outputs": [
    {
     "data": {
      "text/plain": [
       "{1: 1, 2: 4, 3: 9, 4: 16, 5: 25}"
      ]
     },
     "execution_count": 84,
     "metadata": {},
     "output_type": "execute_result"
    }
   ],
   "source": [
    "# dictionary comprehension\n",
    "# 1. basic dictionary comprehension\n",
    "squares={i:i**2 for i in range(1,6)}\n",
    "squares"
   ]
  },
  {
   "cell_type": "code",
   "execution_count": 89,
   "id": "a5c5dbab-b91d-4ef7-a5f4-491e9eac379d",
   "metadata": {},
   "outputs": [
    {
     "data": {
      "text/plain": [
       "{2: 8, 4: 64, 6: 216, 8: 512, 10: 1000}"
      ]
     },
     "execution_count": 89,
     "metadata": {},
     "output_type": "execute_result"
    }
   ],
   "source": [
    "# dictionary comprehension with condition\n",
    "squares={x:x**3 for x in range(1,11) if x%2==0}\n",
    "squares"
   ]
  },
  {
   "cell_type": "code",
   "execution_count": null,
   "id": "ff18f159-f578-433b-afd8-8e399ef383f8",
   "metadata": {},
   "outputs": [],
   "source": [
    "# advantages\n",
    "conciseness\n",
    "readability\n",
    "efficiency"
   ]
  }
 ],
 "metadata": {
  "kernelspec": {
   "display_name": "Python [conda env:base] *",
   "language": "python",
   "name": "conda-base-py"
  },
  "language_info": {
   "codemirror_mode": {
    "name": "ipython",
    "version": 3
   },
   "file_extension": ".py",
   "mimetype": "text/x-python",
   "name": "python",
   "nbconvert_exporter": "python",
   "pygments_lexer": "ipython3",
   "version": "3.12.7"
  }
 },
 "nbformat": 4,
 "nbformat_minor": 5
}
