{
 "cells": [
  {
   "cell_type": "markdown",
   "id": "6ff1ae1e-1a65-4340-9c68-3072c29b2a8c",
   "metadata": {},
   "source": [
    "# list methods"
   ]
  },
  {
   "cell_type": "code",
   "execution_count": null,
   "id": "79de51cd-b37f-448f-a6f3-535e8567d53d",
   "metadata": {},
   "outputs": [],
   "source": [
    "# 1. append(item)\n",
    "adds an item to the end of the list"
   ]
  },
  {
   "cell_type": "code",
   "execution_count": 1,
   "id": "3e73a584-b4a5-4859-83c7-eaed7bcf2211",
   "metadata": {},
   "outputs": [
    {
     "data": {
      "text/plain": [
       "['apple', 'banana', 'orange']"
      ]
     },
     "execution_count": 1,
     "metadata": {},
     "output_type": "execute_result"
    }
   ],
   "source": [
    "fruits=['apple','banana']\n",
    "fruits.append(\"orange\")\n",
    "fruits"
   ]
  },
  {
   "cell_type": "code",
   "execution_count": 4,
   "id": "d3cfb21b-8ce8-4dfa-a154-c4167edad9c3",
   "metadata": {},
   "outputs": [
    {
     "data": {
      "text/plain": [
       "['apple', 'banana', ['orange', 'goa']]"
      ]
     },
     "execution_count": 4,
     "metadata": {},
     "output_type": "execute_result"
    }
   ],
   "source": [
    "fruits=['apple','banana']\n",
    "fruits.append([\"orange\",'goa'])\n",
    "fruits"
   ]
  },
  {
   "cell_type": "code",
   "execution_count": null,
   "id": "7bebc6cc-ef91-449b-af3a-737390df529e",
   "metadata": {},
   "outputs": [],
   "source": [
    "# 2. extend(iterable)\n",
    "extends the list by adding elements from another iterable(like a list,tuple or set)"
   ]
  },
  {
   "cell_type": "code",
   "execution_count": 2,
   "id": "4cc97cce-a198-4fb6-826e-d5a5a2689d1f",
   "metadata": {},
   "outputs": [
    {
     "data": {
      "text/plain": [
       "['apple', 'banana', 1, 2, 3, 4, 5]"
      ]
     },
     "execution_count": 2,
     "metadata": {},
     "output_type": "execute_result"
    }
   ],
   "source": [
    "fruits=['apple','banana']\n",
    "fruits.extend([1,2,3,4,5])\n",
    "fruits"
   ]
  },
  {
   "cell_type": "code",
   "execution_count": null,
   "id": "3cc61eb1-fabc-4b45-acc7-f8f3f3b8d1f8",
   "metadata": {},
   "outputs": [],
   "source": [
    "3. insert(index,item)\n",
    "inserts an item at a specified position in the list\n"
   ]
  },
  {
   "cell_type": "code",
   "execution_count": 5,
   "id": "972592db-27a1-407d-a259-e3c1b71f23e9",
   "metadata": {},
   "outputs": [
    {
     "data": {
      "text/plain": [
       "['apple', '60', 'banana']"
      ]
     },
     "execution_count": 5,
     "metadata": {},
     "output_type": "execute_result"
    }
   ],
   "source": [
    "fruits=['apple','banana']\n",
    "fruits.insert(1,'60')\n",
    "fruits"
   ]
  },
  {
   "cell_type": "code",
   "execution_count": 7,
   "id": "9501fdac-340c-49d8-8542-cf9bc1fd52fe",
   "metadata": {},
   "outputs": [
    {
     "data": {
      "text/plain": [
       "['apple', 'banana', 'cherry', 'guava']"
      ]
     },
     "execution_count": 7,
     "metadata": {},
     "output_type": "execute_result"
    }
   ],
   "source": [
    "fruits=['apple','banana','guava']\n",
    "fruits.insert(2,'cherry')\n",
    "fruits"
   ]
  },
  {
   "cell_type": "code",
   "execution_count": null,
   "id": "d31e82f2-6113-4c93-a35a-c3938f9710ed",
   "metadata": {},
   "outputs": [],
   "source": [
    "4. remove(item)\n",
    "removes the first occurrence of an item from the list"
   ]
  },
  {
   "cell_type": "code",
   "execution_count": 10,
   "id": "0f396456-81ac-4130-86a6-07d8cf005fb7",
   "metadata": {},
   "outputs": [
    {
     "data": {
      "text/plain": [
       "['apple', 'guava', 'cherry']"
      ]
     },
     "execution_count": 10,
     "metadata": {},
     "output_type": "execute_result"
    }
   ],
   "source": [
    "fruits=['apple','banana','guava','cherry']\n",
    "fruits.remove('banana')\n",
    "fruits"
   ]
  },
  {
   "cell_type": "code",
   "execution_count": null,
   "id": "52204cf0-186c-4787-b0ec-04a918a39781",
   "metadata": {},
   "outputs": [],
   "source": [
    "5. pop(index=-1)\n",
    "removes n returns the item at the specified index. if no index is specified , it removes n returns the last item in the list"
   ]
  },
  {
   "cell_type": "code",
   "execution_count": 11,
   "id": "9f27a7d6-8505-4304-aba2-eb7b55965d91",
   "metadata": {},
   "outputs": [
    {
     "data": {
      "text/plain": [
       "['apple', 'banana', 'cherry']"
      ]
     },
     "execution_count": 11,
     "metadata": {},
     "output_type": "execute_result"
    }
   ],
   "source": [
    "fruits=['apple','banana','guava','cherry']\n",
    "fruits.pop(2)\n",
    "fruits"
   ]
  },
  {
   "cell_type": "code",
   "execution_count": 12,
   "id": "523313d6-62f0-43d0-ba3d-7ae9eabff337",
   "metadata": {},
   "outputs": [
    {
     "data": {
      "text/plain": [
       "['apple', 'banana', 'guava']"
      ]
     },
     "execution_count": 12,
     "metadata": {},
     "output_type": "execute_result"
    }
   ],
   "source": [
    "fruits=['apple','banana','guava','cherry']\n",
    "fruits.pop()\n",
    "fruits"
   ]
  },
  {
   "cell_type": "code",
   "execution_count": 13,
   "id": "4d2f69e2-ae92-4171-b3ca-f02831004d39",
   "metadata": {},
   "outputs": [
    {
     "data": {
      "text/plain": [
       "['apple', 'banana', 'guava']"
      ]
     },
     "execution_count": 13,
     "metadata": {},
     "output_type": "execute_result"
    }
   ],
   "source": [
    "fruits=['apple','banana','guava','cherry']\n",
    "fruits.pop(3)\n",
    "fruits"
   ]
  },
  {
   "cell_type": "code",
   "execution_count": null,
   "id": "e41ce500-2823-418b-8e2b-a69198258740",
   "metadata": {},
   "outputs": [],
   "source": [
    "6. clear()\n",
    "removes all items from the list\n"
   ]
  },
  {
   "cell_type": "code",
   "execution_count": 14,
   "id": "6df3d8c9-68e4-4248-9ef0-3dc30605490d",
   "metadata": {},
   "outputs": [
    {
     "data": {
      "text/plain": [
       "[]"
      ]
     },
     "execution_count": 14,
     "metadata": {},
     "output_type": "execute_result"
    }
   ],
   "source": [
    "fruits=['apple','banana','guava','cherry']\n",
    "fruits.clear()\n",
    "fruits"
   ]
  },
  {
   "cell_type": "code",
   "execution_count": 20,
   "id": "651fbc21-3109-4b7a-aedc-f169caba83bf",
   "metadata": {},
   "outputs": [],
   "source": [
    "#7. index(item,start=0,end=len(list))\n",
    "# returns the index of the first occurrence of the item.\n",
    "# you can specify start n end indices to narrow the search"
   ]
  },
  {
   "cell_type": "code",
   "execution_count": 30,
   "id": "f621afb6-b19e-445b-a3ba-9c25b439438e",
   "metadata": {},
   "outputs": [],
   "source": [
    "fruit_names=['apple','banana','guava','cherry']\n"
   ]
  },
  {
   "cell_type": "code",
   "execution_count": 33,
   "id": "7bb5d29b-b19e-4927-9aa6-e788dd647054",
   "metadata": {},
   "outputs": [
    {
     "data": {
      "text/plain": [
       "3"
      ]
     },
     "execution_count": 33,
     "metadata": {},
     "output_type": "execute_result"
    }
   ],
   "source": [
    "fruit_names.index('cherry')"
   ]
  },
  {
   "cell_type": "code",
   "execution_count": 34,
   "id": "2540292d-224c-4858-80d2-a6b61059567a",
   "metadata": {},
   "outputs": [
    {
     "data": {
      "text/plain": [
       "1"
      ]
     },
     "execution_count": 34,
     "metadata": {},
     "output_type": "execute_result"
    }
   ],
   "source": [
    "fruit_names.index('banana')"
   ]
  },
  {
   "cell_type": "code",
   "execution_count": null,
   "id": "73f70945-7912-41cd-8c61-5b92b64c080b",
   "metadata": {},
   "outputs": [],
   "source": [
    "8. count(item)\n",
    "returns the number of items the item appears in the list"
   ]
  },
  {
   "cell_type": "code",
   "execution_count": 36,
   "id": "d248da2c-7b98-4681-9509-8c3c41bb6f07",
   "metadata": {},
   "outputs": [
    {
     "data": {
      "text/plain": [
       "2"
      ]
     },
     "execution_count": 36,
     "metadata": {},
     "output_type": "execute_result"
    }
   ],
   "source": [
    "fruits=['apple','banana','guava','cherry','banana']\n",
    "fruits.count('banana')\n",
    "# fruits"
   ]
  },
  {
   "cell_type": "code",
   "execution_count": 37,
   "id": "da67ff3b-6358-410a-bb2f-29ef8e9a9af5",
   "metadata": {},
   "outputs": [
    {
     "data": {
      "text/plain": [
       "1"
      ]
     },
     "execution_count": 37,
     "metadata": {},
     "output_type": "execute_result"
    }
   ],
   "source": [
    "fruits.count('cherry')"
   ]
  },
  {
   "cell_type": "code",
   "execution_count": null,
   "id": "4af61fe7-f97d-4aef-b7b9-92038dc9edd7",
   "metadata": {},
   "outputs": [],
   "source": [
    " 9. sort(key=none, reverse=False)\n",
    " sorts the item in the list in nascending order by default\n",
    " you can pass a key function to customize the sort order and set reverse=true for descending order"
   ]
  },
  {
   "cell_type": "code",
   "execution_count": 39,
   "id": "cf9f2f64-07c4-44b5-b8f3-ea577bdc3e5a",
   "metadata": {},
   "outputs": [
    {
     "data": {
      "text/plain": [
       "[1, 2, 3, 4, 7, 8]"
      ]
     },
     "execution_count": 39,
     "metadata": {},
     "output_type": "execute_result"
    }
   ],
   "source": [
    "numbers=[1,3,7,4,8,2]\n",
    "numbers.sort()\n",
    "numbers"
   ]
  },
  {
   "cell_type": "code",
   "execution_count": 41,
   "id": "29bb6701-8599-4775-860c-d874aecd5024",
   "metadata": {},
   "outputs": [
    {
     "data": {
      "text/plain": [
       "[8, 7, 4, 3, 2, 1]"
      ]
     },
     "execution_count": 41,
     "metadata": {},
     "output_type": "execute_result"
    }
   ],
   "source": [
    "numbers.sort(reverse=True)\n",
    "numbers"
   ]
  },
  {
   "cell_type": "code",
   "execution_count": null,
   "id": "593ff748-90fa-4bab-b03f-258484e3a541",
   "metadata": {},
   "outputs": [],
   "source": [
    "10. reverse()\n",
    "reverse the elements of the list in place"
   ]
  },
  {
   "cell_type": "code",
   "execution_count": 42,
   "id": "6ca6a631-c1de-44f2-b1b4-8a5a31abb593",
   "metadata": {},
   "outputs": [
    {
     "data": {
      "text/plain": [
       "['cherry', 'guava', 'banana', 'apple']"
      ]
     },
     "execution_count": 42,
     "metadata": {},
     "output_type": "execute_result"
    }
   ],
   "source": [
    "fruits=['apple','banana','guava','cherry']\n",
    "fruits.reverse()\n",
    "fruits"
   ]
  },
  {
   "cell_type": "code",
   "execution_count": null,
   "id": "e62e6628-05b8-4616-a6fe-1ba5c89cf54d",
   "metadata": {},
   "outputs": [],
   "source": [
    "12. join()\n",
    "although not a list method itself you can use the join() method on a string to concatenate a list of strings"
   ]
  },
  {
   "cell_type": "code",
   "execution_count": 43,
   "id": "f8ec51c8-306a-44ec-96dc-3ec8433b2ffe",
   "metadata": {},
   "outputs": [
    {
     "data": {
      "text/plain": [
       "'apple-banana-guava-cherry'"
      ]
     },
     "execution_count": 43,
     "metadata": {},
     "output_type": "execute_result"
    }
   ],
   "source": [
    "fruits=['apple','banana','guava','cherry']\n",
    "fruits_string='-'.join(fruits)\n",
    "fruits_string"
   ]
  },
  {
   "cell_type": "code",
   "execution_count": null,
   "id": "211a5d13-4f0b-409a-9187-7bd1a90bae74",
   "metadata": {},
   "outputs": [],
   "source": [
    "14. sort() with reverse"
   ]
  },
  {
   "cell_type": "code",
   "execution_count": null,
   "id": "4de96420-b88a-428f-bfad-55d1b28311f3",
   "metadata": {},
   "outputs": [],
   "source": [
    "15."
   ]
  },
  {
   "cell_type": "code",
   "execution_count": null,
   "id": "b389a009-6094-4ca0-a05d-46ebc35a2cd0",
   "metadata": {},
   "outputs": [],
   "source": [
    "16. max() (used witha list)\n",
    "returns the maximum value in the list"
   ]
  },
  {
   "cell_type": "code",
   "execution_count": 44,
   "id": "8235452f-857d-42c5-b93f-45c97fd9ca83",
   "metadata": {},
   "outputs": [
    {
     "data": {
      "text/plain": [
       "8"
      ]
     },
     "execution_count": 44,
     "metadata": {},
     "output_type": "execute_result"
    }
   ],
   "source": [
    "nums=[5,4,7,1,8]\n",
    "max_value=max(nums)\n",
    "max_value"
   ]
  },
  {
   "cell_type": "code",
   "execution_count": null,
   "id": "b71b2f61-3f1c-4aab-aafe-078fc6a99c41",
   "metadata": {},
   "outputs": [],
   "source": [
    "17.min()\n",
    "returns the minimum value in the list"
   ]
  },
  {
   "cell_type": "code",
   "execution_count": 45,
   "id": "34e37cee-893d-42fb-ad7b-09f67a49064a",
   "metadata": {},
   "outputs": [
    {
     "data": {
      "text/plain": [
       "1"
      ]
     },
     "execution_count": 45,
     "metadata": {},
     "output_type": "execute_result"
    }
   ],
   "source": [
    "nums=[5,4,7,1,8]\n",
    "min_value=min(nums)\n",
    "min_value"
   ]
  },
  {
   "cell_type": "code",
   "execution_count": null,
   "id": "613c7059-d1bd-40a1-a8fd-574abd3c5d28",
   "metadata": {},
   "outputs": [],
   "source": [
    "18. sum()\n",
    "returns the sum of all elements in the list"
   ]
  },
  {
   "cell_type": "code",
   "execution_count": 46,
   "id": "03503384-76b3-4c0d-b692-71ddef5fc3e7",
   "metadata": {},
   "outputs": [
    {
     "data": {
      "text/plain": [
       "25"
      ]
     },
     "execution_count": 46,
     "metadata": {},
     "output_type": "execute_result"
    }
   ],
   "source": [
    "nums=[5,4,7,1,8]\n",
    "sum(nums)"
   ]
  },
  {
   "cell_type": "code",
   "execution_count": null,
   "id": "266d16af-6a98-4143-b10e-f9c85ef8c818",
   "metadata": {},
   "outputs": [],
   "source": [
    "19. len()\n",
    "returns the number of elements in the list"
   ]
  },
  {
   "cell_type": "code",
   "execution_count": 47,
   "id": "bad21c79-7488-4deb-a40e-35bd28f13205",
   "metadata": {},
   "outputs": [
    {
     "data": {
      "text/plain": [
       "5"
      ]
     },
     "execution_count": 47,
     "metadata": {},
     "output_type": "execute_result"
    }
   ],
   "source": [
    "nums=[5,4,7,1,8]\n",
    "len(nums)"
   ]
  },
  {
   "cell_type": "code",
   "execution_count": 48,
   "id": "a3d84c7b-b1bf-43d0-9570-21b49ef37a88",
   "metadata": {},
   "outputs": [
    {
     "data": {
      "text/plain": [
       "5"
      ]
     },
     "execution_count": 48,
     "metadata": {},
     "output_type": "execute_result"
    }
   ],
   "source": [
    "fruits=['apple','banana','guava','cherry','banana']\n",
    "len(fruits)\n",
    "# fruits"
   ]
  },
  {
   "cell_type": "code",
   "execution_count": null,
   "id": "6e63a93e-bdba-4119-af65-df9d57f77523",
   "metadata": {},
   "outputs": [],
   "source": [
    "20. all()\n",
    "returns true if all ements in the list are true (or if it the list is empty)"
   ]
  },
  {
   "cell_type": "code",
   "execution_count": 49,
   "id": "10fae57e-49a1-4a63-a164-587a7f438bef",
   "metadata": {},
   "outputs": [
    {
     "data": {
      "text/plain": [
       "False"
      ]
     },
     "execution_count": 49,
     "metadata": {},
     "output_type": "execute_result"
    }
   ],
   "source": [
    "bool_list=[True,False,True]\n",
    "all(bool_list)"
   ]
  },
  {
   "cell_type": "code",
   "execution_count": 50,
   "id": "2fcaf3ab-7ff6-472b-87c4-3427299923e2",
   "metadata": {},
   "outputs": [
    {
     "data": {
      "text/plain": [
       "True"
      ]
     },
     "execution_count": 50,
     "metadata": {},
     "output_type": "execute_result"
    }
   ],
   "source": [
    "all(nums)"
   ]
  },
  {
   "cell_type": "code",
   "execution_count": null,
   "id": "28112715-83bd-4fcf-9d93-5781ec6af343",
   "metadata": {},
   "outputs": [],
   "source": [
    "21. any()\n",
    "returns true if any ements in the list are true . if  the list is empty it returns false"
   ]
  },
  {
   "cell_type": "code",
   "execution_count": 51,
   "id": "7826a060-90bd-4b21-aaeb-c289dad1727d",
   "metadata": {},
   "outputs": [
    {
     "data": {
      "text/plain": [
       "True"
      ]
     },
     "execution_count": 51,
     "metadata": {},
     "output_type": "execute_result"
    }
   ],
   "source": [
    "nums=[5,4,7,1,8,0]\n",
    "any(nums)"
   ]
  },
  {
   "cell_type": "code",
   "execution_count": 52,
   "id": "d14131ba-c875-44d5-a76b-57dc35884395",
   "metadata": {},
   "outputs": [
    {
     "data": {
      "text/plain": [
       "True"
      ]
     },
     "execution_count": 52,
     "metadata": {},
     "output_type": "execute_result"
    }
   ],
   "source": [
    "bool_list=[True,False,True]\n",
    "any(bool_list)"
   ]
  },
  {
   "cell_type": "code",
   "execution_count": 53,
   "id": "d963d1c7-cd66-4564-9500-d83577634187",
   "metadata": {},
   "outputs": [
    {
     "data": {
      "text/plain": [
       "False"
      ]
     },
     "execution_count": 53,
     "metadata": {},
     "output_type": "execute_result"
    }
   ],
   "source": [
    "bool_list=[False,False,False]\n",
    "any(bool_list)"
   ]
  },
  {
   "cell_type": "code",
   "execution_count": null,
   "id": "48247d42-85c6-480f-9fbe-e91a5dc0e5d2",
   "metadata": {},
   "outputs": [],
   "source": [
    "24. del statement\n",
    "deletes an element or a slice from the list this is no a method but a statement in python"
   ]
  },
  {
   "cell_type": "code",
   "execution_count": null,
   "id": "d056933b-5832-4c86-a7eb-a2002313f265",
   "metadata": {},
   "outputs": [],
   "source": [
    "25. sorted()\n",
    "returns a new sorted list from the elements of an iterable"
   ]
  },
  {
   "cell_type": "code",
   "execution_count": 54,
   "id": "de5fd035-09aa-4ef2-9453-40f1d272b59e",
   "metadata": {},
   "outputs": [
    {
     "data": {
      "text/plain": [
       "[0, 1, 4, 5, 7, 8]"
      ]
     },
     "execution_count": 54,
     "metadata": {},
     "output_type": "execute_result"
    }
   ],
   "source": [
    "nums=[5,4,7,1,8,0]\n",
    "sorted(nums)"
   ]
  },
  {
   "cell_type": "code",
   "execution_count": 55,
   "id": "2f84a907-f465-44a1-9082-d270cdbc28cc",
   "metadata": {},
   "outputs": [
    {
     "data": {
      "text/plain": [
       "['e', 'h', 'l', 'l', 'o']"
      ]
     },
     "execution_count": 55,
     "metadata": {},
     "output_type": "execute_result"
    }
   ],
   "source": [
    "sorted('hello')"
   ]
  },
  {
   "cell_type": "code",
   "execution_count": 59,
   "id": "80a62838-04ae-46ad-ba70-31fea518acf2",
   "metadata": {},
   "outputs": [
    {
     "data": {
      "text/plain": [
       "[0, 1, 4, 5, 7, 8]"
      ]
     },
     "execution_count": 59,
     "metadata": {},
     "output_type": "execute_result"
    }
   ],
   "source": [
    "nums=[5,4,7,1,8,0]\n",
    "nums.sort()\n",
    "nums"
   ]
  },
  {
   "cell_type": "code",
   "execution_count": 61,
   "id": "6791860f-e5ad-4d1f-b89b-33693f1fc12f",
   "metadata": {},
   "outputs": [],
   "source": [
    "list comprehension"
   ]
  },
  {
   "cell_type": "code",
   "execution_count": 62,
   "id": "2345f445-3634-4162-980a-df8e0e80ed15",
   "metadata": {},
   "outputs": [
    {
     "data": {
      "text/plain": [
       "[1, 4, 9, 16, 25]"
      ]
     },
     "execution_count": 62,
     "metadata": {},
     "output_type": "execute_result"
    }
   ],
   "source": [
    "squares=[i**2 for i in range(1,6)]\n",
    "squares"
   ]
  },
  {
   "cell_type": "code",
   "execution_count": 64,
   "id": "a0a69e2c-9430-4850-a461-05dc552e24dd",
   "metadata": {},
   "outputs": [
    {
     "data": {
      "text/plain": [
       "[3, 4, 5, 6]"
      ]
     },
     "execution_count": 64,
     "metadata": {},
     "output_type": "execute_result"
    }
   ],
   "source": [
    "new_list=[j+2 for j in range(1,5)]\n",
    "new_list"
   ]
  },
  {
   "cell_type": "code",
   "execution_count": 66,
   "id": "ac18cdfa-e8de-4fe9-a1f9-4592f752c801",
   "metadata": {},
   "outputs": [
    {
     "data": {
      "text/plain": [
       "[1, 4, 9, 16, 25]"
      ]
     },
     "execution_count": 66,
     "metadata": {},
     "output_type": "execute_result"
    }
   ],
   "source": [
    "squares=[]\n",
    "for i in range(1,6):\n",
    "    squares.append(i**2)\n",
    "\n",
    "squares"
   ]
  },
  {
   "cell_type": "code",
   "execution_count": null,
   "id": "a0ba212c-0137-4bc8-8782-c87b94b61ca4",
   "metadata": {},
   "outputs": [],
   "source": [
    "list comprehension with conditioon"
   ]
  },
  {
   "cell_type": "code",
   "execution_count": 67,
   "id": "d7f2c080-995b-49cf-b153-bdb27d8cd336",
   "metadata": {},
   "outputs": [
    {
     "data": {
      "text/plain": [
       "[4, 16, 36, 64, 100, 144, 196, 256, 324]"
      ]
     },
     "execution_count": 67,
     "metadata": {},
     "output_type": "execute_result"
    }
   ],
   "source": [
    "even_squares=[]\n",
    "for i in range(1,19):\n",
    "    if i %2==0:\n",
    "     even_squares.append(i**2)   \n",
    "even_squares"
   ]
  },
  {
   "cell_type": "code",
   "execution_count": 71,
   "id": "720af33b-b26e-4b07-a4c3-ffc726171a42",
   "metadata": {},
   "outputs": [
    {
     "data": {
      "text/plain": [
       "[4, 16, 36, 64, 100]"
      ]
     },
     "execution_count": 71,
     "metadata": {},
     "output_type": "execute_result"
    }
   ],
   "source": [
    "even_squares=[i**2 for i in range(1,11) if i%2==0]\n",
    "even_squares"
   ]
  },
  {
   "cell_type": "code",
   "execution_count": null,
   "id": "2e231b52-e415-4f7c-a880-81753795ec0f",
   "metadata": {},
   "outputs": [],
   "source": [
    "23. zip()\n"
   ]
  },
  {
   "cell_type": "code",
   "execution_count": 79,
   "id": "8b69e0ba-01f6-423f-94fa-621a48e67094",
   "metadata": {},
   "outputs": [
    {
     "ename": "AttributeError",
     "evalue": "'set' object has no attribute 'zip'",
     "output_type": "error",
     "traceback": [
      "\u001b[1;31m---------------------------------------------------------------------------\u001b[0m",
      "\u001b[1;31mAttributeError\u001b[0m                            Traceback (most recent call last)",
      "Cell \u001b[1;32mIn[79], line 3\u001b[0m\n\u001b[0;32m      1\u001b[0m a\u001b[38;5;241m=\u001b[39m{\u001b[38;5;124m'\u001b[39m\u001b[38;5;124mA\u001b[39m\u001b[38;5;124m'\u001b[39m,\u001b[38;5;124m'\u001b[39m\u001b[38;5;124mB\u001b[39m\u001b[38;5;124m'\u001b[39m,\u001b[38;5;124m'\u001b[39m\u001b[38;5;124mC\u001b[39m\u001b[38;5;124m'\u001b[39m}\n\u001b[0;32m      2\u001b[0m b\u001b[38;5;241m=\u001b[39m{\u001b[38;5;124m'\u001b[39m\u001b[38;5;124mD\u001b[39m\u001b[38;5;124m'\u001b[39m,\u001b[38;5;124m'\u001b[39m\u001b[38;5;124mE\u001b[39m\u001b[38;5;124m'\u001b[39m}\n\u001b[1;32m----> 3\u001b[0m rese\u001b[38;5;241m=\u001b[39ma\u001b[38;5;241m.\u001b[39mzip(b)\n\u001b[0;32m      4\u001b[0m rese\n",
      "\u001b[1;31mAttributeError\u001b[0m: 'set' object has no attribute 'zip'"
     ]
    }
   ],
   "source": [
    "a={'A','B','C'}\n",
    "b={'D','E'}\n",
    "rese=a.zip(b)\n",
    "rese"
   ]
  },
  {
   "cell_type": "code",
   "execution_count": null,
   "id": "4f937a46-47e9-45f1-9306-09a4325fdd98",
   "metadata": {},
   "outputs": [],
   "source": [
    "nested list comprehension"
   ]
  },
  {
   "cell_type": "code",
   "execution_count": 75,
   "id": "45eec9d5-5dd1-4154-a0dd-5004c4a1b427",
   "metadata": {},
   "outputs": [
    {
     "data": {
      "text/plain": [
       "[[0, 0, 0], [0, 1, 2], [0, 2, 4]]"
      ]
     },
     "execution_count": 75,
     "metadata": {},
     "output_type": "execute_result"
    }
   ],
   "source": [
    "matrix=[]\n",
    "for i in range(3):\n",
    "    row=[]\n",
    "    for j in range(3):\n",
    "        row.append(i*j)\n",
    "    matrix.append(row)\n",
    "matrix"
   ]
  },
  {
   "cell_type": "code",
   "execution_count": 72,
   "id": "cdb83a6a-5a6f-462a-b2ef-2ecd5020d933",
   "metadata": {},
   "outputs": [
    {
     "data": {
      "text/plain": [
       "[[0, 0, 0], [0, 1, 2], [0, 2, 4]]"
      ]
     },
     "execution_count": 72,
     "metadata": {},
     "output_type": "execute_result"
    }
   ],
   "source": [
    "matrix=[[i*j for j in range(3)] for i in range(3)]\n",
    "matrix"
   ]
  },
  {
   "cell_type": "code",
   "execution_count": 83,
   "id": "859c3bab-a199-4958-baff-78e4b67c2197",
   "metadata": {},
   "outputs": [
    {
     "data": {
      "text/plain": [
       "['wakeup', 'brush up', 'go for a run', 'breakfast', 'start working']"
      ]
     },
     "execution_count": 83,
     "metadata": {},
     "output_type": "execute_result"
    }
   ],
   "source": [
    "tasks=['wakeup','brush up','go for a run','start working']\n",
    "tasks.insert(3,'breakfast')\n",
    "tasks"
   ]
  },
  {
   "cell_type": "code",
   "execution_count": null,
   "id": "2c33c771-fcc5-4b23-bb5c-0f98c33809c0",
   "metadata": {},
   "outputs": [],
   "source": []
  },
  {
   "cell_type": "code",
   "execution_count": null,
   "id": "9b30abeb-9fe5-4b34-a17b-c6a2433282c6",
   "metadata": {},
   "outputs": [],
   "source": []
  }
 ],
 "metadata": {
  "kernelspec": {
   "display_name": "Python [conda env:base] *",
   "language": "python",
   "name": "conda-base-py"
  },
  "language_info": {
   "codemirror_mode": {
    "name": "ipython",
    "version": 3
   },
   "file_extension": ".py",
   "mimetype": "text/x-python",
   "name": "python",
   "nbconvert_exporter": "python",
   "pygments_lexer": "ipython3",
   "version": "3.12.7"
  }
 },
 "nbformat": 4,
 "nbformat_minor": 5
}
